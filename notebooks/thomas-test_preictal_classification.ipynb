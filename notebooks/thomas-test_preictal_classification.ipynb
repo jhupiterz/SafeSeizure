{
 "cells": [
  {
   "cell_type": "markdown",
   "id": "d2a75042",
   "metadata": {},
   "source": [
    "# Test models on unseen data"
   ]
  },
  {
   "cell_type": "markdown",
   "id": "38c9975d",
   "metadata": {},
   "source": [
    "## Overall process\n",
    "\n",
    "Split a segment into 2000 datapoints. For each split,\n",
    "\n",
    "* Noise reduction using ICA algorithm (fastICA from sklearn)\n",
    "* Wavelet transform\n",
    "* Features extraction (mean absolute value, average power, standard deviation, variance, mean, skewness, and Shannon entropy)\n",
    "* Pass through a pretrained model and see if the predicted classes are the same over multiple attempts (we don't know the stage of the segment, only that it is preictal)."
   ]
  },
  {
   "cell_type": "markdown",
   "id": "0d4a0240",
   "metadata": {},
   "source": [
    "## Imports"
   ]
  },
  {
   "cell_type": "code",
   "execution_count": 2,
   "id": "32723afa",
   "metadata": {
    "ExecuteTime": {
     "end_time": "2021-06-24T03:57:34.442067Z",
     "start_time": "2021-06-24T03:57:34.056908Z"
    }
   },
   "outputs": [],
   "source": [
    "import pywt\n",
    "from os import listdir, path, walk, makedirs\n",
    "import random\n",
    "import numpy as np\n",
    "from pyentrp import entropy\n",
    "from scipy.stats import median_absolute_deviation\n",
    "from sklearn.preprocessing import RobustScaler\n",
    "import pandas as pd\n",
    "import scipy.io\n",
    "from scipy.signal import spectrogram\n",
    "from scipy.signal import resample\n",
    "import matplotlib.pyplot as plt\n",
    "import seaborn as sns\n",
    "import warnings\n",
    "warnings.filterwarnings('ignore')"
   ]
  },
  {
   "cell_type": "code",
   "execution_count": 3,
   "id": "800cc227",
   "metadata": {
    "ExecuteTime": {
     "end_time": "2021-06-24T03:57:35.120751Z",
     "start_time": "2021-06-24T03:57:34.829367Z"
    }
   },
   "outputs": [],
   "source": [
    "from sklearn.linear_model import LogisticRegression\n",
    "from sklearn.ensemble import RandomForestClassifier, GradientBoostingClassifier\n",
    "from sklearn.neighbors import KNeighborsClassifier\n",
    "from sklearn.svm import SVC\n",
    "from sklearn.model_selection import train_test_split\n",
    "from sklearn.model_selection import cross_validate\n",
    "from sklearn.metrics import plot_confusion_matrix, confusion_matrix, f1_score, accuracy_score, recall_score, precision_score, make_scorer\n",
    "import xgboost as xgb"
   ]
  },
  {
   "cell_type": "code",
   "execution_count": 4,
   "id": "7d47dbf6",
   "metadata": {
    "ExecuteTime": {
     "end_time": "2021-06-24T03:57:35.974983Z",
     "start_time": "2021-06-24T03:57:35.969480Z"
    }
   },
   "outputs": [],
   "source": [
    "import pickle"
   ]
  },
  {
   "cell_type": "markdown",
   "id": "c90f28d1",
   "metadata": {},
   "source": [
    "## ICA noise reduction"
   ]
  },
  {
   "cell_type": "code",
   "execution_count": 5,
   "id": "bec0d8a4",
   "metadata": {
    "ExecuteTime": {
     "end_time": "2021-06-24T03:57:43.804992Z",
     "start_time": "2021-06-24T03:57:43.799271Z"
    }
   },
   "outputs": [],
   "source": [
    "from sklearn.decomposition import FastICA"
   ]
  },
  {
   "cell_type": "markdown",
   "id": "5f6838c1",
   "metadata": {},
   "source": [
    "## Feature extraction"
   ]
  },
  {
   "cell_type": "code",
   "execution_count": 6,
   "id": "f4e503f0",
   "metadata": {
    "ExecuteTime": {
     "end_time": "2021-06-24T03:57:47.327444Z",
     "start_time": "2021-06-24T03:57:47.321395Z"
    }
   },
   "outputs": [],
   "source": [
    "# mean absolute value, average power, standard deviation, variance, mean, skewness, and Shannon entropy"
   ]
  },
  {
   "cell_type": "code",
   "execution_count": 7,
   "id": "56a21010",
   "metadata": {
    "ExecuteTime": {
     "end_time": "2021-06-24T03:57:47.682391Z",
     "start_time": "2021-06-24T03:57:47.676390Z"
    }
   },
   "outputs": [],
   "source": [
    "def flatten_list(l):\n",
    "    flat_list = []\n",
    "    for sublist in l:\n",
    "        for item in sublist:\n",
    "            flat_list.append(item)\n",
    "    return flat_list"
   ]
  },
  {
   "cell_type": "code",
   "execution_count": 8,
   "id": "75409500",
   "metadata": {
    "ExecuteTime": {
     "end_time": "2021-06-24T03:57:47.989508Z",
     "start_time": "2021-06-24T03:57:47.981276Z"
    }
   },
   "outputs": [],
   "source": [
    "def mean_absolute_value(array):\n",
    "    absolute_values = []\n",
    "    for i in range(len(array)):\n",
    "        absolute_values.append(abs(array[i]))\n",
    "    mean_absolute_value = np.asarray(absolute_values).sum()*(1/len(array))\n",
    "    #print(mean_absolute_value)\n",
    "    return mean_absolute_value"
   ]
  },
  {
   "cell_type": "code",
   "execution_count": 9,
   "id": "ce2ab081",
   "metadata": {
    "ExecuteTime": {
     "end_time": "2021-06-24T03:57:48.282119Z",
     "start_time": "2021-06-24T03:57:48.275179Z"
    }
   },
   "outputs": [],
   "source": [
    "def average_power(array):\n",
    "    average_power_values = []\n",
    "    for i in range(len(array)):\n",
    "        average_power_values.append(abs(array[i])**2)\n",
    "    average_power_value = np.asarray(average_power_values).sum()*(1/len(array))\n",
    "    #print(average_power_value)\n",
    "    return average_power_value"
   ]
  },
  {
   "cell_type": "code",
   "execution_count": 10,
   "id": "e236ebcf",
   "metadata": {
    "ExecuteTime": {
     "end_time": "2021-06-24T03:57:48.754842Z",
     "start_time": "2021-06-24T03:57:48.748851Z"
    }
   },
   "outputs": [],
   "source": [
    "def shan(d1):\n",
    "    sh1=[]\n",
    "    d1=np.rint(d1)\n",
    "    for i in range(d1.shape[0]):\n",
    "        X=d1[i]\n",
    "        sh1.append(entropy.shannon_entropy(X))\n",
    "    return(sh1)"
   ]
  },
  {
   "cell_type": "code",
   "execution_count": 11,
   "id": "caf3d1f5",
   "metadata": {
    "ExecuteTime": {
     "end_time": "2021-06-24T03:57:49.403173Z",
     "start_time": "2021-06-24T03:57:49.390275Z"
    }
   },
   "outputs": [],
   "source": [
    "def feature_extraction(decomposed_signals):\n",
    "    mav = []\n",
    "    avp = []\n",
    "    std = []\n",
    "    var = []\n",
    "    mean = []\n",
    "    for coeff in decomposed_signals:\n",
    "        mav_electrode = []\n",
    "        avp_electrode = []\n",
    "        std_electrode = []\n",
    "        var_electrode = []\n",
    "        mean_electrode = []\n",
    "        for electrode in coeff:\n",
    "            mav_electrode.append(mean_absolute_value(electrode))\n",
    "            avp_electrode.append(average_power(electrode))\n",
    "            std_electrode.append(np.std(electrode))\n",
    "            var_electrode.append(np.var(electrode))\n",
    "            mean_electrode.append(np.mean(electrode))\n",
    "        mav.append(mav_electrode)\n",
    "        avp.append(avp_electrode)\n",
    "        std.append(std_electrode)\n",
    "        var.append(var_electrode)\n",
    "        mean.append(mean_electrode)\n",
    "    mav = flatten_list(mav)\n",
    "    avp = flatten_list(avp)\n",
    "    std = flatten_list(std)\n",
    "    var = flatten_list(var)\n",
    "    mean = flatten_list(mean)\n",
    "    shan_ent = []\n",
    "    for i in range(len(decomposed_signals)):\n",
    "        shan_ent.append(shan(coeffs[i]))\n",
    "    shan_ent = flatten_list(shan_ent)\n",
    "    data = np.vstack((np.array(mav), np.array(avp), \n",
    "                     np.array(std), np.array(var), np.array(mean), np.array(shan_ent)))\n",
    "    #data = pd.DataFrame(data)\n",
    "    features = data.T\n",
    "    #features.columns = ['mean_abs_value', 'average_power', 'std', 'var', 'mean', 'shannon_entropy']\n",
    "\n",
    "    return features"
   ]
  },
  {
   "cell_type": "code",
   "execution_count": 26,
   "id": "181cbc5c",
   "metadata": {
    "ExecuteTime": {
     "end_time": "2021-06-24T04:03:47.640506Z",
     "start_time": "2021-06-24T04:03:47.632962Z"
    }
   },
   "outputs": [],
   "source": [
    "import re \n",
    "\n",
    "def tryint(s):\n",
    "    try:\n",
    "        return int(s)\n",
    "    except:\n",
    "        return s\n",
    "\n",
    "def alphanum_key(s):\n",
    "    \"\"\" Turn a string into a list of string and number chunks.\n",
    "        \"z23a\" -> [\"z\", 23, \"a\"]\n",
    "    \"\"\"\n",
    "    return [ tryint(c) for c in re.split('([0-9]+)', s) ]\n",
    "\n",
    "def sort_nicely(l):\n",
    "    \"\"\" Sort the given list in the way that humans expect.\n",
    "    \"\"\"\n",
    "    l.sort(key=alphanum_key)\n",
    "    \n",
    "    return l"
   ]
  },
  {
   "cell_type": "markdown",
   "id": "7f355616",
   "metadata": {},
   "source": [
    " ## Split segment"
   ]
  },
  {
   "cell_type": "code",
   "execution_count": 46,
   "id": "213f214d",
   "metadata": {
    "ExecuteTime": {
     "end_time": "2021-06-24T04:16:05.313172Z",
     "start_time": "2021-06-24T04:16:05.010741Z"
    }
   },
   "outputs": [],
   "source": [
    "#change filename as required, ensure the target directory is empy\n",
    "\n",
    "segment_size = 2000\n",
    "\n",
    "filenumber = 1\n",
    "\n",
    "temp = pd.read_csv('test_segment_21.csv')\n",
    "    \n",
    "for j in range(temp.shape[0]):   #iterate through all sensors\n",
    "    idx = 0\n",
    "    while idx + segment_size <= len(temp.iloc[0]):\n",
    "        segment = temp.iloc[j][idx:idx + segment_size]\n",
    "        segment.to_csv(f'test_segment_split_csv/{filenumber}.csv')\n",
    "\n",
    "        filenumber += 1\n",
    "        idx = idx + segment_size\n"
   ]
  },
  {
   "cell_type": "markdown",
   "id": "2df87f88",
   "metadata": {},
   "source": [
    "## Feature extraction for each segment"
   ]
  },
  {
   "cell_type": "code",
   "execution_count": 28,
   "id": "a6f48d1c",
   "metadata": {
    "ExecuteTime": {
     "end_time": "2021-06-24T04:07:59.009872Z",
     "start_time": "2021-06-24T04:07:52.404080Z"
    },
    "scrolled": true
   },
   "outputs": [
    {
     "name": "stdout",
     "output_type": "stream",
     "text": [
      "16 (4000, 6)\n"
     ]
    }
   ],
   "source": [
    "# Pipeline: ICA -> Wavelet -> Feature extraction as array -> build target vector\n",
    "ica_transformer = FastICA(n_components= 10,max_iter= 3000000, random_state=0, tol=0.1)\n",
    "wavelet = pywt.Wavelet('db4')\n",
    "features = []\n",
    "#target = []\n",
    "\n",
    "filelist = []\n",
    "\n",
    "for root, dirs, files in walk('test_segment_split_csv/'):\n",
    "    for f in files:\n",
    "        filelist.append(path.join(root,f))\n",
    "filelist = sort_nicely(filelist)\n",
    "            \n",
    "for f in filelist:\n",
    "    segment = pd.read_csv(f)\n",
    "    #segment_scaled = robust_scaler.fit_transform(segment)\n",
    "    segment_transformed = ica_transformer.fit_transform(segment)\n",
    "    coeffs = pywt.wavedec(segment_transformed, wavelet, level = 1)\n",
    "    segment_features = feature_extraction(coeffs)\n",
    "    np.asarray(features.append(segment_features))\n",
    "    #print('class:', f.split('/')[1])\n",
    "    #target.append(f.split('/')[1])\n",
    "\n",
    "print(len(features), (features[0].shape))#, target, len(target))"
   ]
  },
  {
   "cell_type": "code",
   "execution_count": 29,
   "id": "d01c8c1e",
   "metadata": {
    "ExecuteTime": {
     "end_time": "2021-06-24T04:08:06.772747Z",
     "start_time": "2021-06-24T04:08:06.764782Z"
    }
   },
   "outputs": [],
   "source": [
    "# flatten the ndarray\n",
    "flatten_data = np.array(features).reshape(len(features),-1)\n",
    "del features\n",
    "#target = np.array(target)"
   ]
  },
  {
   "cell_type": "markdown",
   "id": "7410f45c",
   "metadata": {},
   "source": [
    "## Logistic regression"
   ]
  },
  {
   "cell_type": "code",
   "execution_count": 30,
   "id": "7e029452",
   "metadata": {
    "ExecuteTime": {
     "end_time": "2021-06-24T04:08:14.347969Z",
     "start_time": "2021-06-24T04:08:14.340649Z"
    }
   },
   "outputs": [],
   "source": [
    "with open('logistic_regression_model', 'rb') as f:\n",
    "    log_reg = pickle.load(f)"
   ]
  },
  {
   "cell_type": "code",
   "execution_count": 47,
   "id": "bc276253",
   "metadata": {
    "ExecuteTime": {
     "end_time": "2021-06-24T04:16:17.271356Z",
     "start_time": "2021-06-24T04:16:17.263510Z"
    }
   },
   "outputs": [],
   "source": [
    "lr = log_reg.predict(flatten_data)"
   ]
  },
  {
   "cell_type": "markdown",
   "id": "c331f18a",
   "metadata": {},
   "source": [
    "## Support Vector Machines"
   ]
  },
  {
   "cell_type": "markdown",
   "id": "20505062",
   "metadata": {},
   "source": [
    "### Linear kernel"
   ]
  },
  {
   "cell_type": "code",
   "execution_count": 33,
   "id": "78321965",
   "metadata": {
    "ExecuteTime": {
     "end_time": "2021-06-24T04:09:59.380748Z",
     "start_time": "2021-06-24T04:09:57.917688Z"
    },
    "scrolled": true
   },
   "outputs": [],
   "source": [
    "with open('svc_linear_model', 'rb') as f:\n",
    "    svc_linear = pickle.load(f)"
   ]
  },
  {
   "cell_type": "code",
   "execution_count": 48,
   "id": "665167e1",
   "metadata": {
    "ExecuteTime": {
     "end_time": "2021-06-24T04:16:25.611883Z",
     "start_time": "2021-06-24T04:16:23.210639Z"
    }
   },
   "outputs": [],
   "source": [
    "svcl = svc_linear.predict(flatten_data)"
   ]
  },
  {
   "cell_type": "markdown",
   "id": "190e79ca",
   "metadata": {},
   "source": [
    "### Polynomial kernel"
   ]
  },
  {
   "cell_type": "code",
   "execution_count": 39,
   "id": "65352d9c",
   "metadata": {
    "ExecuteTime": {
     "end_time": "2021-06-24T04:12:27.393930Z",
     "start_time": "2021-06-24T04:12:26.161314Z"
    }
   },
   "outputs": [],
   "source": [
    "with open('svc_polynomial_model', 'rb') as f:\n",
    "    svc_poly = pickle.load(f)"
   ]
  },
  {
   "cell_type": "code",
   "execution_count": 66,
   "id": "c8446a35",
   "metadata": {
    "ExecuteTime": {
     "end_time": "2021-06-24T04:34:10.505841Z",
     "start_time": "2021-06-24T04:34:07.955387Z"
    }
   },
   "outputs": [],
   "source": [
    "svcp = svc_poly.predict(flatten_data)"
   ]
  },
  {
   "cell_type": "markdown",
   "id": "4769aaef",
   "metadata": {},
   "source": [
    "## KNeighbors Classifier"
   ]
  },
  {
   "cell_type": "code",
   "execution_count": 41,
   "id": "cfeb1733",
   "metadata": {
    "ExecuteTime": {
     "end_time": "2021-06-24T04:12:42.757108Z",
     "start_time": "2021-06-24T04:12:41.167194Z"
    }
   },
   "outputs": [],
   "source": [
    "with open('kneighbors_model', 'rb') as f:\n",
    "    knn = pickle.load(f)"
   ]
  },
  {
   "cell_type": "code",
   "execution_count": 50,
   "id": "bbb1d4d8",
   "metadata": {
    "ExecuteTime": {
     "end_time": "2021-06-24T04:16:39.530082Z",
     "start_time": "2021-06-24T04:16:38.161690Z"
    }
   },
   "outputs": [],
   "source": [
    "kn = knn.predict(flatten_data)"
   ]
  },
  {
   "cell_type": "markdown",
   "id": "83a3b8cc",
   "metadata": {},
   "source": [
    "## Ensemble classifiers"
   ]
  },
  {
   "cell_type": "code",
   "execution_count": 42,
   "id": "eb037107",
   "metadata": {
    "ExecuteTime": {
     "end_time": "2021-06-24T04:13:54.984357Z",
     "start_time": "2021-06-24T04:13:54.957189Z"
    }
   },
   "outputs": [],
   "source": [
    "with open('random_forest_model', 'rb') as f:\n",
    "    random_forest = pickle.load(f)"
   ]
  },
  {
   "cell_type": "code",
   "execution_count": 51,
   "id": "f1c2a07e",
   "metadata": {
    "ExecuteTime": {
     "end_time": "2021-06-24T04:16:43.024485Z",
     "start_time": "2021-06-24T04:16:43.001457Z"
    }
   },
   "outputs": [],
   "source": [
    "rf = random_forest.predict(flatten_data)"
   ]
  },
  {
   "cell_type": "markdown",
   "id": "e23368ba",
   "metadata": {},
   "source": [
    "## Gradient Boosting"
   ]
  },
  {
   "cell_type": "code",
   "execution_count": 44,
   "id": "704d6d97",
   "metadata": {
    "ExecuteTime": {
     "end_time": "2021-06-24T04:14:59.005146Z",
     "start_time": "2021-06-24T04:14:58.013341Z"
    }
   },
   "outputs": [],
   "source": [
    "with open('gradient_boosting_model', 'rb') as f:\n",
    "    gradient_boosting = pickle.load(f)"
   ]
  },
  {
   "cell_type": "code",
   "execution_count": 52,
   "id": "6346718a",
   "metadata": {
    "ExecuteTime": {
     "end_time": "2021-06-24T04:16:49.432084Z",
     "start_time": "2021-06-24T04:16:49.379626Z"
    }
   },
   "outputs": [],
   "source": [
    "gb = gradient_boosting.predict(flatten_data)"
   ]
  },
  {
   "cell_type": "markdown",
   "id": "da2e0824",
   "metadata": {},
   "source": [
    "# Compare results"
   ]
  },
  {
   "cell_type": "code",
   "execution_count": 88,
   "id": "7a4e1f59",
   "metadata": {
    "ExecuteTime": {
     "end_time": "2021-06-24T04:44:49.691470Z",
     "start_time": "2021-06-24T04:44:49.411997Z"
    }
   },
   "outputs": [
    {
     "data": {
      "text/plain": [
       "<matplotlib.legend.Legend at 0x7f946ccaad60>"
      ]
     },
     "execution_count": 88,
     "metadata": {},
     "output_type": "execute_result"
    },
    {
     "data": {
      "image/png": "[encoded data removed]",
      "text/plain": [
       "<Figure size 1440x1080 with 1 Axes>"
      ]
     },
     "metadata": {},
     "output_type": "display_data"
    }
   ],
   "source": [
    "plt.figure(figsize=(20,15))\n",
    "ax = plt.gca()\n",
    "ax.set_xlabel('Predicted Class')\n",
    "ax.set_ylabel('Count')\n",
    "plt.hist(x=(lr,kn,gb, rf, svcl, svcp), label=('Logistic Regression', 'K-neighbors','Gradient Boosting', \n",
    "                                              'Random Forest','SVC Linear', 'SVC Polynomial'),bins=3, density=True)\n",
    "plt.legend()"
   ]
  },
  {
   "cell_type": "code",
   "execution_count": null,
   "id": "047c0bcd",
   "metadata": {},
   "outputs": [],
   "source": []
  }
 ],
 "metadata": {
  "kernelspec": {
   "display_name": "Python 3",
   "language": "python",
   "name": "python3"
  },
  "language_info": {
   "codemirror_mode": {
    "name": "ipython",
    "version": 3
   },
   "file_extension": ".py",
   "mimetype": "text/x-python",
   "name": "python",
   "nbconvert_exporter": "python",
   "pygments_lexer": "ipython3",
   "version": "3.8.9"
  },
  "toc": {
   "base_numbering": 1,
   "nav_menu": {},
   "number_sections": true,
   "sideBar": true,
   "skip_h1_title": false,
   "title_cell": "Table of Contents",
   "title_sidebar": "Contents",
   "toc_cell": false,
   "toc_position": {},
   "toc_section_display": true,
   "toc_window_display": false
  },
  "varInspector": {
   "cols": {
    "lenName": 16,
    "lenType": 16,
    "lenVar": 40
   },
   "kernels_config": {
    "python": {
     "delete_cmd_postfix": "",
     "delete_cmd_prefix": "del ",
     "library": "var_list.py",
     "varRefreshCmd": "print(var_dic_list())"
    },
    "r": {
     "delete_cmd_postfix": ") ",
     "delete_cmd_prefix": "rm(",
     "library": "var_list.r",
     "varRefreshCmd": "cat(var_dic_list()) "
    }
   },
   "types_to_exclude": [
    "module",
    "function",
    "builtin_function_or_method",
    "instance",
    "_Feature"
   ],
   "window_display": false
  }
 },
 "nbformat": 4,
 "nbformat_minor": 5
}
