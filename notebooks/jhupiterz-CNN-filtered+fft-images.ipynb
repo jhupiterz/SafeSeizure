{
 "cells": [
  {
   "cell_type": "markdown",
   "id": "33164e8b",
   "metadata": {},
   "source": [
    "# CNN with filtered + fft images"
   ]
  },
  {
   "cell_type": "code",
   "execution_count": 10,
   "id": "64d0ea11",
   "metadata": {},
   "outputs": [],
   "source": [
    "import tensorflow as tf\n",
    "import numpy as np\n",
    "import pandas as pd\n",
    "import statistics\n",
    "\n",
    "from tensorflow import keras\n",
    "from tensorflow.keras import layers\n",
    "from tensorflow.keras.models import Sequential\n",
    "from tensorflow.keras.callbacks import EarlyStopping\n",
    "\n",
    "from scipy import signal\n",
    "from statsmodels.tsa.stattools import acf, pacf\n",
    "from statsmodels.graphics.tsaplots import plot_acf, plot_pacf\n",
    "\n",
    "import matplotlib.pyplot as plt\n",
    "import matplotlib.image as mpimg\n",
    "from scipy.fft import fftshift\n",
    "\n",
    "import os\n",
    "from PIL import Image\n",
    "from scipy.signal import spectrogram"
   ]
  },
  {
   "cell_type": "markdown",
   "id": "cdb3ed72",
   "metadata": {},
   "source": [
    "## Images parameters"
   ]
  },
  {
   "cell_type": "code",
   "execution_count": 30,
   "id": "ac112a20",
   "metadata": {},
   "outputs": [],
   "source": [
    "images_path = '../raw_data/images'\n",
    "\n",
    "batch_size = 32\n",
    "img_height = 128\n",
    "img_width = 128"
   ]
  },
  {
   "cell_type": "markdown",
   "id": "c07a46dc",
   "metadata": {},
   "source": [
    "## Train and validation sets"
   ]
  },
  {
   "cell_type": "code",
   "execution_count": 31,
   "id": "aff7d426",
   "metadata": {},
   "outputs": [
    {
     "name": "stdout",
     "output_type": "stream",
     "text": [
      "Found 2142 files belonging to 2 classes.\n",
      "Using 1714 files for training.\n"
     ]
    }
   ],
   "source": [
    "train_ds = tf.keras.preprocessing.image_dataset_from_directory(\n",
    "  images_path,\n",
    "  validation_split=0.2,\n",
    "  subset=\"training\",\n",
    "  seed=123,\n",
    "  image_size=(img_height, img_width),\n",
    "  batch_size=batch_size)"
   ]
  },
  {
   "cell_type": "code",
   "execution_count": 32,
   "id": "60d0611f",
   "metadata": {},
   "outputs": [
    {
     "name": "stdout",
     "output_type": "stream",
     "text": [
      "Found 2142 files belonging to 2 classes.\n",
      "Using 428 files for validation.\n"
     ]
    }
   ],
   "source": [
    "val_ds = tf.keras.preprocessing.image_dataset_from_directory(\n",
    "  images_path,\n",
    "  validation_split=0.2,\n",
    "  subset=\"validation\",\n",
    "  seed=123,\n",
    "  image_size=(img_height, img_width),\n",
    "  batch_size=batch_size)"
   ]
  },
  {
   "cell_type": "markdown",
   "id": "fff09533",
   "metadata": {},
   "source": [
    "**Make sure class names are correct**"
   ]
  },
  {
   "cell_type": "code",
   "execution_count": 33,
   "id": "8f53caba",
   "metadata": {},
   "outputs": [
    {
     "name": "stdout",
     "output_type": "stream",
     "text": [
      "['interictal', 'preictal']\n"
     ]
    }
   ],
   "source": [
    "class_names = train_ds.class_names\n",
    "print(class_names)"
   ]
  },
  {
   "cell_type": "markdown",
   "id": "aca70ed7",
   "metadata": {},
   "source": [
    "## Color normalization"
   ]
  },
  {
   "cell_type": "code",
   "execution_count": 34,
   "id": "91657718",
   "metadata": {},
   "outputs": [
    {
     "name": "stdout",
     "output_type": "stream",
     "text": [
      "0.0 0.3571998\n"
     ]
    }
   ],
   "source": [
    "normalization_layer = layers.experimental.preprocessing.Rescaling(1./255)\n",
    "normalized_ds = train_ds.map(lambda x, y: (normalization_layer(x), y))\n",
    "image_batch, labels_batch = next(iter(normalized_ds))\n",
    "\n",
    "# test\n",
    "first_image = image_batch[0]\n",
    "print(np.min(first_image), np.max(first_image))"
   ]
  },
  {
   "cell_type": "code",
   "execution_count": 51,
   "id": "867466e4",
   "metadata": {},
   "outputs": [
    {
     "data": {
      "text/plain": [
       "<tf.Tensor: shape=(128, 128, 3), dtype=float32, numpy=\n",
       "array([[[0.01099878, 0.01099878, 0.01099878],\n",
       "        [0.0239277 , 0.0239277 , 0.0239277 ],\n",
       "        [0.01559436, 0.01559436, 0.01559436],\n",
       "        ...,\n",
       "        [0.01550245, 0.01550245, 0.01550245],\n",
       "        [0.02218137, 0.02218137, 0.02218137],\n",
       "        [0.0140625 , 0.0140625 , 0.0140625 ]],\n",
       "\n",
       "       [[0.01099878, 0.01099878, 0.01099878],\n",
       "        [0.0239277 , 0.0239277 , 0.0239277 ],\n",
       "        [0.01559436, 0.01559436, 0.01559436],\n",
       "        ...,\n",
       "        [0.01550245, 0.01550245, 0.01550245],\n",
       "        [0.02218137, 0.02218137, 0.02218137],\n",
       "        [0.0140625 , 0.0140625 , 0.0140625 ]],\n",
       "\n",
       "       [[0.01099878, 0.01099878, 0.01099878],\n",
       "        [0.0239277 , 0.0239277 , 0.0239277 ],\n",
       "        [0.01559436, 0.01559436, 0.01559436],\n",
       "        ...,\n",
       "        [0.01550245, 0.01550245, 0.01550245],\n",
       "        [0.02218137, 0.02218137, 0.02218137],\n",
       "        [0.0140625 , 0.0140625 , 0.0140625 ]],\n",
       "\n",
       "       ...,\n",
       "\n",
       "       [[0.        , 0.        , 0.        ],\n",
       "        [0.        , 0.        , 0.        ],\n",
       "        [0.        , 0.        , 0.        ],\n",
       "        ...,\n",
       "        [0.        , 0.        , 0.        ],\n",
       "        [0.        , 0.        , 0.        ],\n",
       "        [0.        , 0.        , 0.        ]],\n",
       "\n",
       "       [[0.        , 0.        , 0.        ],\n",
       "        [0.        , 0.        , 0.        ],\n",
       "        [0.        , 0.        , 0.        ],\n",
       "        ...,\n",
       "        [0.        , 0.        , 0.        ],\n",
       "        [0.        , 0.        , 0.        ],\n",
       "        [0.        , 0.        , 0.        ]],\n",
       "\n",
       "       [[0.        , 0.        , 0.        ],\n",
       "        [0.        , 0.        , 0.        ],\n",
       "        [0.        , 0.        , 0.        ],\n",
       "        ...,\n",
       "        [0.        , 0.        , 0.        ],\n",
       "        [0.        , 0.        , 0.        ],\n",
       "        [0.        , 0.        , 0.        ]]], dtype=float32)>"
      ]
     },
     "execution_count": 51,
     "metadata": {},
     "output_type": "execute_result"
    }
   ],
   "source": [
    "first_image"
   ]
  },
  {
   "cell_type": "markdown",
   "id": "a44647f5",
   "metadata": {},
   "source": [
    "## Model architecture"
   ]
  },
  {
   "cell_type": "code",
   "execution_count": 67,
   "id": "01064961",
   "metadata": {},
   "outputs": [],
   "source": [
    "model = Sequential([\n",
    "  layers.experimental.preprocessing.Rescaling(1./255, input_shape=(img_height, img_width, 3)),\n",
    "  layers.Conv2D(8, 3, padding='same', activation='relu'),\n",
    "  layers.MaxPooling2D(),\n",
    "  layers.Conv2D(16, 3, padding='same', activation='relu'),\n",
    "  layers.MaxPooling2D(),\n",
    "  layers.Conv2D(32, 3, padding='same', activation='relu'),\n",
    "  layers.MaxPooling2D(),\n",
    "  layers.Conv2D(64, 3, padding='same', activation='relu'),\n",
    "  layers.Flatten(),\n",
    "  layers.Dense(1, activation='sigmoid'),\n",
    "])"
   ]
  },
  {
   "cell_type": "markdown",
   "id": "0a7b4d5a",
   "metadata": {},
   "source": [
    "## Compiling + Summary"
   ]
  },
  {
   "cell_type": "code",
   "execution_count": 68,
   "id": "2e703432",
   "metadata": {},
   "outputs": [],
   "source": [
    "from tensorflow.keras.metrics import Recall\n",
    "from tensorflow.keras.metrics import Precision\n",
    "recall = Recall()\n",
    "precision = Precision()"
   ]
  },
  {
   "cell_type": "code",
   "execution_count": 69,
   "id": "0d9dd99e",
   "metadata": {},
   "outputs": [],
   "source": [
    "model.compile(optimizer='adam',\n",
    "              loss='binary_crossentropy',\n",
    "              metrics=['accuracy', recall, precision])"
   ]
  },
  {
   "cell_type": "code",
   "execution_count": 70,
   "id": "6e0529c0",
   "metadata": {},
   "outputs": [
    {
     "name": "stdout",
     "output_type": "stream",
     "text": [
      "Model: \"sequential_9\"\n",
      "_________________________________________________________________\n",
      "Layer (type)                 Output Shape              Param #   \n",
      "=================================================================\n",
      "rescaling_11 (Rescaling)     (None, 128, 128, 3)       0         \n",
      "_________________________________________________________________\n",
      "conv2d_36 (Conv2D)           (None, 128, 128, 8)       224       \n",
      "_________________________________________________________________\n",
      "max_pooling2d_27 (MaxPooling (None, 64, 64, 8)         0         \n",
      "_________________________________________________________________\n",
      "conv2d_37 (Conv2D)           (None, 64, 64, 16)        1168      \n",
      "_________________________________________________________________\n",
      "max_pooling2d_28 (MaxPooling (None, 32, 32, 16)        0         \n",
      "_________________________________________________________________\n",
      "conv2d_38 (Conv2D)           (None, 32, 32, 32)        4640      \n",
      "_________________________________________________________________\n",
      "max_pooling2d_29 (MaxPooling (None, 16, 16, 32)        0         \n",
      "_________________________________________________________________\n",
      "conv2d_39 (Conv2D)           (None, 16, 16, 64)        18496     \n",
      "_________________________________________________________________\n",
      "flatten_9 (Flatten)          (None, 16384)             0         \n",
      "_________________________________________________________________\n",
      "dense_9 (Dense)              (None, 1)                 16385     \n",
      "=================================================================\n",
      "Total params: 40,913\n",
      "Trainable params: 40,913\n",
      "Non-trainable params: 0\n",
      "_________________________________________________________________\n"
     ]
    }
   ],
   "source": [
    "model.summary()"
   ]
  },
  {
   "cell_type": "markdown",
   "id": "1c768797",
   "metadata": {},
   "source": [
    "## Fitting + learning curves"
   ]
  },
  {
   "cell_type": "code",
   "execution_count": 113,
   "id": "b4c3320a",
   "metadata": {},
   "outputs": [
    {
     "name": "stdout",
     "output_type": "stream",
     "text": [
      "Epoch 1/20\n",
      "54/54 [==============================] - 9s 147ms/step - loss: 0.1045 - accuracy: 0.9621 - recall_8: 0.9573 - precision_7: 0.9247 - val_loss: 0.2513 - val_accuracy: 0.9159 - val_recall_8: 0.8934 - val_precision_7: 0.8258\n",
      "Epoch 2/20\n",
      "54/54 [==============================] - 7s 130ms/step - loss: 0.0727 - accuracy: 0.9778 - recall_8: 0.9759 - precision_7: 0.9546 - val_loss: 0.2440 - val_accuracy: 0.9229 - val_recall_8: 0.8770 - val_precision_7: 0.8560\n",
      "Epoch 3/20\n",
      "54/54 [==============================] - 7s 130ms/step - loss: 0.0565 - accuracy: 0.9842 - recall_8: 0.9814 - precision_7: 0.9689 - val_loss: 0.2527 - val_accuracy: 0.9136 - val_recall_8: 0.8770 - val_precision_7: 0.8295\n",
      "Epoch 4/20\n",
      "54/54 [==============================] - 7s 130ms/step - loss: 0.0484 - accuracy: 0.9825 - recall_8: 0.9833 - precision_7: 0.9619 - val_loss: 0.2588 - val_accuracy: 0.9206 - val_recall_8: 0.8525 - val_precision_7: 0.8667\n",
      "Epoch 5/20\n",
      "54/54 [==============================] - 7s 130ms/step - loss: 0.0364 - accuracy: 0.9901 - recall_8: 0.9907 - precision_7: 0.9780 - val_loss: 0.2664 - val_accuracy: 0.9276 - val_recall_8: 0.9016 - val_precision_7: 0.8527\n"
     ]
    }
   ],
   "source": [
    "class_weight = {0: 1.,\n",
    "                1: 10}\n",
    "epochs=20\n",
    "callback = EarlyStopping(monitor='val_loss', patience=3)\n",
    "history = model.fit(\n",
    "  train_ds,\n",
    "  validation_data=val_ds,\n",
    "  epochs=epochs,\n",
    "  class_weight=class_weight,\n",
    "  callbacks=[callback]\n",
    ")"
   ]
  },
  {
   "cell_type": "code",
   "execution_count": 88,
   "id": "1e61c7e5",
   "metadata": {},
   "outputs": [
    {
     "data": {
      "image/png": "[encoded data removed]",
      "text/plain": [
       "<Figure size 576x576 with 2 Axes>"
      ]
     },
     "metadata": {
      "needs_background": "light"
     },
     "output_type": "display_data"
    }
   ],
   "source": [
    "acc = history.history['accuracy']\n",
    "val_acc = history.history['val_accuracy']\n",
    "\n",
    "loss = history.history['loss']\n",
    "val_loss = history.history['val_loss']\n",
    "\n",
    "#epochs_range = range(13)\n",
    "\n",
    "plt.figure(figsize=(8, 8))\n",
    "plt.subplot(1, 2, 1)\n",
    "plt.plot(np.arange(13), acc, label='Training Accuracy')\n",
    "plt.plot(np.arange(13), val_acc, label='Validation Accuracy')\n",
    "plt.legend(loc='lower right')\n",
    "plt.title('Training and Validation Accuracy')\n",
    "\n",
    "plt.subplot(1, 2, 2)\n",
    "plt.plot(np.arange(13), loss, label='Training Loss')\n",
    "plt.plot(np.arange(13), val_loss, label='Validation Loss')\n",
    "plt.legend(loc='upper right')\n",
    "plt.title('Training and Validation Loss')\n",
    "plt.show()"
   ]
  },
  {
   "cell_type": "markdown",
   "id": "58a56a2e",
   "metadata": {},
   "source": [
    "## Tests"
   ]
  },
  {
   "cell_type": "code",
   "execution_count": 101,
   "id": "b244b541",
   "metadata": {
    "collapsed": true
   },
   "outputs": [
    {
     "data": {
      "text/html": [
       "<div>\n",
       "<style scoped>\n",
       "    .dataframe tbody tr th:only-of-type {\n",
       "        vertical-align: middle;\n",
       "    }\n",
       "\n",
       "    .dataframe tbody tr th {\n",
       "        vertical-align: top;\n",
       "    }\n",
       "\n",
       "    .dataframe thead th {\n",
       "        text-align: right;\n",
       "    }\n",
       "</style>\n",
       "<table border=\"1\" class=\"dataframe\">\n",
       "  <thead>\n",
       "    <tr style=\"text-align: right;\">\n",
       "      <th></th>\n",
       "      <th>0</th>\n",
       "      <th>1</th>\n",
       "      <th>2</th>\n",
       "      <th>3</th>\n",
       "      <th>4</th>\n",
       "      <th>5</th>\n",
       "      <th>6</th>\n",
       "      <th>7</th>\n",
       "      <th>8</th>\n",
       "      <th>9</th>\n",
       "      <th>...</th>\n",
       "      <th>239756</th>\n",
       "      <th>239757</th>\n",
       "      <th>239758</th>\n",
       "      <th>239759</th>\n",
       "      <th>239760</th>\n",
       "      <th>239761</th>\n",
       "      <th>239762</th>\n",
       "      <th>239763</th>\n",
       "      <th>239764</th>\n",
       "      <th>239765</th>\n",
       "    </tr>\n",
       "  </thead>\n",
       "  <tbody>\n",
       "    <tr>\n",
       "      <th>0</th>\n",
       "      <td>-94</td>\n",
       "      <td>-89</td>\n",
       "      <td>-76</td>\n",
       "      <td>-73</td>\n",
       "      <td>-80</td>\n",
       "      <td>-100</td>\n",
       "      <td>-115</td>\n",
       "      <td>-132</td>\n",
       "      <td>-130</td>\n",
       "      <td>-118</td>\n",
       "      <td>...</td>\n",
       "      <td>20</td>\n",
       "      <td>8</td>\n",
       "      <td>-3</td>\n",
       "      <td>5</td>\n",
       "      <td>21</td>\n",
       "      <td>37</td>\n",
       "      <td>43</td>\n",
       "      <td>42</td>\n",
       "      <td>30</td>\n",
       "      <td>5</td>\n",
       "    </tr>\n",
       "    <tr>\n",
       "      <th>1</th>\n",
       "      <td>-47</td>\n",
       "      <td>-35</td>\n",
       "      <td>-25</td>\n",
       "      <td>-19</td>\n",
       "      <td>-18</td>\n",
       "      <td>-30</td>\n",
       "      <td>-35</td>\n",
       "      <td>-29</td>\n",
       "      <td>-30</td>\n",
       "      <td>-36</td>\n",
       "      <td>...</td>\n",
       "      <td>-43</td>\n",
       "      <td>-35</td>\n",
       "      <td>-9</td>\n",
       "      <td>1</td>\n",
       "      <td>0</td>\n",
       "      <td>6</td>\n",
       "      <td>20</td>\n",
       "      <td>12</td>\n",
       "      <td>10</td>\n",
       "      <td>13</td>\n",
       "    </tr>\n",
       "    <tr>\n",
       "      <th>2</th>\n",
       "      <td>12</td>\n",
       "      <td>15</td>\n",
       "      <td>13</td>\n",
       "      <td>13</td>\n",
       "      <td>14</td>\n",
       "      <td>19</td>\n",
       "      <td>18</td>\n",
       "      <td>24</td>\n",
       "      <td>27</td>\n",
       "      <td>23</td>\n",
       "      <td>...</td>\n",
       "      <td>-22</td>\n",
       "      <td>-19</td>\n",
       "      <td>-6</td>\n",
       "      <td>4</td>\n",
       "      <td>-1</td>\n",
       "      <td>-14</td>\n",
       "      <td>-21</td>\n",
       "      <td>-25</td>\n",
       "      <td>-29</td>\n",
       "      <td>-26</td>\n",
       "    </tr>\n",
       "    <tr>\n",
       "      <th>3</th>\n",
       "      <td>-15</td>\n",
       "      <td>-12</td>\n",
       "      <td>-6</td>\n",
       "      <td>-5</td>\n",
       "      <td>-5</td>\n",
       "      <td>-4</td>\n",
       "      <td>8</td>\n",
       "      <td>18</td>\n",
       "      <td>25</td>\n",
       "      <td>24</td>\n",
       "      <td>...</td>\n",
       "      <td>-17</td>\n",
       "      <td>-18</td>\n",
       "      <td>-11</td>\n",
       "      <td>-4</td>\n",
       "      <td>-6</td>\n",
       "      <td>-19</td>\n",
       "      <td>-29</td>\n",
       "      <td>-28</td>\n",
       "      <td>-6</td>\n",
       "      <td>8</td>\n",
       "    </tr>\n",
       "    <tr>\n",
       "      <th>4</th>\n",
       "      <td>-38</td>\n",
       "      <td>-39</td>\n",
       "      <td>-53</td>\n",
       "      <td>-61</td>\n",
       "      <td>-54</td>\n",
       "      <td>-49</td>\n",
       "      <td>-59</td>\n",
       "      <td>-62</td>\n",
       "      <td>-61</td>\n",
       "      <td>-53</td>\n",
       "      <td>...</td>\n",
       "      <td>38</td>\n",
       "      <td>40</td>\n",
       "      <td>29</td>\n",
       "      <td>23</td>\n",
       "      <td>26</td>\n",
       "      <td>30</td>\n",
       "      <td>26</td>\n",
       "      <td>17</td>\n",
       "      <td>13</td>\n",
       "      <td>15</td>\n",
       "    </tr>\n",
       "    <tr>\n",
       "      <th>5</th>\n",
       "      <td>-43</td>\n",
       "      <td>-36</td>\n",
       "      <td>-31</td>\n",
       "      <td>-26</td>\n",
       "      <td>-28</td>\n",
       "      <td>-32</td>\n",
       "      <td>-36</td>\n",
       "      <td>-38</td>\n",
       "      <td>-37</td>\n",
       "      <td>-37</td>\n",
       "      <td>...</td>\n",
       "      <td>26</td>\n",
       "      <td>36</td>\n",
       "      <td>28</td>\n",
       "      <td>20</td>\n",
       "      <td>11</td>\n",
       "      <td>4</td>\n",
       "      <td>3</td>\n",
       "      <td>6</td>\n",
       "      <td>11</td>\n",
       "      <td>9</td>\n",
       "    </tr>\n",
       "    <tr>\n",
       "      <th>6</th>\n",
       "      <td>-13</td>\n",
       "      <td>-12</td>\n",
       "      <td>-15</td>\n",
       "      <td>-16</td>\n",
       "      <td>-16</td>\n",
       "      <td>-19</td>\n",
       "      <td>-12</td>\n",
       "      <td>-3</td>\n",
       "      <td>-2</td>\n",
       "      <td>-4</td>\n",
       "      <td>...</td>\n",
       "      <td>-6</td>\n",
       "      <td>-9</td>\n",
       "      <td>-7</td>\n",
       "      <td>-6</td>\n",
       "      <td>-12</td>\n",
       "      <td>-16</td>\n",
       "      <td>-27</td>\n",
       "      <td>-30</td>\n",
       "      <td>-27</td>\n",
       "      <td>-21</td>\n",
       "    </tr>\n",
       "    <tr>\n",
       "      <th>7</th>\n",
       "      <td>-8</td>\n",
       "      <td>-4</td>\n",
       "      <td>-12</td>\n",
       "      <td>-22</td>\n",
       "      <td>-24</td>\n",
       "      <td>-18</td>\n",
       "      <td>-8</td>\n",
       "      <td>3</td>\n",
       "      <td>5</td>\n",
       "      <td>3</td>\n",
       "      <td>...</td>\n",
       "      <td>-6</td>\n",
       "      <td>-6</td>\n",
       "      <td>2</td>\n",
       "      <td>9</td>\n",
       "      <td>15</td>\n",
       "      <td>8</td>\n",
       "      <td>-6</td>\n",
       "      <td>-11</td>\n",
       "      <td>-8</td>\n",
       "      <td>-4</td>\n",
       "    </tr>\n",
       "    <tr>\n",
       "      <th>8</th>\n",
       "      <td>11</td>\n",
       "      <td>-3</td>\n",
       "      <td>-11</td>\n",
       "      <td>-5</td>\n",
       "      <td>1</td>\n",
       "      <td>10</td>\n",
       "      <td>17</td>\n",
       "      <td>11</td>\n",
       "      <td>7</td>\n",
       "      <td>6</td>\n",
       "      <td>...</td>\n",
       "      <td>-10</td>\n",
       "      <td>-19</td>\n",
       "      <td>-26</td>\n",
       "      <td>-35</td>\n",
       "      <td>-33</td>\n",
       "      <td>-18</td>\n",
       "      <td>-2</td>\n",
       "      <td>9</td>\n",
       "      <td>9</td>\n",
       "      <td>4</td>\n",
       "    </tr>\n",
       "    <tr>\n",
       "      <th>9</th>\n",
       "      <td>20</td>\n",
       "      <td>9</td>\n",
       "      <td>4</td>\n",
       "      <td>6</td>\n",
       "      <td>13</td>\n",
       "      <td>19</td>\n",
       "      <td>19</td>\n",
       "      <td>11</td>\n",
       "      <td>12</td>\n",
       "      <td>8</td>\n",
       "      <td>...</td>\n",
       "      <td>-6</td>\n",
       "      <td>-12</td>\n",
       "      <td>-18</td>\n",
       "      <td>-20</td>\n",
       "      <td>-16</td>\n",
       "      <td>-11</td>\n",
       "      <td>-4</td>\n",
       "      <td>3</td>\n",
       "      <td>-2</td>\n",
       "      <td>-4</td>\n",
       "    </tr>\n",
       "    <tr>\n",
       "      <th>10</th>\n",
       "      <td>46</td>\n",
       "      <td>39</td>\n",
       "      <td>42</td>\n",
       "      <td>43</td>\n",
       "      <td>46</td>\n",
       "      <td>47</td>\n",
       "      <td>38</td>\n",
       "      <td>33</td>\n",
       "      <td>31</td>\n",
       "      <td>28</td>\n",
       "      <td>...</td>\n",
       "      <td>-9</td>\n",
       "      <td>-8</td>\n",
       "      <td>-6</td>\n",
       "      <td>-3</td>\n",
       "      <td>-4</td>\n",
       "      <td>-3</td>\n",
       "      <td>-2</td>\n",
       "      <td>1</td>\n",
       "      <td>-5</td>\n",
       "      <td>-3</td>\n",
       "    </tr>\n",
       "    <tr>\n",
       "      <th>11</th>\n",
       "      <td>50</td>\n",
       "      <td>53</td>\n",
       "      <td>50</td>\n",
       "      <td>46</td>\n",
       "      <td>43</td>\n",
       "      <td>50</td>\n",
       "      <td>50</td>\n",
       "      <td>50</td>\n",
       "      <td>43</td>\n",
       "      <td>43</td>\n",
       "      <td>...</td>\n",
       "      <td>13</td>\n",
       "      <td>17</td>\n",
       "      <td>5</td>\n",
       "      <td>2</td>\n",
       "      <td>-2</td>\n",
       "      <td>6</td>\n",
       "      <td>13</td>\n",
       "      <td>8</td>\n",
       "      <td>-2</td>\n",
       "      <td>-3</td>\n",
       "    </tr>\n",
       "    <tr>\n",
       "      <th>12</th>\n",
       "      <td>32</td>\n",
       "      <td>28</td>\n",
       "      <td>23</td>\n",
       "      <td>22</td>\n",
       "      <td>20</td>\n",
       "      <td>22</td>\n",
       "      <td>20</td>\n",
       "      <td>23</td>\n",
       "      <td>22</td>\n",
       "      <td>23</td>\n",
       "      <td>...</td>\n",
       "      <td>8</td>\n",
       "      <td>7</td>\n",
       "      <td>2</td>\n",
       "      <td>-4</td>\n",
       "      <td>-6</td>\n",
       "      <td>-3</td>\n",
       "      <td>4</td>\n",
       "      <td>9</td>\n",
       "      <td>10</td>\n",
       "      <td>10</td>\n",
       "    </tr>\n",
       "    <tr>\n",
       "      <th>13</th>\n",
       "      <td>23</td>\n",
       "      <td>15</td>\n",
       "      <td>28</td>\n",
       "      <td>42</td>\n",
       "      <td>42</td>\n",
       "      <td>30</td>\n",
       "      <td>17</td>\n",
       "      <td>21</td>\n",
       "      <td>20</td>\n",
       "      <td>20</td>\n",
       "      <td>...</td>\n",
       "      <td>-13</td>\n",
       "      <td>-16</td>\n",
       "      <td>-11</td>\n",
       "      <td>-4</td>\n",
       "      <td>5</td>\n",
       "      <td>4</td>\n",
       "      <td>-7</td>\n",
       "      <td>-13</td>\n",
       "      <td>-5</td>\n",
       "      <td>-7</td>\n",
       "    </tr>\n",
       "    <tr>\n",
       "      <th>14</th>\n",
       "      <td>41</td>\n",
       "      <td>41</td>\n",
       "      <td>38</td>\n",
       "      <td>35</td>\n",
       "      <td>33</td>\n",
       "      <td>35</td>\n",
       "      <td>36</td>\n",
       "      <td>37</td>\n",
       "      <td>36</td>\n",
       "      <td>33</td>\n",
       "      <td>...</td>\n",
       "      <td>13</td>\n",
       "      <td>16</td>\n",
       "      <td>9</td>\n",
       "      <td>4</td>\n",
       "      <td>1</td>\n",
       "      <td>-2</td>\n",
       "      <td>2</td>\n",
       "      <td>7</td>\n",
       "      <td>5</td>\n",
       "      <td>1</td>\n",
       "    </tr>\n",
       "    <tr>\n",
       "      <th>15</th>\n",
       "      <td>25</td>\n",
       "      <td>28</td>\n",
       "      <td>26</td>\n",
       "      <td>18</td>\n",
       "      <td>18</td>\n",
       "      <td>27</td>\n",
       "      <td>38</td>\n",
       "      <td>35</td>\n",
       "      <td>36</td>\n",
       "      <td>31</td>\n",
       "      <td>...</td>\n",
       "      <td>18</td>\n",
       "      <td>17</td>\n",
       "      <td>15</td>\n",
       "      <td>7</td>\n",
       "      <td>-3</td>\n",
       "      <td>-7</td>\n",
       "      <td>-7</td>\n",
       "      <td>-6</td>\n",
       "      <td>-1</td>\n",
       "      <td>3</td>\n",
       "    </tr>\n",
       "  </tbody>\n",
       "</table>\n",
       "<p>16 rows × 239766 columns</p>\n",
       "</div>"
      ],
      "text/plain": [
       "    0       1       2       3       4       5       6       7       8       \\\n",
       "0      -94     -89     -76     -73     -80    -100    -115    -132    -130   \n",
       "1      -47     -35     -25     -19     -18     -30     -35     -29     -30   \n",
       "2       12      15      13      13      14      19      18      24      27   \n",
       "3      -15     -12      -6      -5      -5      -4       8      18      25   \n",
       "4      -38     -39     -53     -61     -54     -49     -59     -62     -61   \n",
       "5      -43     -36     -31     -26     -28     -32     -36     -38     -37   \n",
       "6      -13     -12     -15     -16     -16     -19     -12      -3      -2   \n",
       "7       -8      -4     -12     -22     -24     -18      -8       3       5   \n",
       "8       11      -3     -11      -5       1      10      17      11       7   \n",
       "9       20       9       4       6      13      19      19      11      12   \n",
       "10      46      39      42      43      46      47      38      33      31   \n",
       "11      50      53      50      46      43      50      50      50      43   \n",
       "12      32      28      23      22      20      22      20      23      22   \n",
       "13      23      15      28      42      42      30      17      21      20   \n",
       "14      41      41      38      35      33      35      36      37      36   \n",
       "15      25      28      26      18      18      27      38      35      36   \n",
       "\n",
       "    9       ...  239756  239757  239758  239759  239760  239761  239762  \\\n",
       "0     -118  ...      20       8      -3       5      21      37      43   \n",
       "1      -36  ...     -43     -35      -9       1       0       6      20   \n",
       "2       23  ...     -22     -19      -6       4      -1     -14     -21   \n",
       "3       24  ...     -17     -18     -11      -4      -6     -19     -29   \n",
       "4      -53  ...      38      40      29      23      26      30      26   \n",
       "5      -37  ...      26      36      28      20      11       4       3   \n",
       "6       -4  ...      -6      -9      -7      -6     -12     -16     -27   \n",
       "7        3  ...      -6      -6       2       9      15       8      -6   \n",
       "8        6  ...     -10     -19     -26     -35     -33     -18      -2   \n",
       "9        8  ...      -6     -12     -18     -20     -16     -11      -4   \n",
       "10      28  ...      -9      -8      -6      -3      -4      -3      -2   \n",
       "11      43  ...      13      17       5       2      -2       6      13   \n",
       "12      23  ...       8       7       2      -4      -6      -3       4   \n",
       "13      20  ...     -13     -16     -11      -4       5       4      -7   \n",
       "14      33  ...      13      16       9       4       1      -2       2   \n",
       "15      31  ...      18      17      15       7      -3      -7      -7   \n",
       "\n",
       "    239763  239764  239765  \n",
       "0       42      30       5  \n",
       "1       12      10      13  \n",
       "2      -25     -29     -26  \n",
       "3      -28      -6       8  \n",
       "4       17      13      15  \n",
       "5        6      11       9  \n",
       "6      -30     -27     -21  \n",
       "7      -11      -8      -4  \n",
       "8        9       9       4  \n",
       "9        3      -2      -4  \n",
       "10       1      -5      -3  \n",
       "11       8      -2      -3  \n",
       "12       9      10      10  \n",
       "13     -13      -5      -7  \n",
       "14       7       5       1  \n",
       "15      -6      -1       3  \n",
       "\n",
       "[16 rows x 239766 columns]"
      ]
     },
     "execution_count": 101,
     "metadata": {},
     "output_type": "execute_result"
    }
   ],
   "source": [
    "segment"
   ]
  },
  {
   "cell_type": "code",
   "execution_count": 102,
   "id": "0f9507c5",
   "metadata": {},
   "outputs": [
    {
     "data": {
      "image/png": "[encoded data removed]",
      "text/plain": [
       "<Figure size 432x288 with 1 Axes>"
      ]
     },
     "metadata": {
      "needs_background": "light"
     },
     "output_type": "display_data"
    }
   ],
   "source": [
    "import scipy.io\n",
    "sos_hp = signal.butter(10, 0.5, 'highpass', fs=400, output='sos')\n",
    "sos_lp = signal.butter(10, 50, 'lowpass', fs=400, output='sos')\n",
    "\n",
    "test1 = scipy.io.loadmat(\"../raw_data/Dog_1/Dog_1/Dog_1_test_segment_0021.mat\")\n",
    "segment_name = list(test1.keys())[-1]\n",
    "segment = pd.DataFrame(test1[segment_name][0][0][0])\n",
    "for index, row in segment.iterrows():\n",
    "    electrode = signal.sosfilt(sos_hp, row)\n",
    "    electrode_filtered = signal.sosfilt(sos_lp, electrode)\n",
    "    f, t, Sxx = signal.spectrogram(electrode_filtered, fs=400, nperseg=256)\n",
    "    plt.imshow(Sxx[f<5,],aspect='auto',origin='lower',cmap='Greys_r')\n",
    "    plt.axis('off')\n",
    "    plt.savefig(f'../raw_data/images_test/preictal/test{index}.png', bbox_inches='tight',pad_inches = 0)"
   ]
  },
  {
   "cell_type": "code",
   "execution_count": 103,
   "id": "4b872cf8",
   "metadata": {},
   "outputs": [
    {
     "data": {
      "image/png": "[encoded data removed]",
      "text/plain": [
       "<Figure size 432x288 with 1 Axes>"
      ]
     },
     "metadata": {
      "needs_background": "light"
     },
     "output_type": "display_data"
    }
   ],
   "source": [
    "test2 = scipy.io.loadmat(\"../raw_data/Dog_1/Dog_1/Dog_1_test_segment_0001.mat\")\n",
    "segment_name = list(test1.keys())[-1]\n",
    "segment = pd.DataFrame(test1[segment_name][0][0][0])\n",
    "for index, row in segment.iterrows():\n",
    "    electrode = signal.sosfilt(sos_hp, row)\n",
    "    electrode_filtered = signal.sosfilt(sos_lp, electrode)\n",
    "    f, t, Sxx = signal.spectrogram(electrode_filtered, fs=400, nperseg=256)\n",
    "    plt.imshow(Sxx[f<5,],aspect='auto',origin='lower',cmap='Greys_r')\n",
    "    plt.axis('off')\n",
    "    plt.savefig(f'../raw_data/images_test/interictal/test{index}.png', bbox_inches='tight',pad_inches = 0)"
   ]
  },
  {
   "cell_type": "code",
   "execution_count": 116,
   "id": "a4c79c61",
   "metadata": {},
   "outputs": [],
   "source": [
    "images_test_path = '../raw_data/images_test'"
   ]
  },
  {
   "cell_type": "code",
   "execution_count": 117,
   "id": "b4997e62",
   "metadata": {},
   "outputs": [
    {
     "name": "stdout",
     "output_type": "stream",
     "text": [
      "Found 32 files belonging to 2 classes.\n"
     ]
    }
   ],
   "source": [
    "test_ds = tf.keras.preprocessing.image_dataset_from_directory(\n",
    "  images_test_path,\n",
    "  #validation_split=0.2,\n",
    "  #subset=\"training\",\n",
    "  seed=123,\n",
    "  image_size=(img_height, img_width),\n",
    "  batch_size=batch_size)"
   ]
  },
  {
   "cell_type": "code",
   "execution_count": 106,
   "id": "0a93ed66",
   "metadata": {},
   "outputs": [
    {
     "name": "stdout",
     "output_type": "stream",
     "text": [
      "0.0 0.44871327\n"
     ]
    }
   ],
   "source": [
    "normalization_layer = layers.experimental.preprocessing.Rescaling(1./255)\n",
    "normalized_ds = test_ds.map(lambda x, y: (normalization_layer(x), y))\n",
    "image_batch, labels_batch = next(iter(normalized_ds))\n",
    "\n",
    "# test\n",
    "first_image = image_batch[0]\n",
    "print(np.min(first_image), np.max(first_image))"
   ]
  },
  {
   "cell_type": "code",
   "execution_count": 121,
   "id": "7d44e095",
   "metadata": {},
   "outputs": [
    {
     "data": {
      "text/plain": [
       "<tf.Tensor: shape=(32,), dtype=int32, numpy=\n",
       "array([0, 1, 0, 1, 0, 1, 1, 0, 1, 1, 0, 1, 0, 1, 1, 0, 0, 0, 0, 1, 1, 1,\n",
       "       0, 0, 0, 0, 1, 1, 1, 0, 0, 1], dtype=int32)>"
      ]
     },
     "execution_count": 121,
     "metadata": {},
     "output_type": "execute_result"
    }
   ],
   "source": [
    "labels_batch"
   ]
  },
  {
   "cell_type": "code",
   "execution_count": 123,
   "id": "a335cc5e",
   "metadata": {},
   "outputs": [],
   "source": [
    "y_pred = model.predict(test_ds)"
   ]
  },
  {
   "cell_type": "code",
   "execution_count": 131,
   "id": "77d8b873",
   "metadata": {},
   "outputs": [
    {
     "data": {
      "text/plain": [
       "array([[0],\n",
       "       [1],\n",
       "       [1],\n",
       "       [1],\n",
       "       [1],\n",
       "       [1],\n",
       "       [1],\n",
       "       [1],\n",
       "       [1],\n",
       "       [1],\n",
       "       [0],\n",
       "       [0],\n",
       "       [1],\n",
       "       [1],\n",
       "       [1],\n",
       "       [1],\n",
       "       [0],\n",
       "       [1],\n",
       "       [1],\n",
       "       [1],\n",
       "       [0],\n",
       "       [1],\n",
       "       [0],\n",
       "       [1],\n",
       "       [1],\n",
       "       [1],\n",
       "       [1],\n",
       "       [1],\n",
       "       [1],\n",
       "       [1],\n",
       "       [1],\n",
       "       [1]])"
      ]
     },
     "execution_count": 131,
     "metadata": {},
     "output_type": "execute_result"
    }
   ],
   "source": [
    "y_pred.round(decimals=0, out=None).astype(int)"
   ]
  },
  {
   "cell_type": "code",
   "execution_count": 132,
   "id": "ca2ad6bf",
   "metadata": {},
   "outputs": [
    {
     "data": {
      "text/plain": [
       "array([[ 4, 12],\n",
       "       [ 2, 14]])"
      ]
     },
     "execution_count": 132,
     "metadata": {},
     "output_type": "execute_result"
    }
   ],
   "source": [
    "from sklearn.metrics import confusion_matrix\n",
    "\n",
    "confusion_matrix(labels_batch, y_pred.round(decimals=0, out=None).astype(int))"
   ]
  }
 ],
 "metadata": {
  "kernelspec": {
   "display_name": "Python 3",
   "language": "python",
   "name": "python3"
  },
  "language_info": {
   "codemirror_mode": {
    "name": "ipython",
    "version": 3
   },
   "file_extension": ".py",
   "mimetype": "text/x-python",
   "name": "python",
   "nbconvert_exporter": "python",
   "pygments_lexer": "ipython3",
   "version": "3.8.6"
  },
  "toc": {
   "base_numbering": 1,
   "nav_menu": {},
   "number_sections": true,
   "sideBar": true,
   "skip_h1_title": false,
   "title_cell": "Table of Contents",
   "title_sidebar": "Contents",
   "toc_cell": false,
   "toc_position": {},
   "toc_section_display": true,
   "toc_window_display": false
  }
 },
 "nbformat": 4,
 "nbformat_minor": 5
}
