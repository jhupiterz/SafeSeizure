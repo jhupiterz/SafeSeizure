{
 "cells": [
  {
   "cell_type": "code",
   "execution_count": 2,
   "id": "29203047",
   "metadata": {},
   "outputs": [
    {
     "name": "stdout",
     "output_type": "stream",
     "text": [
      "/home/philmart2021/seizure_prediction/SafeSeizure/notebooks\r\n"
     ]
    }
   ],
   "source": [
    "!pwd"
   ]
  },
  {
   "cell_type": "code",
   "execution_count": 3,
   "id": "c5d5caf1",
   "metadata": {},
   "outputs": [],
   "source": [
    "import pandas as pd\n",
    "import numpy as np\n",
    "import matplotlib.pyplot as plt\n",
    "import seaborn as sns\n",
    "import os\n",
    "from tqdm import tqdm\n",
    "from sklearn.model_selection import train_test_split\n",
    "from sklearn.metrics import mean_squared_error\n",
    "from statsmodels.tsa.stattools import adfuller\n",
    "from statsmodels.graphics.tsaplots import plot_acf, plot_pacf\n",
    "from statsmodels.tsa.arima_model import ARIMA"
   ]
  },
  {
   "cell_type": "markdown",
   "id": "5fb80fc5",
   "metadata": {},
   "source": [
    "### Open each file \"preictal\" for patient_1 and calculate the channel (sensor) mean for each time observation"
   ]
  },
  {
   "cell_type": "code",
   "execution_count": 4,
   "id": "047e9c22",
   "metadata": {},
   "outputs": [],
   "source": [
    "def get_statistics():\n",
    "    '''Function that extracts the data from each .csv file, \n",
    "    already downsampled by a factor of 100'''\n",
    "   \n",
    "  \n",
    "    # Reads each .csv file in patient_1 directory, calculate the mean for each file and concatenate each mean\n",
    "    # into a new database\n",
    "\n",
    "    temp = []\n",
    "    for index in tqdm(range(1, 19)): #18 files here\n",
    "        temp_df = pd.read_csv(os.path.join(os.getcwd(),f'../SafeSeizure/data/Patient_1_csv/preictal_segment_{index}.csv'))\n",
    "        mean_values = temp_df.mean(axis=0)\n",
    "        temp.append(mean_values)\n",
    "    \n",
    "    return pd.concat(temp, axis=1)"
   ]
  },
  {
   "cell_type": "code",
   "execution_count": 5,
   "id": "e4117cb8",
   "metadata": {},
   "outputs": [
    {
     "name": "stderr",
     "output_type": "stream",
     "text": [
      "100%|██████████| 18/18 [00:39<00:00,  2.22s/it]\n"
     ]
    }
   ],
   "source": [
    "df_average = get_statistics()"
   ]
  },
  {
   "cell_type": "code",
   "execution_count": 6,
   "id": "083fe35c",
   "metadata": {},
   "outputs": [
    {
     "data": {
      "text/html": [
       "<div>\n",
       "<style scoped>\n",
       "    .dataframe tbody tr th:only-of-type {\n",
       "        vertical-align: middle;\n",
       "    }\n",
       "\n",
       "    .dataframe tbody tr th {\n",
       "        vertical-align: top;\n",
       "    }\n",
       "\n",
       "    .dataframe thead th {\n",
       "        text-align: right;\n",
       "    }\n",
       "</style>\n",
       "<table border=\"1\" class=\"dataframe\">\n",
       "  <thead>\n",
       "    <tr style=\"text-align: right;\">\n",
       "      <th></th>\n",
       "      <th>0</th>\n",
       "      <th>1</th>\n",
       "      <th>2</th>\n",
       "      <th>3</th>\n",
       "      <th>4</th>\n",
       "      <th>5</th>\n",
       "      <th>6</th>\n",
       "      <th>7</th>\n",
       "      <th>8</th>\n",
       "      <th>9</th>\n",
       "      <th>10</th>\n",
       "      <th>11</th>\n",
       "      <th>12</th>\n",
       "      <th>13</th>\n",
       "      <th>14</th>\n",
       "      <th>15</th>\n",
       "      <th>16</th>\n",
       "      <th>17</th>\n",
       "    </tr>\n",
       "  </thead>\n",
       "  <tbody>\n",
       "    <tr>\n",
       "      <th>0</th>\n",
       "      <td>39584.662120</td>\n",
       "      <td>7765.782241</td>\n",
       "      <td>-6342.114820</td>\n",
       "      <td>-21926.421639</td>\n",
       "      <td>-21317.503244</td>\n",
       "      <td>11830.143499</td>\n",
       "      <td>-143.860388</td>\n",
       "      <td>-163.533607</td>\n",
       "      <td>254.509298</td>\n",
       "      <td>18.270398</td>\n",
       "      <td>-196.880923</td>\n",
       "      <td>-31.998133</td>\n",
       "      <td>-135.504035</td>\n",
       "      <td>-418.866354</td>\n",
       "      <td>117.092627</td>\n",
       "      <td>396.522671</td>\n",
       "      <td>136.453575</td>\n",
       "      <td>141.173471</td>\n",
       "    </tr>\n",
       "    <tr>\n",
       "      <th>1</th>\n",
       "      <td>-5081.996748</td>\n",
       "      <td>-3180.714290</td>\n",
       "      <td>2978.220921</td>\n",
       "      <td>3780.692730</td>\n",
       "      <td>3987.523888</td>\n",
       "      <td>-22358.535928</td>\n",
       "      <td>-101.424110</td>\n",
       "      <td>-207.061679</td>\n",
       "      <td>-11.128980</td>\n",
       "      <td>23.884829</td>\n",
       "      <td>-191.322783</td>\n",
       "      <td>-42.879383</td>\n",
       "      <td>-156.308551</td>\n",
       "      <td>-448.680050</td>\n",
       "      <td>97.496618</td>\n",
       "      <td>349.955552</td>\n",
       "      <td>143.951605</td>\n",
       "      <td>131.657297</td>\n",
       "    </tr>\n",
       "    <tr>\n",
       "      <th>2</th>\n",
       "      <td>7089.236527</td>\n",
       "      <td>-1297.516358</td>\n",
       "      <td>-742.504416</td>\n",
       "      <td>-595.182429</td>\n",
       "      <td>-2819.178780</td>\n",
       "      <td>-19158.984662</td>\n",
       "      <td>-126.018541</td>\n",
       "      <td>-215.806795</td>\n",
       "      <td>60.456069</td>\n",
       "      <td>19.710271</td>\n",
       "      <td>-183.853852</td>\n",
       "      <td>-55.593375</td>\n",
       "      <td>-131.445153</td>\n",
       "      <td>-384.666921</td>\n",
       "      <td>93.499745</td>\n",
       "      <td>366.928713</td>\n",
       "      <td>196.018801</td>\n",
       "      <td>132.075971</td>\n",
       "    </tr>\n",
       "    <tr>\n",
       "      <th>3</th>\n",
       "      <td>3452.960436</td>\n",
       "      <td>61.641434</td>\n",
       "      <td>1265.105905</td>\n",
       "      <td>20.151857</td>\n",
       "      <td>123.167623</td>\n",
       "      <td>-21517.614350</td>\n",
       "      <td>-172.322643</td>\n",
       "      <td>-164.679746</td>\n",
       "      <td>75.604415</td>\n",
       "      <td>26.372431</td>\n",
       "      <td>-197.034244</td>\n",
       "      <td>-68.702551</td>\n",
       "      <td>-112.699060</td>\n",
       "      <td>-347.057256</td>\n",
       "      <td>108.719343</td>\n",
       "      <td>390.156542</td>\n",
       "      <td>224.979746</td>\n",
       "      <td>119.890120</td>\n",
       "    </tr>\n",
       "    <tr>\n",
       "      <th>4</th>\n",
       "      <td>4294.468107</td>\n",
       "      <td>-803.320512</td>\n",
       "      <td>141.803760</td>\n",
       "      <td>892.044040</td>\n",
       "      <td>-754.406547</td>\n",
       "      <td>-21672.038445</td>\n",
       "      <td>-134.738948</td>\n",
       "      <td>-157.299506</td>\n",
       "      <td>51.023128</td>\n",
       "      <td>4.044737</td>\n",
       "      <td>-195.956411</td>\n",
       "      <td>-74.692647</td>\n",
       "      <td>-129.545889</td>\n",
       "      <td>-377.546300</td>\n",
       "      <td>85.678610</td>\n",
       "      <td>391.456124</td>\n",
       "      <td>165.958364</td>\n",
       "      <td>133.341617</td>\n",
       "    </tr>\n",
       "    <tr>\n",
       "      <th>...</th>\n",
       "      <td>...</td>\n",
       "      <td>...</td>\n",
       "      <td>...</td>\n",
       "      <td>...</td>\n",
       "      <td>...</td>\n",
       "      <td>...</td>\n",
       "      <td>...</td>\n",
       "      <td>...</td>\n",
       "      <td>...</td>\n",
       "      <td>...</td>\n",
       "      <td>...</td>\n",
       "      <td>...</td>\n",
       "      <td>...</td>\n",
       "      <td>...</td>\n",
       "      <td>...</td>\n",
       "      <td>...</td>\n",
       "      <td>...</td>\n",
       "      <td>...</td>\n",
       "    </tr>\n",
       "    <tr>\n",
       "      <th>29995</th>\n",
       "      <td>1104.290317</td>\n",
       "      <td>650.773251</td>\n",
       "      <td>-601.833987</td>\n",
       "      <td>-278.098011</td>\n",
       "      <td>1342.897724</td>\n",
       "      <td>-21876.230282</td>\n",
       "      <td>-1.809212</td>\n",
       "      <td>-55.021868</td>\n",
       "      <td>-182.433412</td>\n",
       "      <td>-106.564742</td>\n",
       "      <td>-76.168013</td>\n",
       "      <td>177.439401</td>\n",
       "      <td>24.672884</td>\n",
       "      <td>-12.013451</td>\n",
       "      <td>-22.067968</td>\n",
       "      <td>-20.940611</td>\n",
       "      <td>160.754416</td>\n",
       "      <td>291.695229</td>\n",
       "    </tr>\n",
       "    <tr>\n",
       "      <th>29996</th>\n",
       "      <td>-1468.319740</td>\n",
       "      <td>1823.789556</td>\n",
       "      <td>-669.194542</td>\n",
       "      <td>1139.741024</td>\n",
       "      <td>671.381618</td>\n",
       "      <td>-21008.443234</td>\n",
       "      <td>22.676070</td>\n",
       "      <td>-61.183975</td>\n",
       "      <td>-183.603389</td>\n",
       "      <td>-110.549918</td>\n",
       "      <td>-87.435822</td>\n",
       "      <td>158.819343</td>\n",
       "      <td>59.580304</td>\n",
       "      <td>-50.613183</td>\n",
       "      <td>-35.685942</td>\n",
       "      <td>21.855313</td>\n",
       "      <td>159.167973</td>\n",
       "      <td>311.237919</td>\n",
       "    </tr>\n",
       "    <tr>\n",
       "      <th>29997</th>\n",
       "      <td>-17095.178491</td>\n",
       "      <td>-1389.765039</td>\n",
       "      <td>-671.129885</td>\n",
       "      <td>-2761.773396</td>\n",
       "      <td>-610.783348</td>\n",
       "      <td>-20001.237167</td>\n",
       "      <td>34.135173</td>\n",
       "      <td>-36.289041</td>\n",
       "      <td>-182.247281</td>\n",
       "      <td>-121.076137</td>\n",
       "      <td>-54.162538</td>\n",
       "      <td>163.106511</td>\n",
       "      <td>49.953542</td>\n",
       "      <td>-74.815799</td>\n",
       "      <td>-60.141458</td>\n",
       "      <td>41.199696</td>\n",
       "      <td>161.318432</td>\n",
       "      <td>285.724279</td>\n",
       "    </tr>\n",
       "    <tr>\n",
       "      <th>29998</th>\n",
       "      <td>-11053.449315</td>\n",
       "      <td>4414.690279</td>\n",
       "      <td>-701.454476</td>\n",
       "      <td>4142.242305</td>\n",
       "      <td>-2542.174937</td>\n",
       "      <td>-19451.694057</td>\n",
       "      <td>-1.834816</td>\n",
       "      <td>-30.228296</td>\n",
       "      <td>-184.752060</td>\n",
       "      <td>-115.333296</td>\n",
       "      <td>-23.557272</td>\n",
       "      <td>161.882542</td>\n",
       "      <td>83.025003</td>\n",
       "      <td>-65.468754</td>\n",
       "      <td>-28.174790</td>\n",
       "      <td>11.894072</td>\n",
       "      <td>176.894806</td>\n",
       "      <td>286.371324</td>\n",
       "    </tr>\n",
       "    <tr>\n",
       "      <th>29999</th>\n",
       "      <td>-6118.075864</td>\n",
       "      <td>-2525.012753</td>\n",
       "      <td>-570.553266</td>\n",
       "      <td>-4386.092681</td>\n",
       "      <td>-4378.354671</td>\n",
       "      <td>-19239.928489</td>\n",
       "      <td>19.543435</td>\n",
       "      <td>-5.171244</td>\n",
       "      <td>-172.550825</td>\n",
       "      <td>-106.125044</td>\n",
       "      <td>-23.858250</td>\n",
       "      <td>170.034219</td>\n",
       "      <td>94.160476</td>\n",
       "      <td>-50.431128</td>\n",
       "      <td>6.329802</td>\n",
       "      <td>-32.391162</td>\n",
       "      <td>192.440985</td>\n",
       "      <td>311.082400</td>\n",
       "    </tr>\n",
       "  </tbody>\n",
       "</table>\n",
       "<p>30000 rows × 18 columns</p>\n",
       "</div>"
      ],
      "text/plain": [
       "                 0            1            2             3             4   \\\n",
       "0      39584.662120  7765.782241 -6342.114820 -21926.421639 -21317.503244   \n",
       "1      -5081.996748 -3180.714290  2978.220921   3780.692730   3987.523888   \n",
       "2       7089.236527 -1297.516358  -742.504416   -595.182429  -2819.178780   \n",
       "3       3452.960436    61.641434  1265.105905     20.151857    123.167623   \n",
       "4       4294.468107  -803.320512   141.803760    892.044040   -754.406547   \n",
       "...             ...          ...          ...           ...           ...   \n",
       "29995   1104.290317   650.773251  -601.833987   -278.098011   1342.897724   \n",
       "29996  -1468.319740  1823.789556  -669.194542   1139.741024    671.381618   \n",
       "29997 -17095.178491 -1389.765039  -671.129885  -2761.773396   -610.783348   \n",
       "29998 -11053.449315  4414.690279  -701.454476   4142.242305  -2542.174937   \n",
       "29999  -6118.075864 -2525.012753  -570.553266  -4386.092681  -4378.354671   \n",
       "\n",
       "                 5           6           7           8           9   \\\n",
       "0      11830.143499 -143.860388 -163.533607  254.509298   18.270398   \n",
       "1     -22358.535928 -101.424110 -207.061679  -11.128980   23.884829   \n",
       "2     -19158.984662 -126.018541 -215.806795   60.456069   19.710271   \n",
       "3     -21517.614350 -172.322643 -164.679746   75.604415   26.372431   \n",
       "4     -21672.038445 -134.738948 -157.299506   51.023128    4.044737   \n",
       "...             ...         ...         ...         ...         ...   \n",
       "29995 -21876.230282   -1.809212  -55.021868 -182.433412 -106.564742   \n",
       "29996 -21008.443234   22.676070  -61.183975 -183.603389 -110.549918   \n",
       "29997 -20001.237167   34.135173  -36.289041 -182.247281 -121.076137   \n",
       "29998 -19451.694057   -1.834816  -30.228296 -184.752060 -115.333296   \n",
       "29999 -19239.928489   19.543435   -5.171244 -172.550825 -106.125044   \n",
       "\n",
       "               10          11          12          13          14          15  \\\n",
       "0     -196.880923  -31.998133 -135.504035 -418.866354  117.092627  396.522671   \n",
       "1     -191.322783  -42.879383 -156.308551 -448.680050   97.496618  349.955552   \n",
       "2     -183.853852  -55.593375 -131.445153 -384.666921   93.499745  366.928713   \n",
       "3     -197.034244  -68.702551 -112.699060 -347.057256  108.719343  390.156542   \n",
       "4     -195.956411  -74.692647 -129.545889 -377.546300   85.678610  391.456124   \n",
       "...           ...         ...         ...         ...         ...         ...   \n",
       "29995  -76.168013  177.439401   24.672884  -12.013451  -22.067968  -20.940611   \n",
       "29996  -87.435822  158.819343   59.580304  -50.613183  -35.685942   21.855313   \n",
       "29997  -54.162538  163.106511   49.953542  -74.815799  -60.141458   41.199696   \n",
       "29998  -23.557272  161.882542   83.025003  -65.468754  -28.174790   11.894072   \n",
       "29999  -23.858250  170.034219   94.160476  -50.431128    6.329802  -32.391162   \n",
       "\n",
       "               16          17  \n",
       "0      136.453575  141.173471  \n",
       "1      143.951605  131.657297  \n",
       "2      196.018801  132.075971  \n",
       "3      224.979746  119.890120  \n",
       "4      165.958364  133.341617  \n",
       "...           ...         ...  \n",
       "29995  160.754416  291.695229  \n",
       "29996  159.167973  311.237919  \n",
       "29997  161.318432  285.724279  \n",
       "29998  176.894806  286.371324  \n",
       "29999  192.440985  311.082400  \n",
       "\n",
       "[30000 rows x 18 columns]"
      ]
     },
     "execution_count": 6,
     "metadata": {},
     "output_type": "execute_result"
    }
   ],
   "source": [
    "# display of the new average value dataset\n",
    "df_average"
   ]
  },
  {
   "cell_type": "code",
   "execution_count": 7,
   "id": "4f49c34f",
   "metadata": {},
   "outputs": [
    {
     "data": {
      "text/plain": [
       "0        39584.662120\n",
       "1        -5081.996748\n",
       "2         7089.236527\n",
       "3         3452.960436\n",
       "4         4294.468107\n",
       "             ...     \n",
       "29995     1104.290317\n",
       "29996    -1468.319740\n",
       "29997   -17095.178491\n",
       "29998   -11053.449315\n",
       "29999    -6118.075864\n",
       "Name: 0, Length: 30000, dtype: float64"
      ]
     },
     "execution_count": 7,
     "metadata": {},
     "output_type": "execute_result"
    }
   ],
   "source": [
    "df_average[0]"
   ]
  },
  {
   "cell_type": "code",
   "execution_count": 8,
   "id": "31d2c012",
   "metadata": {},
   "outputs": [
    {
     "data": {
      "text/plain": [
       "<AxesSubplot:>"
      ]
     },
     "execution_count": 8,
     "metadata": {},
     "output_type": "execute_result"
    },
    {
     "data": {
      "image/png": "[encoded data removed]",
      "text/plain": [
       "<Figure size 432x288 with 1 Axes>"
      ]
     },
     "metadata": {
      "needs_background": "light"
     },
     "output_type": "display_data"
    }
   ],
   "source": [
    "# take the preictal segment_4 file as reference for ARIMA model (First 400 time units for visualisazation )\n",
    "y = df_average[3]\n",
    "df_average[0][:400].plot()"
   ]
  },
  {
   "cell_type": "markdown",
   "id": "c2311ce4",
   "metadata": {},
   "source": [
    "### Check stationarity"
   ]
  },
  {
   "cell_type": "code",
   "execution_count": 9,
   "id": "24e85f81",
   "metadata": {},
   "outputs": [
    {
     "name": "stdout",
     "output_type": "stream",
     "text": [
      "p-value:  0.0\n"
     ]
    }
   ],
   "source": [
    "# Check its stationarity precisely using the Augmented Dick Fuller test, and especially its p-value\n",
    "y = df_average[3]\n",
    "print('p-value: ', adfuller(y)[1])"
   ]
  },
  {
   "cell_type": "markdown",
   "id": "21b48b20",
   "metadata": {},
   "source": [
    "### Stationarize the time series"
   ]
  },
  {
   "cell_type": "code",
   "execution_count": 10,
   "id": "241468a5",
   "metadata": {},
   "outputs": [],
   "source": [
    "# Here there is no need to do it since since no seasonal time series"
   ]
  },
  {
   "cell_type": "markdown",
   "id": "9396c5fe",
   "metadata": {},
   "source": [
    "### Plot autocorrelation plot (plot_acf) "
   ]
  },
  {
   "cell_type": "code",
   "execution_count": 11,
   "id": "b3610915",
   "metadata": {},
   "outputs": [
    {
     "data": {
      "image/png": "[encoded data removed]",
      "text/plain": [
       "<Figure size 936x720 with 2 Axes>"
      ]
     },
     "metadata": {
      "needs_background": "light"
     },
     "output_type": "display_data"
    }
   ],
   "source": [
    "# Original Series, plot autocorrelation plot (plot_acf)\n",
    "fig, axes = plt.subplots(1, 2, figsize=(13,10))\n",
    "axes[0].plot(y); axes[0].set_title('Original Series')\n",
    "plot_acf(y, ax=axes[1])\n",
    "\n",
    "plt.show()"
   ]
  },
  {
   "cell_type": "markdown",
   "id": "077b6aab",
   "metadata": {},
   "source": [
    "### Determination of differentiation \"d\" and \"I\" coefficient of ARIMA"
   ]
  },
  {
   "cell_type": "code",
   "execution_count": 12,
   "id": "6d0eae03",
   "metadata": {},
   "outputs": [],
   "source": [
    "#In our case, no differentiation is made (series is stationnary already, d=0) and I=6"
   ]
  },
  {
   "cell_type": "markdown",
   "id": "fec49f7a",
   "metadata": {},
   "source": [
    "### Select AR order (p) and MA order (q)"
   ]
  },
  {
   "cell_type": "code",
   "execution_count": 13,
   "id": "57e2bc89",
   "metadata": {},
   "outputs": [],
   "source": [
    "# MA order (q) can be found by looking at the autocorrelation plot (plot_acf)\n"
   ]
  },
  {
   "cell_type": "code",
   "execution_count": 14,
   "id": "96d05a00",
   "metadata": {},
   "outputs": [
    {
     "data": {
      "image/png": "[encoded data removed]",
      "text/plain": [
       "<Figure size 432x288 with 1 Axes>"
      ]
     },
     "metadata": {
      "needs_background": "light"
     },
     "output_type": "display_data"
    }
   ],
   "source": [
    "plot_acf(y);"
   ]
  },
  {
   "cell_type": "code",
   "execution_count": 15,
   "id": "9ed6e137",
   "metadata": {},
   "outputs": [],
   "source": [
    "# Based on the above graph, q=6 (already present in previous acf graph, no differentiation was needed)"
   ]
  },
  {
   "cell_type": "code",
   "execution_count": 16,
   "id": "cff84d52",
   "metadata": {},
   "outputs": [],
   "source": [
    "# AR order (p) can be found by investigating the partial autocorrelation plot plot_pacf applied to y (diff if applicable)."
   ]
  },
  {
   "cell_type": "code",
   "execution_count": 17,
   "id": "b494d7be",
   "metadata": {},
   "outputs": [
    {
     "data": {
      "image/png": "[encoded data removed]",
      "text/plain": [
       "<Figure size 432x288 with 1 Axes>"
      ]
     },
     "metadata": {
      "needs_background": "light"
     },
     "output_type": "display_data"
    }
   ],
   "source": [
    "plot_pacf(y, c='r');"
   ]
  },
  {
   "cell_type": "code",
   "execution_count": 18,
   "id": "d24fafbd",
   "metadata": {},
   "outputs": [],
   "source": [
    "# Based on the above graph, p=3 "
   ]
  },
  {
   "cell_type": "markdown",
   "id": "1eb68b16",
   "metadata": {},
   "source": [
    "### Build the model with train set 66% and test set 34%"
   ]
  },
  {
   "cell_type": "code",
   "execution_count": 19,
   "id": "350ac61f",
   "metadata": {},
   "outputs": [],
   "source": [
    "# split into train and test sets\n",
    "X = df_average[0].values\n",
    "train_size = int(len(X) * 0.66)\n",
    "train, test = X[:train_size], X[train_size:]"
   ]
  },
  {
   "cell_type": "code",
   "execution_count": 20,
   "id": "29300451",
   "metadata": {},
   "outputs": [
    {
     "data": {
      "text/html": [
       "<table class=\"simpletable\">\n",
       "<caption>ARIMA Model Results</caption>\n",
       "<tr>\n",
       "  <th>Dep. Variable:</th>        <td>D.y</td>       <th>  No. Observations:  </th>    <td>19799</td>   \n",
       "</tr>\n",
       "<tr>\n",
       "  <th>Model:</th>          <td>ARIMA(0, 1, 0)</td>  <th>  Log Likelihood     </th> <td>-171325.606</td>\n",
       "</tr>\n",
       "<tr>\n",
       "  <th>Method:</th>               <td>css</td>       <th>  S.D. of innovations</th>  <td>1386.180</td>  \n",
       "</tr>\n",
       "<tr>\n",
       "  <th>Date:</th>          <td>Mon, 21 Jun 2021</td> <th>  AIC                </th> <td>342655.212</td> \n",
       "</tr>\n",
       "<tr>\n",
       "  <th>Time:</th>              <td>17:08:20</td>     <th>  BIC                </th> <td>342670.999</td> \n",
       "</tr>\n",
       "<tr>\n",
       "  <th>Sample:</th>                <td>1</td>        <th>  HQIC               </th> <td>342660.380</td> \n",
       "</tr>\n",
       "<tr>\n",
       "  <th></th>                       <td> </td>        <th>                     </th>      <td> </td>     \n",
       "</tr>\n",
       "</table>\n",
       "<table class=\"simpletable\">\n",
       "<tr>\n",
       "    <td></td>       <th>coef</th>     <th>std err</th>      <th>z</th>      <th>P>|z|</th>  <th>[0.025</th>    <th>0.975]</th>  \n",
       "</tr>\n",
       "<tr>\n",
       "  <th>const</th> <td>   -1.9768</td> <td>    9.851</td> <td>   -0.201</td> <td> 0.841</td> <td>  -21.285</td> <td>   17.332</td>\n",
       "</tr>\n",
       "</table>"
      ],
      "text/plain": [
       "<class 'statsmodels.iolib.summary.Summary'>\n",
       "\"\"\"\n",
       "                             ARIMA Model Results                              \n",
       "==============================================================================\n",
       "Dep. Variable:                    D.y   No. Observations:                19799\n",
       "Model:                 ARIMA(0, 1, 0)   Log Likelihood             -171325.606\n",
       "Method:                           css   S.D. of innovations           1386.180\n",
       "Date:                Mon, 21 Jun 2021   AIC                         342655.212\n",
       "Time:                        17:08:20   BIC                         342670.999\n",
       "Sample:                             1   HQIC                        342660.380\n",
       "                                                                              \n",
       "==============================================================================\n",
       "                 coef    std err          z      P>|z|      [0.025      0.975]\n",
       "------------------------------------------------------------------------------\n",
       "const         -1.9768      9.851     -0.201      0.841     -21.285      17.332\n",
       "==============================================================================\n",
       "\"\"\""
      ]
     },
     "execution_count": 20,
     "metadata": {},
     "output_type": "execute_result"
    }
   ],
   "source": [
    "# initialize the model\n",
    "# p=3, d=0 ,q=6 based on the first segment preictal file [0,400] time units. Due to computation limit, parameters are now changed\n",
    "# to p=0, d=1 ,q=0\n",
    "arima = ARIMA(train, order=(0, 1, 0))\n",
    "\n",
    "# fit the model\n",
    "arima = arima.fit()\n",
    "\n",
    "# evaluate the model arima\n",
    "arima.summary()"
   ]
  },
  {
   "cell_type": "code",
   "execution_count": 21,
   "id": "54469d36",
   "metadata": {},
   "outputs": [],
   "source": [
    "# Prepare the forecasts (predict the values of the time series based on train one)\n",
    "forecast = arima.forecast(steps=len(test)) "
   ]
  },
  {
   "cell_type": "code",
   "execution_count": 22,
   "id": "74de7196",
   "metadata": {
    "scrolled": true
   },
   "outputs": [
    {
     "data": {
      "text/plain": [
       "(array([   443.23030976,    441.25346977,    439.27662978, ...,\n",
       "        -19714.60707239, -19716.58391238, -19718.56075237]),\n",
       " array([  1386.17978519,   1960.3542521 ,   2400.93381637, ...,\n",
       "        139983.56996159, 139990.4330788 , 139997.29585955]),\n",
       " array([[  -2273.6321453 ,    3160.09276483],\n",
       "        [  -3400.97026128,    4283.47720083],\n",
       "        [  -4266.46717956,    5145.02043913],\n",
       "        ...,\n",
       "        [-294077.36262446,  254648.14847967],\n",
       "        [-294092.79092699,  254659.62310222],\n",
       "        [-294108.21857009,  254671.09706534]]))"
      ]
     },
     "execution_count": 22,
     "metadata": {},
     "output_type": "execute_result"
    }
   ],
   "source": [
    "forecast"
   ]
  },
  {
   "cell_type": "code",
   "execution_count": 23,
   "id": "f8f7c1b2",
   "metadata": {},
   "outputs": [
    {
     "data": {
      "text/plain": [
       "3"
      ]
     },
     "execution_count": 23,
     "metadata": {},
     "output_type": "execute_result"
    }
   ],
   "source": [
    "len(forecast)"
   ]
  },
  {
   "cell_type": "code",
   "execution_count": 24,
   "id": "93c917f2",
   "metadata": {},
   "outputs": [
    {
     "data": {
      "text/plain": [
       "[<matplotlib.lines.Line2D at 0x7fb13d38c9a0>]"
      ]
     },
     "execution_count": 24,
     "metadata": {},
     "output_type": "execute_result"
    },
    {
     "data": {
      "image/png": "[encoded data removed]",
      "text/plain": [
       "<Figure size 432x288 with 1 Axes>"
      ]
     },
     "metadata": {
      "needs_background": "light"
     },
     "output_type": "display_data"
    }
   ],
   "source": [
    "plt.plot(forecast[0])"
   ]
  },
  {
   "cell_type": "code",
   "execution_count": 25,
   "id": "62f0d3f6",
   "metadata": {},
   "outputs": [
    {
     "name": "stdout",
     "output_type": "stream",
     "text": [
      "Test MSE: 129145987.583\n"
     ]
    }
   ],
   "source": [
    "# Determine the mean square error\n",
    "test_score = mean_squared_error(test, forecast[0])\n",
    "print('Test MSE: %.3f' % test_score)"
   ]
  },
  {
   "cell_type": "code",
   "execution_count": 26,
   "id": "89768ce1",
   "metadata": {},
   "outputs": [
    {
     "data": {
      "image/png": "[encoded data removed]",
      "text/plain": [
       "<Figure size 432x288 with 1 Axes>"
      ]
     },
     "metadata": {
      "needs_background": "light"
     },
     "output_type": "display_data"
    }
   ],
   "source": [
    "# Plot the dataset preictal_segment_1 with the forecast (forecast starting from the end of the train set and having a \n",
    "# length of the test set)\n",
    "\n",
    "df_average[0].plot()\n",
    "plt.plot(np.arange(len(df_average[0]))[train_size:], forecast[0],c='red')\n",
    "plt.title('Preictal segment_1 + calculated forecast with train set 66% and test set 34%')\n",
    "plt.xlabel('Time unit')\n",
    "plt.ylabel('Brain activity')\n",
    "plt.show()"
   ]
  },
  {
   "cell_type": "markdown",
   "id": "878e18c9",
   "metadata": {},
   "source": [
    "### Build the model with train set 90% and test set 10%"
   ]
  },
  {
   "cell_type": "code",
   "execution_count": 27,
   "id": "fac83998",
   "metadata": {},
   "outputs": [],
   "source": [
    "# split into train and test sets\n",
    "X = df_average[0].values\n",
    "train_size_2 = int(len(X) * 0.90)\n",
    "train_2, test_2 = X[:train_size_2], X[train_size_2:]"
   ]
  },
  {
   "cell_type": "code",
   "execution_count": 28,
   "id": "b79e2aff",
   "metadata": {},
   "outputs": [
    {
     "data": {
      "text/html": [
       "<table class=\"simpletable\">\n",
       "<caption>ARIMA Model Results</caption>\n",
       "<tr>\n",
       "  <th>Dep. Variable:</th>        <td>D.y</td>       <th>  No. Observations:  </th>    <td>26999</td>   \n",
       "</tr>\n",
       "<tr>\n",
       "  <th>Model:</th>          <td>ARIMA(0, 1, 0)</td>  <th>  Log Likelihood     </th> <td>-233285.846</td>\n",
       "</tr>\n",
       "<tr>\n",
       "  <th>Method:</th>               <td>css</td>       <th>  S.D. of innovations</th>  <td>1368.674</td>  \n",
       "</tr>\n",
       "<tr>\n",
       "  <th>Date:</th>          <td>Mon, 21 Jun 2021</td> <th>  AIC                </th> <td>466575.692</td> \n",
       "</tr>\n",
       "<tr>\n",
       "  <th>Time:</th>              <td>17:08:24</td>     <th>  BIC                </th> <td>466592.099</td> \n",
       "</tr>\n",
       "<tr>\n",
       "  <th>Sample:</th>                <td>1</td>        <th>  HQIC               </th> <td>466580.983</td> \n",
       "</tr>\n",
       "<tr>\n",
       "  <th></th>                       <td> </td>        <th>                     </th>      <td> </td>     \n",
       "</tr>\n",
       "</table>\n",
       "<table class=\"simpletable\">\n",
       "<tr>\n",
       "    <td></td>       <th>coef</th>     <th>std err</th>      <th>z</th>      <th>P>|z|</th>  <th>[0.025</th>    <th>0.975]</th>  \n",
       "</tr>\n",
       "<tr>\n",
       "  <th>const</th> <td>   -1.3495</td> <td>    8.330</td> <td>   -0.162</td> <td> 0.871</td> <td>  -17.675</td> <td>   14.976</td>\n",
       "</tr>\n",
       "</table>"
      ],
      "text/plain": [
       "<class 'statsmodels.iolib.summary.Summary'>\n",
       "\"\"\"\n",
       "                             ARIMA Model Results                              \n",
       "==============================================================================\n",
       "Dep. Variable:                    D.y   No. Observations:                26999\n",
       "Model:                 ARIMA(0, 1, 0)   Log Likelihood             -233285.846\n",
       "Method:                           css   S.D. of innovations           1368.674\n",
       "Date:                Mon, 21 Jun 2021   AIC                         466575.692\n",
       "Time:                        17:08:24   BIC                         466592.099\n",
       "Sample:                             1   HQIC                        466580.983\n",
       "                                                                              \n",
       "==============================================================================\n",
       "                 coef    std err          z      P>|z|      [0.025      0.975]\n",
       "------------------------------------------------------------------------------\n",
       "const         -1.3495      8.330     -0.162      0.871     -17.675      14.976\n",
       "==============================================================================\n",
       "\"\"\""
      ]
     },
     "execution_count": 28,
     "metadata": {},
     "output_type": "execute_result"
    }
   ],
   "source": [
    "# initialize the second model\n",
    "# p=3, d=0 ,q=6 based on the first segment preictal file [0,400] time units. Due to computation limit, parameters are now changed\n",
    "# to p=0, d=1 ,q=0\n",
    "arima = ARIMA(train_2, order=(0, 1, 0))\n",
    "\n",
    "# fit the second model\n",
    "arima = arima.fit()\n",
    "\n",
    "# evaluate the second model arima\n",
    "arima.summary()"
   ]
  },
  {
   "cell_type": "code",
   "execution_count": 29,
   "id": "8ae42112",
   "metadata": {},
   "outputs": [],
   "source": [
    "# Prepare the forecasts (predict the values of the time series based on train one)\n",
    "forecast_2 = arima.forecast(steps=len(test_2)) "
   ]
  },
  {
   "cell_type": "code",
   "execution_count": 30,
   "id": "e6374fe8",
   "metadata": {},
   "outputs": [
    {
     "name": "stdout",
     "output_type": "stream",
     "text": [
      "Test MSE: 7465585.502\n"
     ]
    }
   ],
   "source": [
    "# Determine the mean square error\n",
    "test_score_2 = mean_squared_error(test_2, forecast_2[0])\n",
    "print('Test MSE: %.3f' % test_score_2)"
   ]
  },
  {
   "cell_type": "code",
   "execution_count": 31,
   "id": "9bdc78bb",
   "metadata": {},
   "outputs": [
    {
     "data": {
      "image/png": "[encoded data removed]",
      "text/plain": [
       "<Figure size 432x288 with 1 Axes>"
      ]
     },
     "metadata": {
      "needs_background": "light"
     },
     "output_type": "display_data"
    }
   ],
   "source": [
    "# Plot the dataset preictal_segment_1 with the second forecast (forecast starting from the end of the train set and having a \n",
    "# length of the test set)\n",
    "\n",
    "df_average[0].plot()\n",
    "plt.plot(np.arange(len(df_average[0]))[train_size_2:], forecast_2[0],c='red')\n",
    "plt.title('Preictal segment_4 + calculated forecast with train set 90% and test set 10%')\n",
    "plt.xlabel('Time unit')\n",
    "plt.ylabel('Brain activity')\n",
    "plt.show()"
   ]
  },
  {
   "cell_type": "code",
   "execution_count": null,
   "id": "f27fb2c4",
   "metadata": {},
   "outputs": [],
   "source": []
  },
  {
   "cell_type": "code",
   "execution_count": null,
   "id": "e82e9f6a",
   "metadata": {},
   "outputs": [],
   "source": []
  }
 ],
 "metadata": {
  "kernelspec": {
   "display_name": "Python 3",
   "language": "python",
   "name": "python3"
  },
  "language_info": {
   "codemirror_mode": {
    "name": "ipython",
    "version": 3
   },
   "file_extension": ".py",
   "mimetype": "text/x-python",
   "name": "python",
   "nbconvert_exporter": "python",
   "pygments_lexer": "ipython3",
   "version": "3.8.6"
  },
  "toc": {
   "base_numbering": 1,
   "nav_menu": {},
   "number_sections": true,
   "sideBar": true,
   "skip_h1_title": false,
   "title_cell": "Table of Contents",
   "title_sidebar": "Contents",
   "toc_cell": false,
   "toc_position": {},
   "toc_section_display": true,
   "toc_window_display": false
  }
 },
 "nbformat": 4,
 "nbformat_minor": 5
}
