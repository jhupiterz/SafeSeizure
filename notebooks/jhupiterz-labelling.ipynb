{
 "cells": [
  {
   "cell_type": "markdown",
   "id": "150a09f4",
   "metadata": {},
   "source": [
    "# Code for labelling the time series"
   ]
  },
  {
   "cell_type": "code",
   "execution_count": 1,
   "id": "7da0b04c",
   "metadata": {},
   "outputs": [],
   "source": [
    "import pandas as pd\n",
    "import numpy as np"
   ]
  },
  {
   "cell_type": "markdown",
   "id": "9c9e22e1",
   "metadata": {},
   "source": [
    "## Labelling one csv file"
   ]
  },
  {
   "cell_type": "code",
   "execution_count": 6,
   "id": "f6f548e6",
   "metadata": {},
   "outputs": [],
   "source": [
    "# Loads the dataset\n",
    "patient_1_II_df = pd.read_csv('../raw_data/Patient_1_csv/train_segments/interictal_segment_19.csv')\n",
    "# Adds target column\n",
    "patient_1_II_df['target'] = 0\n",
    "# Exports dataset to csv\n",
    "patient_1_II_df.to_csv('../raw_data/Patient_1_csv/train_segments/interictal_segment_19_labelled.csv', index = False)"
   ]
  },
  {
   "cell_type": "markdown",
   "id": "f00a5378",
   "metadata": {},
   "source": [
    "## Labelling all csv files"
   ]
  },
  {
   "cell_type": "code",
   "execution_count": 24,
   "id": "006aac8b",
   "metadata": {},
   "outputs": [],
   "source": [
    "import os\n",
    "folder_path = '/Users/commander/code/jhupiterz/SafeSeizure/raw_data'\n",
    "files_1 = []\n",
    "files_2 = []\n",
    "\n",
    "dirs = ['Patient_1_csv', 'Patient_2_csv']\n",
    "for f in os.listdir(os.path.join(folder_path,dirs[0],'train_segments_unlabelled')):\n",
    "    files_1.append(f)\n",
    "    \n",
    "for f in os.listdir(os.path.join(folder_path,dirs[1],'train_segments_unlabelled')):\n",
    "    files_2.append(f)"
   ]
  },
  {
   "cell_type": "code",
   "execution_count": 26,
   "id": "0a73caab",
   "metadata": {},
   "outputs": [],
   "source": [
    "for f in files_1:\n",
    "    if f.startswith('interictal'):\n",
    "        target = 0\n",
    "    else:\n",
    "        target = 1\n",
    "    data = pd.read_csv(f'{folder_path}/{dirs[0]}/train_segments_unlabelled/{f}')\n",
    "    data['target'] = target\n",
    "    f_labelled = f.strip('.csv')\n",
    "    data.to_csv(f'{folder_path}/{dirs[0]}/train_segments_labelled/{f_labelled}_labelled.csv', index = False)"
   ]
  },
  {
   "cell_type": "code",
   "execution_count": null,
   "id": "65c2d6a7",
   "metadata": {},
   "outputs": [],
   "source": [
    "for f in files_2:\n",
    "    if f.startswith('interictal'):\n",
    "        target = 0\n",
    "    else:\n",
    "        target = 1\n",
    "    data = pd.read_csv(f'{folder_path}/{dirs[1]}/train_segments_unlabelled/{f}')\n",
    "    data['target'] = 1\n",
    "    f_labelled = f.strip('.csv')\n",
    "    data.to_csv(f'{folder_path}/{dirs[1]}/train_segments_labelled/{f_labelled}_labelled.csv', index = False)"
   ]
  }
 ],
 "metadata": {
  "kernelspec": {
   "display_name": "Python 3",
   "language": "python",
   "name": "python3"
  },
  "language_info": {
   "codemirror_mode": {
    "name": "ipython",
    "version": 3
   },
   "file_extension": ".py",
   "mimetype": "text/x-python",
   "name": "python",
   "nbconvert_exporter": "python",
   "pygments_lexer": "ipython3",
   "version": "3.8.6"
  },
  "toc": {
   "base_numbering": 1,
   "nav_menu": {},
   "number_sections": true,
   "sideBar": true,
   "skip_h1_title": false,
   "title_cell": "Table of Contents",
   "title_sidebar": "Contents",
   "toc_cell": false,
   "toc_position": {},
   "toc_section_display": true,
   "toc_window_display": false
  }
 },
 "nbformat": 4,
 "nbformat_minor": 5
}
