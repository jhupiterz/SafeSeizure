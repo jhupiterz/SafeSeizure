{
 "cells": [
  {
   "cell_type": "markdown",
   "id": "2c084b06",
   "metadata": {},
   "source": [
    "## IMPORTS"
   ]
  },
  {
   "cell_type": "code",
   "execution_count": 1,
   "id": "4cef40d6",
   "metadata": {
    "ExecuteTime": {
     "end_time": "2021-06-17T14:13:41.171083Z",
     "start_time": "2021-06-17T14:13:41.150528Z"
    }
   },
   "outputs": [],
   "source": [
    "%load_ext autoreload\n",
    "%autoreload 2\n",
    "import pandas as pd\n",
    "import numpy as np\n",
    "import matplotlib.pyplot as plt\n",
    "import seaborn as sns\n",
    "#import plotly.graph_objects as go"
   ]
  },
  {
   "cell_type": "code",
   "execution_count": 2,
   "id": "0132efd2",
   "metadata": {
    "ExecuteTime": {
     "end_time": "2021-06-17T14:13:41.496451Z",
     "start_time": "2021-06-17T14:13:41.432003Z"
    }
   },
   "outputs": [],
   "source": [
    "from scipy.io import loadmat\n",
    "from scipy.signal import decimate, stft"
   ]
  },
  {
   "cell_type": "code",
   "execution_count": 3,
   "id": "9de69f85",
   "metadata": {
    "ExecuteTime": {
     "end_time": "2021-06-17T14:13:41.860438Z",
     "start_time": "2021-06-17T14:13:41.624732Z"
    }
   },
   "outputs": [],
   "source": [
    "from sklearn.preprocessing import RobustScaler"
   ]
  },
  {
   "cell_type": "code",
   "execution_count": 4,
   "id": "2fbcb1d1",
   "metadata": {
    "ExecuteTime": {
     "end_time": "2021-06-17T14:13:41.902633Z",
     "start_time": "2021-06-17T14:13:41.887147Z"
    }
   },
   "outputs": [],
   "source": [
    "from numpy.fft import rfft, irfft, rfftfreq\n",
    "from scipy import fftpack"
   ]
  },
  {
   "cell_type": "code",
   "execution_count": 5,
   "id": "f14138ee",
   "metadata": {
    "ExecuteTime": {
     "end_time": "2021-06-17T14:13:42.431647Z",
     "start_time": "2021-06-17T14:13:42.413770Z"
    }
   },
   "outputs": [],
   "source": [
    "from os import path, walk"
   ]
  },
  {
   "cell_type": "markdown",
   "id": "588fec9c",
   "metadata": {},
   "source": [
    "## LOAD DATA"
   ]
  },
  {
   "cell_type": "code",
   "execution_count": 6,
   "id": "aa5717a5",
   "metadata": {
    "ExecuteTime": {
     "end_time": "2021-06-17T11:03:49.693933Z",
     "start_time": "2021-06-17T11:03:49.679431Z"
    }
   },
   "outputs": [],
   "source": [
    "#data = loadmat(\"Patient_1_interictal_segment_0001.mat\")\n",
    "#interictal_segment_1 = data['interictal_segment_1'][0][0][0]\n",
    "\n",
    "#mat files = original data at 5000 Hz"
   ]
  },
  {
   "cell_type": "code",
   "execution_count": 9,
   "id": "a729ce45",
   "metadata": {
    "ExecuteTime": {
     "end_time": "2021-06-17T11:04:11.212782Z",
     "start_time": "2021-06-17T11:04:11.195519Z"
    }
   },
   "outputs": [],
   "source": [
    "def load_full_series(subject=str, name=str, number_of_files=int):\n",
    "    full_df = pd.read_csv(f'{subject}_csv/{name}_segment_1.csv')\n",
    "    for index in range(2, number_of_files+1): \n",
    "        print(\"Processing file #\", index)\n",
    "        temp = pd.read_csv(f'{subject}_csv/{name}_segment_{index}.csv')\n",
    "        #get length of dataframe and define segmentation factor\n",
    "        \n",
    "        #temp = pd.DataFrame(scaler(temp)) #scale the data\n",
    "\n",
    "        full_df = full_df.merge(temp,left_index=True, right_index=True)\n",
    "        #print(full_df.shape)\n",
    "    \n",
    "    return full_df"
   ]
  },
  {
   "cell_type": "markdown",
   "id": "3d101ef9",
   "metadata": {},
   "source": [
    "### Downsample (100x)"
   ]
  },
  {
   "cell_type": "markdown",
   "id": "bfc4e5e6",
   "metadata": {
    "ExecuteTime": {
     "end_time": "2021-06-14T13:53:36.193629Z",
     "start_time": "2021-06-14T13:53:36.174574Z"
    }
   },
   "source": [
    "### Scale"
   ]
  },
  {
   "cell_type": "code",
   "execution_count": 6,
   "id": "00ead23e",
   "metadata": {
    "ExecuteTime": {
     "end_time": "2021-06-17T14:14:03.908395Z",
     "start_time": "2021-06-17T14:14:03.891670Z"
    },
    "scrolled": false
   },
   "outputs": [],
   "source": [
    "def scaler(df):\n",
    "    return RobustScaler().fit_transform(df)"
   ]
  },
  {
   "cell_type": "markdown",
   "id": "2fc2ea17",
   "metadata": {},
   "source": [
    "## BASELINE: get statistics for all the data by segments of 1000 datapoints"
   ]
  },
  {
   "cell_type": "code",
   "execution_count": null,
   "id": "5f4529f9",
   "metadata": {
    "ExecuteTime": {
     "end_time": "2021-06-17T06:42:44.592236Z",
     "start_time": "2021-06-17T06:42:44.572095Z"
    }
   },
   "outputs": [],
   "source": [
    "def stats_array_1000_points(subject=str, name=str,  number_of_files=int):\n",
    "\n",
    "    stats = [] #list to store the segment stats\n",
    "    \n",
    "    for index in range(1, number_of_files+1): \n",
    "        print(\"Processing file #\", index)\n",
    "        temp = pd.read_csv(f'{subject}_csv/{name}_segment_{index}.csv')\n",
    "        #get length of dataframe and define segmentation factor\n",
    "        idx = int(temp.iloc[0].shape[0]/(len(temp.iloc[0])/1000))\n",
    "        # dividing by 30 --> 1000 datapoints segments\n",
    "\n",
    "        temp = pd.DataFrame(scaler(temp)) #scale the data\n",
    "\n",
    "        i = 0\n",
    "\n",
    "        while i < temp.iloc[0].shape[0]:\n",
    "            for x in range(temp.shape[0]):\n",
    "                segment = temp.iloc[x][i:idx+i]\n",
    "                stats.append([x, np.mean(segment), np.median(segment), np.std(segment), np.var(segment)])\n",
    "\n",
    "            i = idx+i\n",
    "    return stats"
   ]
  },
  {
   "cell_type": "code",
   "execution_count": null,
   "id": "3b3bf350",
   "metadata": {
    "ExecuteTime": {
     "end_time": "2021-06-17T06:42:45.926425Z",
     "start_time": "2021-06-17T06:42:45.910116Z"
    }
   },
   "outputs": [],
   "source": [
    "def plot_sensor(stats_list, index):  #index = electrode number\n",
    "    mu = []\n",
    "    med = []\n",
    "    std = []\n",
    "    var = []\n",
    "\n",
    "    for i in stats_list:   #plot the stats for the first sensor\n",
    "        if i[0] == index:\n",
    "            mu.append(i[1])\n",
    "            med.append(i[2])\n",
    "            std.append(i[3])\n",
    "            var.append(i[4])\n",
    "\n",
    "    plt.figure(figsize=(20,15))\n",
    "    plt.xlim(0, len(mu))\n",
    "    plt.ylim(-1,1.5)\n",
    "    plt.plot(mu, label='mean')\n",
    "    plt.plot(med, label='median')\n",
    "    plt.plot(std, label='standard deviation')\n",
    "    plt.plot(var, label='variance')\n",
    "    plt.legend()"
   ]
  },
  {
   "cell_type": "markdown",
   "id": "1c74eef5",
   "metadata": {},
   "source": [
    "### Interictal data"
   ]
  },
  {
   "cell_type": "code",
   "execution_count": null,
   "id": "8d76f081",
   "metadata": {
    "ExecuteTime": {
     "end_time": "2021-06-16T13:54:22.909599Z",
     "start_time": "2021-06-16T13:51:27.193930Z"
    }
   },
   "outputs": [],
   "source": [
    "interictal_stats = stats_array_1000_points('Patient_1', 'interictal', 50)"
   ]
  },
  {
   "cell_type": "code",
   "execution_count": null,
   "id": "8a52acaf",
   "metadata": {
    "ExecuteTime": {
     "end_time": "2021-06-16T13:57:21.998450Z",
     "start_time": "2021-06-16T13:57:21.774462Z"
    }
   },
   "outputs": [],
   "source": [
    "plot_sensor(interictal_stats, 8)"
   ]
  },
  {
   "cell_type": "markdown",
   "id": "a1c29094",
   "metadata": {
    "ExecuteTime": {
     "end_time": "2021-06-15T12:32:59.826090Z",
     "start_time": "2021-06-15T12:32:59.794965Z"
    }
   },
   "source": [
    "### Preictal data"
   ]
  },
  {
   "cell_type": "code",
   "execution_count": null,
   "id": "55d00052",
   "metadata": {
    "ExecuteTime": {
     "end_time": "2021-06-16T14:00:54.613046Z",
     "start_time": "2021-06-16T13:59:51.277120Z"
    }
   },
   "outputs": [],
   "source": [
    "preictal_stats = stats_array_1000_points('Patient_1', 'preictal', 18)"
   ]
  },
  {
   "cell_type": "code",
   "execution_count": null,
   "id": "994c234a",
   "metadata": {
    "ExecuteTime": {
     "end_time": "2021-06-16T14:00:55.594233Z",
     "start_time": "2021-06-16T14:00:55.412570Z"
    }
   },
   "outputs": [],
   "source": [
    "plot_sensor(preictal_stats, 8)"
   ]
  },
  {
   "cell_type": "markdown",
   "id": "bc8c56d1",
   "metadata": {},
   "source": [
    "### Compare with the ictal dataset"
   ]
  },
  {
   "cell_type": "code",
   "execution_count": null,
   "id": "d500e381",
   "metadata": {
    "ExecuteTime": {
     "end_time": "2021-06-16T14:08:26.732032Z",
     "start_time": "2021-06-16T14:08:26.226883Z"
    }
   },
   "outputs": [],
   "source": [
    "#An actual epilepsy crisis recording, just for comparing with the interictal & preictal data.\n",
    "\n",
    "ictal = []\n",
    "for i in range(1,51):\n",
    "    ictal.append(loadmat(f\"EEG_Epilepsy_Datasets/ictal/ictal{i}.mat\")['ictal'])\n",
    "ictal = np.reshape(ictal, -1)\n",
    "\n",
    "idx = int(ictal.shape[0]/(len(ictal)/100))\n",
    "\n",
    "ictal_stats = []\n",
    "i = 0\n",
    "\n",
    "while i < ictal.shape[0]:\n",
    "    segment = ictal[i:idx+i]\n",
    "    segment = scaler(segment.reshape(-1,1))\n",
    "    ictal_stats.append([np.mean(segment), np.median(segment), np.std(segment), np.var(segment)])\n",
    "    i = idx+i\n",
    "    \n",
    "mu = []\n",
    "med = []\n",
    "std = []\n",
    "var = []\n",
    "\n",
    "for i in ictal_stats:\n",
    "        mu.append(i[0])\n",
    "        med.append(i[1])\n",
    "        std.append(i[2])\n",
    "        var.append(i[3])\n",
    "\n",
    "plt.figure(figsize=(20,15))\n",
    "ax = plt.gca()\n",
    "ax.set_xlim([0,len(ictal_stats)])\n",
    "ax.set_ylim([-0.5,2])\n",
    "plt.plot(mu, label='mu')\n",
    "plt.plot(med, label='median')\n",
    "plt.plot(std, label='std')\n",
    "plt.plot(var, label='variance')\n",
    "plt.legend()"
   ]
  },
  {
   "cell_type": "markdown",
   "id": "f3b9e76e",
   "metadata": {
    "ExecuteTime": {
     "end_time": "2021-06-16T13:24:15.291500Z",
     "start_time": "2021-06-16T13:24:15.262206Z"
    }
   },
   "source": [
    "### All the above = not useful"
   ]
  },
  {
   "cell_type": "markdown",
   "id": "364db5b4",
   "metadata": {
    "ExecuteTime": {
     "end_time": "2021-06-15T09:43:04.103465Z",
     "start_time": "2021-06-15T09:43:04.072926Z"
    }
   },
   "source": [
    "## Frequencies & Fourier Transform"
   ]
  },
  {
   "cell_type": "markdown",
   "id": "7e1f3e1b",
   "metadata": {},
   "source": [
    "### Functions"
   ]
  },
  {
   "cell_type": "code",
   "execution_count": 24,
   "id": "5d363895",
   "metadata": {
    "ExecuteTime": {
     "end_time": "2021-06-17T14:24:15.708350Z",
     "start_time": "2021-06-17T14:24:15.687208Z"
    }
   },
   "outputs": [],
   "source": [
    "#Brain waves frequencies\n",
    "\n",
    "def decompose_brainwaves(data):\n",
    "    delta = (0,4)\n",
    "    theta = (4.5,8)\n",
    "    alpha = (8.5,12)\n",
    "    beta = (12.5,35)\n",
    "    gamma = (35, 100)\n",
    "    zeta =(1000, 2000)\n",
    "\n",
    "    frequencies = rfftfreq(data.size, d=1/data.size)\n",
    "\n",
    "    fourier = rfft(data)\n",
    "    \n",
    "    output = []\n",
    "    for i in (alpha, beta, delta, theta, gamma, zeta):\n",
    "        #print(i)\n",
    "        ft_threshed = fourier.copy()\n",
    "        ft_threshed[(frequencies < i[0])] = 0\n",
    "        ft_threshed[(frequencies > i[1])] = 0 \n",
    "        output.append(irfft(ft_threshed))\n",
    "    \n",
    "    return output\n",
    "\n",
    "def plot_brainwaves(data, subject=str):\n",
    "    fig, axarr = plt.subplots(len(data), figsize=(20, 12))\n",
    "    for i, signal in enumerate(data):\n",
    "        plt.sca(axarr[i])\n",
    "        plt.plot(signal)\n",
    "    plt.gcf().suptitle(f\"frequency bands: {subject} data\", fontsize=24)\n",
    "    \n",
    "\n",
    "def plot_single_wave(data, label=str):\n",
    "    plt.figure(figsize=(20,12))\n",
    "    plt.xlim=(0,len(data))\n",
    "    plt.ylim=(-0.75,0.75)\n",
    "    sns.lineplot(data=data, label=label)\n",
    "    plt.legend()\n",
    "    plt.gcf().suptitle(f\"Gamma band: {label}\", fontsize=24)"
   ]
  },
  {
   "cell_type": "code",
   "execution_count": null,
   "id": "29ad3aec",
   "metadata": {
    "ExecuteTime": {
     "end_time": "2021-06-17T06:47:10.228102Z",
     "start_time": "2021-06-17T06:47:10.211488Z"
    }
   },
   "outputs": [],
   "source": [
    "#functions for sorting the file list by segment number, found on stackoverflow.\n",
    "import re\n",
    "\n",
    "def tryint(s):\n",
    "    try:\n",
    "        return int(s)\n",
    "    except:\n",
    "        return s\n",
    "\n",
    "def alphanum_key(s):\n",
    "    \"\"\" Turn a string into a list of string and number chunks.\n",
    "        \"z23a\" -> [\"z\", 23, \"a\"]\n",
    "    \"\"\"\n",
    "    return [ tryint(c) for c in re.split('([0-9]+)', s) ]\n",
    "\n",
    "def sort_nicely(l):\n",
    "    \"\"\" Sort the given list in the way that humans expect.\n",
    "    \"\"\"\n",
    "    l.sort(key=alphanum_key)\n",
    "    \n",
    "# I have no freaking idea how this works."
   ]
  },
  {
   "cell_type": "code",
   "execution_count": null,
   "id": "22fb39cd",
   "metadata": {
    "ExecuteTime": {
     "end_time": "2021-06-17T09:25:20.279753Z",
     "start_time": "2021-06-17T09:25:20.263036Z"
    }
   },
   "outputs": [],
   "source": [
    "def variance_evolution(subject=str):\n",
    "\n",
    "    filelist = []\n",
    "    \n",
    "    for root, dirs, files in walk(f'./{subject}'):\n",
    "        for f in files:\n",
    "            if 'preictal' in f:\n",
    "                filelist.append(f)\n",
    "\n",
    "    sort_nicely(filelist)\n",
    "    \n",
    "    variances = pd.DataFrame(columns=range(len(filelist))) #dataframe to store the variance for each segment/sensor\n",
    "    \n",
    "    for root, dirs, files in walk(f'./{subject}'):\n",
    "        for i in filelist:\n",
    "            print(i)\n",
    "            temp = pd.read_csv(path.join(root, i))\n",
    "            temp = pd.DataFrame(scaler(temp))\n",
    "            #print(temp)\n",
    "            for j in range(temp.shape[0]):   #iterate through all sensors\n",
    "                variances.loc[j, filelist.index(i)] = np.var(decompose_brainwaves(temp.iloc[j])[4])  #index 4 = gamma band\n",
    "                #print(variances.iloc[j])\n",
    "            \n",
    "    \n",
    "    return variances"
   ]
  },
  {
   "cell_type": "markdown",
   "id": "007da6dc",
   "metadata": {
    "ExecuteTime": {
     "end_time": "2021-06-17T07:22:05.106845Z",
     "start_time": "2021-06-17T07:22:05.071026Z"
    }
   },
   "source": [
    "##### PERHAPS INTERESTING - LATER\n",
    "\n",
    "import scipy\n",
    "import scipy.fftpack\n",
    "import pylab\n",
    "from scipy import pi\n",
    "t = scipy.linspace(0,120,4000)\n",
    "acc = lambda t: 10*scipy.sin(2*pi*2.0*t) + 5*scipy.sin(2*pi*8.0*t) + 2*scipy.random.random(len(t))\n",
    "\n",
    "signal = acc(t)\n",
    "\n",
    "FFT = abs(scipy.fft(signal))\n",
    "freqs = scipy.fftpack.fftfreq(signal.size, t[1]-t[0])\n",
    "\n",
    "pylab.subplot(211)\n",
    "pylab.plot(t, signal)\n",
    "pylab.subplot(212)\n",
    "pylab.plot(freqs,20*scipy.log10(FFT),'x')\n",
    "pylab.show()"
   ]
  },
  {
   "cell_type": "markdown",
   "id": "e05f6a54",
   "metadata": {
    "ExecuteTime": {
     "end_time": "2021-06-16T14:56:49.340281Z",
     "start_time": "2021-06-16T14:56:49.324732Z"
    }
   },
   "source": [
    "### Demo : frequency bands"
   ]
  },
  {
   "cell_type": "code",
   "execution_count": 26,
   "id": "f51f438d",
   "metadata": {
    "ExecuteTime": {
     "end_time": "2021-06-17T14:25:26.828915Z",
     "start_time": "2021-06-17T14:25:22.980040Z"
    },
    "scrolled": false
   },
   "outputs": [
    {
     "data": {
      "image/png": "[encoded data removed]",
      "text/plain": [
       "<Figure size 1440x864 with 6 Axes>"
      ]
     },
     "metadata": {},
     "output_type": "display_data"
    }
   ],
   "source": [
    "demo = pd.read_csv('Patient_2_csv/preictal_segment_1.csv')\n",
    "plot_brainwaves(decompose_brainwaves(pd.DataFrame(scaler(demo)).iloc[0]), 'Interictal')                   "
   ]
  },
  {
   "cell_type": "markdown",
   "id": "5f672b54",
   "metadata": {},
   "source": [
    "<br>\n",
    "<center><b style=\"color:blue; font-size:24px\">Only the last band seems useful<b><center>\n",
    "<br>"
   ]
  },
  {
   "cell_type": "markdown",
   "id": "5583e2c1",
   "metadata": {
    "heading_collapsed": true
   },
   "source": [
    "### Comparing first and last interictal & preictal segments"
   ]
  },
  {
   "cell_type": "code",
   "execution_count": null,
   "id": "9fceebcb",
   "metadata": {
    "ExecuteTime": {
     "end_time": "2021-06-16T14:25:39.291279Z",
     "start_time": "2021-06-16T14:25:38.139051Z"
    },
    "hidden": true
   },
   "outputs": [],
   "source": [
    "interictal_segment_first = pd.read_csv('Patient_1_csv/interictal_segment_1.csv')\n",
    "\n",
    "interictal_segment_last = pd.read_csv('Patient_1_csv/interictal_segment_45.csv') #actually 45th out of 50\n",
    "\n",
    "preictal_segment_first = pd.read_csv('Patient_1_csv/preictal_segment_1.csv')\n",
    "\n",
    "preictal_segment_last = pd.read_csv('Patient_1_csv/preictal_segment_18.csv')"
   ]
  },
  {
   "cell_type": "code",
   "execution_count": null,
   "id": "68023587",
   "metadata": {
    "ExecuteTime": {
     "end_time": "2021-06-16T14:45:32.039933Z",
     "start_time": "2021-06-16T14:45:32.010361Z"
    },
    "hidden": true
   },
   "outputs": [],
   "source": [
    "temp = decompose_brainwaves(pd.DataFrame(scaler(interictal_segment_first)).iloc[0])\n",
    "temp1 = decompose_brainwaves(pd.DataFrame(scaler(interictal_segment_last)).iloc[0])\n",
    "temp2 = decompose_brainwaves(pd.DataFrame(scaler(preictal_segment_first)).iloc[0])\n",
    "temp3 = decompose_brainwaves(pd.DataFrame(scaler(preictal_segment_last)).iloc[0])"
   ]
  },
  {
   "cell_type": "code",
   "execution_count": null,
   "id": "93a49c1c",
   "metadata": {
    "ExecuteTime": {
     "end_time": "2021-06-16T14:45:59.938142Z",
     "start_time": "2021-06-16T14:45:55.439013Z"
    },
    "hidden": true
   },
   "outputs": [],
   "source": [
    "plot_single_wave(temp[4])\n",
    "plot_single_wave(temp1[4])\n",
    "plot_single_wave(temp2[4])\n",
    "plot_single_wave(temp3[4])"
   ]
  },
  {
   "cell_type": "code",
   "execution_count": null,
   "id": "dbf24432",
   "metadata": {
    "ExecuteTime": {
     "end_time": "2021-06-16T14:28:00.137337Z",
     "start_time": "2021-06-16T14:27:57.639152Z"
    },
    "hidden": true
   },
   "outputs": [],
   "source": [
    "plot_brainwaves(decompose_brainwaves(pd.DataFrame(scaler(interictal_segment_last)).iloc[0]), 'Last Interictal')                   "
   ]
  },
  {
   "cell_type": "code",
   "execution_count": null,
   "id": "ce120f68",
   "metadata": {
    "ExecuteTime": {
     "end_time": "2021-06-16T14:26:55.396820Z",
     "start_time": "2021-06-16T14:26:52.887154Z"
    },
    "hidden": true
   },
   "outputs": [],
   "source": [
    "plot_brainwaves(decompose_brainwaves(pd.DataFrame(scaler(preictal_segment_last)).iloc[0]), 'Last Preictal')                   "
   ]
  },
  {
   "cell_type": "code",
   "execution_count": null,
   "id": "ffa52c42",
   "metadata": {
    "ExecuteTime": {
     "end_time": "2021-06-16T14:50:05.480712Z",
     "start_time": "2021-06-16T14:50:03.337900Z"
    },
    "hidden": true
   },
   "outputs": [],
   "source": [
    "temp = decompose_brainwaves(pd.DataFrame(scaler(interictal_segment_first)).iloc[0])\n",
    "\n",
    "temp1 = decompose_brainwaves(pd.DataFrame(scaler(interictal_segment_last)).iloc[0])\n",
    "\n",
    "temp2 = decompose_brainwaves(pd.DataFrame(scaler(preictal_segment_first)).iloc[0])\n",
    "\n",
    "temp3 = decompose_brainwaves(pd.DataFrame(scaler(preictal_segment_last)).iloc[0])"
   ]
  },
  {
   "cell_type": "code",
   "execution_count": null,
   "id": "910439ff",
   "metadata": {
    "ExecuteTime": {
     "end_time": "2021-06-16T14:48:38.828243Z",
     "start_time": "2021-06-16T14:48:36.738334Z"
    },
    "hidden": true
   },
   "outputs": [],
   "source": [
    "plt.figure(figsize=(20,10))\n",
    "plt.xlim=(0,len(temp[4]))\n",
    "plt.ylim=(-0.75,0.75)\n",
    "sns.lineplot(data=temp[4], label='interictal_first')\n",
    "sns.lineplot(data=temp1[4], label='interictal_last')\n",
    "#sns.lineplot(data=temp2[4], label='preictal_first')\n",
    "#sns.lineplot(data=temp3[4], label='preictal_last')\n",
    "plt.legend()"
   ]
  },
  {
   "cell_type": "code",
   "execution_count": null,
   "id": "36457dbb",
   "metadata": {
    "ExecuteTime": {
     "end_time": "2021-06-16T14:50:36.820216Z",
     "start_time": "2021-06-16T14:50:36.797688Z"
    },
    "hidden": true
   },
   "outputs": [],
   "source": [
    "print('Interical first variance:', np.var(temp[4]))\n",
    "print('Interical last variance:', np.var(temp1[4]))\n",
    "print('Preictal first variance:', np.var(temp2[4]))\n",
    "print('Preictal last variance:', np.var(temp3[4]))"
   ]
  },
  {
   "cell_type": "markdown",
   "id": "4d21feec",
   "metadata": {
    "ExecuteTime": {
     "end_time": "2021-06-16T15:24:43.957813Z",
     "start_time": "2021-06-16T15:24:43.936713Z"
    }
   },
   "source": [
    "### Plot the variance evolution for the entire dataset"
   ]
  },
  {
   "cell_type": "code",
   "execution_count": null,
   "id": "d6220cf4",
   "metadata": {
    "ExecuteTime": {
     "end_time": "2021-06-17T09:27:07.594510Z",
     "start_time": "2021-06-17T09:26:06.229256Z"
    }
   },
   "outputs": [],
   "source": [
    "variances_patient_1 = variance_evolution('Patient_1_csv')"
   ]
  },
  {
   "cell_type": "code",
   "execution_count": null,
   "id": "40848059",
   "metadata": {
    "ExecuteTime": {
     "end_time": "2021-06-17T09:29:06.514381Z",
     "start_time": "2021-06-17T09:29:06.293617Z"
    }
   },
   "outputs": [],
   "source": [
    "plt.figure(figsize=(20,15))\n",
    "for i in range(variances_patient_1.shape[0]):\n",
    "    plt.plot(variances_patient_1.iloc[i], label=i);\n",
    "plt.legend()\n",
    "plt.title('Variance Evolution - Patient 1');"
   ]
  },
  {
   "cell_type": "code",
   "execution_count": null,
   "id": "3cdea429",
   "metadata": {
    "ExecuteTime": {
     "end_time": "2021-06-17T09:34:34.381780Z",
     "start_time": "2021-06-17T09:34:34.157364Z"
    }
   },
   "outputs": [],
   "source": [
    "plt.figure(figsize=(15,10))\n",
    "sns.heatmap(variances_patient_1.astype('float64').corr());\n",
    "plt.title('Correlation map');"
   ]
  },
  {
   "cell_type": "code",
   "execution_count": null,
   "id": "ad8bb82b",
   "metadata": {
    "ExecuteTime": {
     "end_time": "2021-06-17T09:32:23.991854Z",
     "start_time": "2021-06-17T09:31:21.747397Z"
    }
   },
   "outputs": [],
   "source": [
    "variances_patient_2 = variance_evolution('Patient_2_csv')"
   ]
  },
  {
   "cell_type": "code",
   "execution_count": null,
   "id": "be3945c3",
   "metadata": {
    "ExecuteTime": {
     "end_time": "2021-06-17T09:33:19.857746Z",
     "start_time": "2021-06-17T09:33:19.543537Z"
    }
   },
   "outputs": [],
   "source": [
    "plt.figure(figsize=(20,15))\n",
    "for i in range(variances_patient_2.shape[0]):\n",
    "    plt.plot(variances_patient_2.iloc[i], label=i);\n",
    "plt.legend()\n",
    "plt.title('Variance Evolution - Patient 2');"
   ]
  },
  {
   "cell_type": "code",
   "execution_count": null,
   "id": "5a7a64ec",
   "metadata": {
    "ExecuteTime": {
     "end_time": "2021-06-17T09:35:23.180275Z",
     "start_time": "2021-06-17T09:35:22.957490Z"
    }
   },
   "outputs": [],
   "source": [
    "plt.figure(figsize=(15,10))\n",
    "sns.heatmap(variances_patient_2.astype('float64').corr());\n",
    "plt.title('Correlation map');"
   ]
  },
  {
   "cell_type": "code",
   "execution_count": 10,
   "id": "a336b132",
   "metadata": {
    "ExecuteTime": {
     "end_time": "2021-06-17T11:05:05.740086Z",
     "start_time": "2021-06-17T11:04:40.971392Z"
    }
   },
   "outputs": [
    {
     "name": "stdout",
     "output_type": "stream",
     "text": [
      "Processing file # 2\n",
      "(24, 60000)\n",
      "Processing file # 3\n",
      "(24, 90000)\n",
      "Processing file # 4\n",
      "(24, 120000)\n",
      "Processing file # 5\n",
      "(24, 150000)\n",
      "Processing file # 6\n",
      "(24, 180000)\n",
      "Processing file # 7\n",
      "(24, 210000)\n",
      "Processing file # 8\n",
      "(24, 240000)\n",
      "Processing file # 9\n",
      "(24, 270000)\n",
      "Processing file # 10\n",
      "(24, 300000)\n",
      "Processing file # 11\n",
      "(24, 330000)\n",
      "Processing file # 12\n",
      "(24, 360000)\n",
      "Processing file # 13\n",
      "(24, 390000)\n",
      "Processing file # 14\n",
      "(24, 420000)\n",
      "Processing file # 15\n",
      "(24, 450000)\n",
      "Processing file # 16\n",
      "(24, 480000)\n",
      "Processing file # 17\n",
      "(24, 510000)\n",
      "Processing file # 18\n",
      "(24, 540000)\n"
     ]
    }
   ],
   "source": [
    "full_pre_patient2 = load_full_series('Patient_2','preictal', 18)"
   ]
  },
  {
   "cell_type": "code",
   "execution_count": 11,
   "id": "048883ca",
   "metadata": {
    "ExecuteTime": {
     "end_time": "2021-06-17T11:05:57.840444Z",
     "start_time": "2021-06-17T11:05:33.221299Z"
    },
    "scrolled": true
   },
   "outputs": [
    {
     "name": "stdout",
     "output_type": "stream",
     "text": [
      "Processing file # 2\n",
      "(15, 60000)\n",
      "Processing file # 3\n",
      "(15, 90000)\n",
      "Processing file # 4\n",
      "(15, 120000)\n",
      "Processing file # 5\n",
      "(15, 150000)\n",
      "Processing file # 6\n",
      "(15, 180000)\n",
      "Processing file # 7\n",
      "(15, 210000)\n",
      "Processing file # 8\n",
      "(15, 240000)\n",
      "Processing file # 9\n",
      "(15, 270000)\n",
      "Processing file # 10\n",
      "(15, 300000)\n",
      "Processing file # 11\n",
      "(15, 330000)\n",
      "Processing file # 12\n",
      "(15, 360000)\n",
      "Processing file # 13\n",
      "(15, 390000)\n",
      "Processing file # 14\n",
      "(15, 420000)\n",
      "Processing file # 15\n",
      "(15, 450000)\n",
      "Processing file # 16\n",
      "(15, 480000)\n",
      "Processing file # 17\n",
      "(15, 510000)\n",
      "Processing file # 18\n",
      "(15, 540000)\n"
     ]
    }
   ],
   "source": [
    "full_pre_patient1 = load_full_series('Patient_1','preictal', 18)"
   ]
  },
  {
   "cell_type": "code",
   "execution_count": 13,
   "id": "5042d449",
   "metadata": {
    "ExecuteTime": {
     "end_time": "2021-06-17T11:08:40.397791Z",
     "start_time": "2021-06-17T11:07:56.670057Z"
    }
   },
   "outputs": [],
   "source": [
    "full_pre_patient1.to_csv('full_preictal_1')\n",
    "full_pre_patient2.to_csv('full_preictal_2')"
   ]
  },
  {
   "cell_type": "code",
   "execution_count": null,
   "id": "4e5dd649",
   "metadata": {
    "ExecuteTime": {
     "end_time": "2021-06-17T09:39:56.704852Z",
     "start_time": "2021-06-17T09:39:56.687325Z"
    }
   },
   "outputs": [],
   "source": [
    "from scipy.signal import welch"
   ]
  },
  {
   "cell_type": "code",
   "execution_count": null,
   "id": "35bcd918",
   "metadata": {
    "ExecuteTime": {
     "end_time": "2021-06-17T09:42:12.570671Z",
     "start_time": "2021-06-17T09:42:12.548628Z"
    },
    "scrolled": true
   },
   "outputs": [],
   "source": [
    "welch(variances_patient_1.iloc[0])"
   ]
  },
  {
   "cell_type": "code",
   "execution_count": null,
   "id": "d809cc5b",
   "metadata": {
    "ExecuteTime": {
     "end_time": "2021-06-17T09:42:35.178968Z",
     "start_time": "2021-06-17T09:42:35.158023Z"
    }
   },
   "outputs": [],
   "source": [
    "variances_patient_1.iloc[0]"
   ]
  },
  {
   "cell_type": "markdown",
   "id": "2989f04b",
   "metadata": {},
   "source": [
    "## CONVERTING THE FREQUENCIES INTO SOUND ?"
   ]
  },
  {
   "cell_type": "code",
   "execution_count": null,
   "id": "89feda83",
   "metadata": {
    "ExecuteTime": {
     "end_time": "2021-06-16T13:02:25.206982Z",
     "start_time": "2021-06-16T13:02:25.173640Z"
    }
   },
   "outputs": [],
   "source": [
    "import librosa\n",
    "from librosa import display"
   ]
  },
  {
   "cell_type": "code",
   "execution_count": null,
   "id": "a77ed68d",
   "metadata": {
    "ExecuteTime": {
     "end_time": "2021-06-16T11:47:31.081857Z",
     "start_time": "2021-06-16T11:47:31.056217Z"
    }
   },
   "outputs": [],
   "source": [
    "from IPython.display import Audio"
   ]
  },
  {
   "cell_type": "code",
   "execution_count": null,
   "id": "5083b7f7",
   "metadata": {
    "ExecuteTime": {
     "end_time": "2021-06-16T12:40:30.040652Z",
     "start_time": "2021-06-16T12:40:30.014524Z"
    }
   },
   "outputs": [],
   "source": [
    "samples, sampling_rate = librosa.load('test.wav', \n",
    "                                      sr=None, mono=True, offset=0.0, duration=None)"
   ]
  },
  {
   "cell_type": "code",
   "execution_count": null,
   "id": "b84c104c",
   "metadata": {
    "ExecuteTime": {
     "end_time": "2021-06-16T13:07:03.121048Z",
     "start_time": "2021-06-16T13:07:02.886578Z"
    }
   },
   "outputs": [],
   "source": [
    "plt.figure(figsize=(20,15))\n",
    "librosa.display.waveplot(y=np.array(interictal_segment_last.iloc[0]), sr=5000, label='Interictal Last')\n",
    "librosa.display.waveplot(y=np.array(interictal_segment_1.iloc[0]), sr=5000, label='Interictal First')\n",
    "plt.legend()\n"
   ]
  },
  {
   "cell_type": "code",
   "execution_count": null,
   "id": "16df4a35",
   "metadata": {
    "ExecuteTime": {
     "end_time": "2021-06-16T13:11:37.404179Z",
     "start_time": "2021-06-16T13:11:37.367862Z"
    }
   },
   "outputs": [],
   "source": [
    "max(preictal_segment_last.iloc[0])"
   ]
  },
  {
   "cell_type": "code",
   "execution_count": null,
   "id": "5492f30d",
   "metadata": {
    "ExecuteTime": {
     "end_time": "2021-06-16T13:21:51.127463Z",
     "start_time": "2021-06-16T13:19:27.940250Z"
    }
   },
   "outputs": [],
   "source": [
    "plt.figure(figsize=(20,15))\n",
    "sns.lineplot(data=preictal_segment_first.iloc[0])\n",
    "#plt.plot(preictal_segment_last.iloc[0])\n"
   ]
  },
  {
   "cell_type": "code",
   "execution_count": null,
   "id": "26a7254c",
   "metadata": {
    "ExecuteTime": {
     "end_time": "2021-06-16T13:10:22.330233Z",
     "start_time": "2021-06-16T13:10:22.082714Z"
    },
    "scrolled": false
   },
   "outputs": [],
   "source": [
    "plt.figure(figsize=(20,15))\n",
    "\n",
    "librosa.display.waveplot(y=np.array(preictal_segment_last.iloc[0]), sr=5000, label='Preictal Last')\n",
    "librosa.display.waveplot(y=np.array(preictal_segment_first.iloc[0]), sr=5000, label='Preictal First')\n",
    "plt.ylim=(-1000,1000)\n",
    "plt.legend()"
   ]
  },
  {
   "cell_type": "code",
   "execution_count": null,
   "id": "fbc84a0d",
   "metadata": {
    "ExecuteTime": {
     "end_time": "2021-06-16T12:53:43.753076Z",
     "start_time": "2021-06-16T12:53:43.717315Z"
    }
   },
   "outputs": [],
   "source": [
    "from scipy.io import wavfile"
   ]
  },
  {
   "cell_type": "code",
   "execution_count": null,
   "id": "806b5015",
   "metadata": {
    "ExecuteTime": {
     "end_time": "2021-06-16T12:57:57.419786Z",
     "start_time": "2021-06-16T12:57:57.394742Z"
    }
   },
   "outputs": [],
   "source": [
    "wavfile.write('test2.wav', rate=5000, data=interictal_segment_last.iloc[0])"
   ]
  },
  {
   "cell_type": "code",
   "execution_count": null,
   "id": "dd83cbd3",
   "metadata": {
    "ExecuteTime": {
     "end_time": "2021-06-16T12:58:54.882566Z",
     "start_time": "2021-06-16T12:58:54.854551Z"
    }
   },
   "outputs": [],
   "source": [
    "samples, sampling_rate = librosa.load('test2.wav', \n",
    "                                      sr=None, mono=True, offset=0.0, duration=None)"
   ]
  },
  {
   "cell_type": "code",
   "execution_count": null,
   "id": "c6f221e2",
   "metadata": {
    "ExecuteTime": {
     "end_time": "2021-06-16T12:59:25.701797Z",
     "start_time": "2021-06-16T12:59:25.676114Z"
    }
   },
   "outputs": [],
   "source": [
    "samples[0]"
   ]
  },
  {
   "cell_type": "code",
   "execution_count": null,
   "id": "35cb68e7",
   "metadata": {
    "ExecuteTime": {
     "end_time": "2021-06-16T12:59:55.994744Z",
     "start_time": "2021-06-16T12:59:55.967781Z"
    }
   },
   "outputs": [],
   "source": [
    "interictal_segment_last.iloc[0]"
   ]
  },
  {
   "cell_type": "code",
   "execution_count": null,
   "id": "b367699c",
   "metadata": {
    "ExecuteTime": {
     "end_time": "2021-06-16T12:42:02.149273Z",
     "start_time": "2021-06-16T12:42:02.124047Z"
    }
   },
   "outputs": [],
   "source": [
    "sampling_rate"
   ]
  },
  {
   "cell_type": "code",
   "execution_count": null,
   "id": "5084e19f",
   "metadata": {
    "ExecuteTime": {
     "end_time": "2021-06-16T12:30:11.764266Z",
     "start_time": "2021-06-16T12:30:11.734847Z"
    }
   },
   "outputs": [],
   "source": [
    "with open('test1.wav', 'wb') as f:\n",
    "    f.write(Audio(interictal_segment_last.iloc[0], rate=5000).data)"
   ]
  },
  {
   "cell_type": "code",
   "execution_count": null,
   "id": "9f54a71c",
   "metadata": {
    "ExecuteTime": {
     "end_time": "2021-06-16T12:13:07.727435Z",
     "start_time": "2021-06-16T12:13:07.704162Z"
    },
    "scrolled": true
   },
   "outputs": [],
   "source": [
    "Audio(np.array(preictal_segment_first.iloc[0]), rate=5000)"
   ]
  },
  {
   "cell_type": "code",
   "execution_count": null,
   "id": "32f630b0",
   "metadata": {
    "ExecuteTime": {
     "end_time": "2021-06-16T12:13:50.829437Z",
     "start_time": "2021-06-16T12:13:50.800484Z"
    }
   },
   "outputs": [],
   "source": [
    "Audio(np.array(preictal_segment_last.iloc[0]), rate=5000)"
   ]
  },
  {
   "cell_type": "code",
   "execution_count": null,
   "id": "65c123ed",
   "metadata": {},
   "outputs": [],
   "source": []
  }
 ],
 "metadata": {
  "kernelspec": {
   "display_name": "Python 3",
   "language": "python",
   "name": "python3"
  },
  "language_info": {
   "codemirror_mode": {
    "name": "ipython",
    "version": 3
   },
   "file_extension": ".py",
   "mimetype": "text/x-python",
   "name": "python",
   "nbconvert_exporter": "python",
   "pygments_lexer": "ipython3",
   "version": "3.8.6"
  },
  "toc": {
   "base_numbering": 1,
   "nav_menu": {},
   "number_sections": true,
   "sideBar": true,
   "skip_h1_title": true,
   "title_cell": "Table of Contents",
   "title_sidebar": "Contents",
   "toc_cell": false,
   "toc_position": {
    "height": "calc(100% - 180px)",
    "left": "10px",
    "top": "150px",
    "width": "220.2px"
   },
   "toc_section_display": true,
   "toc_window_display": true
  },
  "varInspector": {
   "cols": {
    "lenName": 16,
    "lenType": 16,
    "lenVar": 40
   },
   "kernels_config": {
    "python": {
     "delete_cmd_postfix": "",
     "delete_cmd_prefix": "del ",
     "library": "var_list.py",
     "varRefreshCmd": "print(var_dic_list())"
    },
    "r": {
     "delete_cmd_postfix": ") ",
     "delete_cmd_prefix": "rm(",
     "library": "var_list.r",
     "varRefreshCmd": "cat(var_dic_list()) "
    }
   },
   "types_to_exclude": [
    "module",
    "function",
    "builtin_function_or_method",
    "instance",
    "_Feature"
   ],
   "window_display": false
  }
 },
 "nbformat": 4,
 "nbformat_minor": 5
}
