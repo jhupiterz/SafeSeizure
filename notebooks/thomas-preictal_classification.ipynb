{
 "cells": [
  {
   "cell_type": "markdown",
   "id": "d2a75042",
   "metadata": {},
   "source": [
    "# Noise reduction + wavelet transform"
   ]
  },
  {
   "cell_type": "markdown",
   "id": "38c9975d",
   "metadata": {},
   "source": [
    "## Overall process\n",
    "\n",
    "From each segments:\n",
    "\n",
    "* Noise reduction using ICA algorithm (fastICA from sklearn)\n",
    "* Wavelet transform\n",
    "* Features extraction (mean absolute value, average power, standard deviation, variance, mean, skewness, and Shannon entropy)\n",
    "* Classification (KNN, SVM, ...)"
   ]
  },
  {
   "cell_type": "markdown",
   "id": "0d4a0240",
   "metadata": {},
   "source": [
    "## Imports"
   ]
  },
  {
   "cell_type": "code",
   "execution_count": 4,
   "id": "32723afa",
   "metadata": {
    "ExecuteTime": {
     "end_time": "2021-06-23T09:05:47.017954Z",
     "start_time": "2021-06-23T09:05:46.614641Z"
    }
   },
   "outputs": [],
   "source": [
    "import pywt\n",
    "from os import listdir, path, walk, makedirs\n",
    "import random\n",
    "import numpy as np\n",
    "from pyentrp import entropy\n",
    "from scipy.stats import median_absolute_deviation\n",
    "from sklearn.preprocessing import RobustScaler\n",
    "import pandas as pd\n",
    "import scipy.io\n",
    "from scipy.signal import spectrogram\n",
    "from scipy.signal import resample\n",
    "import matplotlib.pyplot as plt\n",
    "import seaborn as sns\n",
    "import warnings\n",
    "warnings.filterwarnings('ignore')"
   ]
  },
  {
   "cell_type": "code",
   "execution_count": 24,
   "id": "800cc227",
   "metadata": {
    "ExecuteTime": {
     "end_time": "2021-06-23T09:12:26.938144Z",
     "start_time": "2021-06-23T09:12:26.925077Z"
    }
   },
   "outputs": [],
   "source": [
    "from sklearn.linear_model import LogisticRegression\n",
    "from sklearn.ensemble import RandomForestClassifier, GradientBoostingClassifier\n",
    "from sklearn.neighbors import KNeighborsClassifier\n",
    "from sklearn.svm import SVC\n",
    "from sklearn.model_selection import train_test_split\n",
    "from sklearn.model_selection import cross_validate\n",
    "from sklearn.metrics import plot_confusion_matrix, confusion_matrix, f1_score, accuracy_score, recall_score, precision_score, make_scorer"
   ]
  },
  {
   "cell_type": "code",
   "execution_count": 6,
   "id": "7d47dbf6",
   "metadata": {
    "ExecuteTime": {
     "end_time": "2021-06-23T09:05:47.110462Z",
     "start_time": "2021-06-23T09:05:47.107655Z"
    }
   },
   "outputs": [],
   "source": [
    "import pickle"
   ]
  },
  {
   "cell_type": "markdown",
   "id": "a36d74ca",
   "metadata": {},
   "source": [
    "## Load test data"
   ]
  },
  {
   "cell_type": "markdown",
   "id": "c90f28d1",
   "metadata": {},
   "source": [
    "## ICA noise reduction"
   ]
  },
  {
   "cell_type": "code",
   "execution_count": 7,
   "id": "bec0d8a4",
   "metadata": {
    "ExecuteTime": {
     "end_time": "2021-06-23T09:05:47.115205Z",
     "start_time": "2021-06-23T09:05:47.112652Z"
    }
   },
   "outputs": [],
   "source": [
    "from sklearn.decomposition import FastICA"
   ]
  },
  {
   "cell_type": "markdown",
   "id": "5f6838c1",
   "metadata": {},
   "source": [
    "## Feature extraction"
   ]
  },
  {
   "cell_type": "code",
   "execution_count": 8,
   "id": "f4e503f0",
   "metadata": {
    "ExecuteTime": {
     "end_time": "2021-06-23T09:05:47.120433Z",
     "start_time": "2021-06-23T09:05:47.117817Z"
    }
   },
   "outputs": [],
   "source": [
    "# mean absolute value, average power, standard deviation, variance, mean, skewness, and Shannon entropy"
   ]
  },
  {
   "cell_type": "code",
   "execution_count": 9,
   "id": "56a21010",
   "metadata": {
    "ExecuteTime": {
     "end_time": "2021-06-23T09:05:47.125899Z",
     "start_time": "2021-06-23T09:05:47.122225Z"
    }
   },
   "outputs": [],
   "source": [
    "def flatten_list(l):\n",
    "    flat_list = []\n",
    "    for sublist in l:\n",
    "        for item in sublist:\n",
    "            flat_list.append(item)\n",
    "    return flat_list"
   ]
  },
  {
   "cell_type": "code",
   "execution_count": 10,
   "id": "75409500",
   "metadata": {
    "ExecuteTime": {
     "end_time": "2021-06-23T09:05:47.130825Z",
     "start_time": "2021-06-23T09:05:47.127760Z"
    }
   },
   "outputs": [],
   "source": [
    "def mean_absolute_value(array):\n",
    "    absolute_values = []\n",
    "    for i in range(len(array)):\n",
    "        absolute_values.append(abs(array[i]))\n",
    "    mean_absolute_value = np.asarray(absolute_values).sum()*(1/len(array))\n",
    "    #print(mean_absolute_value)\n",
    "    return mean_absolute_value"
   ]
  },
  {
   "cell_type": "code",
   "execution_count": 11,
   "id": "ce2ab081",
   "metadata": {
    "ExecuteTime": {
     "end_time": "2021-06-23T09:05:47.137835Z",
     "start_time": "2021-06-23T09:05:47.133736Z"
    }
   },
   "outputs": [],
   "source": [
    "def average_power(array):\n",
    "    average_power_values = []\n",
    "    for i in range(len(array)):\n",
    "        average_power_values.append(abs(array[i])**2)\n",
    "    average_power_value = np.asarray(average_power_values).sum()*(1/len(array))\n",
    "    #print(average_power_value)\n",
    "    return average_power_value"
   ]
  },
  {
   "cell_type": "code",
   "execution_count": 12,
   "id": "e236ebcf",
   "metadata": {
    "ExecuteTime": {
     "end_time": "2021-06-23T09:05:47.143054Z",
     "start_time": "2021-06-23T09:05:47.140004Z"
    }
   },
   "outputs": [],
   "source": [
    "def shan(d1):\n",
    "    sh1=[]\n",
    "    d1=np.rint(d1)\n",
    "    for i in range(d1.shape[0]):\n",
    "        X=d1[i]\n",
    "        sh1.append(entropy.shannon_entropy(X))\n",
    "    return(sh1)"
   ]
  },
  {
   "cell_type": "code",
   "execution_count": 13,
   "id": "caf3d1f5",
   "metadata": {
    "ExecuteTime": {
     "end_time": "2021-06-23T09:05:47.150291Z",
     "start_time": "2021-06-23T09:05:47.144807Z"
    }
   },
   "outputs": [],
   "source": [
    "def feature_extraction(decomposed_signals):\n",
    "    mav = []\n",
    "    avp = []\n",
    "    std = []\n",
    "    var = []\n",
    "    mean = []\n",
    "    for coeff in decomposed_signals:\n",
    "        mav_electrode = []\n",
    "        avp_electrode = []\n",
    "        std_electrode = []\n",
    "        var_electrode = []\n",
    "        mean_electrode = []\n",
    "        for electrode in coeff:\n",
    "            mav_electrode.append(mean_absolute_value(electrode))\n",
    "            avp_electrode.append(average_power(electrode))\n",
    "            std_electrode.append(np.std(electrode))\n",
    "            var_electrode.append(np.var(electrode))\n",
    "            mean_electrode.append(np.mean(electrode))\n",
    "        mav.append(mav_electrode)\n",
    "        avp.append(avp_electrode)\n",
    "        std.append(std_electrode)\n",
    "        var.append(var_electrode)\n",
    "        mean.append(mean_electrode)\n",
    "    mav = flatten_list(mav)\n",
    "    avp = flatten_list(avp)\n",
    "    std = flatten_list(std)\n",
    "    var = flatten_list(var)\n",
    "    mean = flatten_list(mean)\n",
    "    shan_ent = []\n",
    "    for i in range(len(decomposed_signals)):\n",
    "        shan_ent.append(shan(coeffs[i]))\n",
    "    shan_ent = flatten_list(shan_ent)\n",
    "    data = np.vstack((np.array(mav), np.array(avp), \n",
    "                     np.array(std), np.array(var), np.array(mean), np.array(shan_ent)))\n",
    "    #data = pd.DataFrame(data)\n",
    "    features = data.T\n",
    "    #features.columns = ['mean_abs_value', 'average_power', 'std', 'var', 'mean', 'shannon_entropy']\n",
    "\n",
    "    return features"
   ]
  },
  {
   "cell_type": "code",
   "execution_count": 14,
   "id": "7a0b7821",
   "metadata": {
    "ExecuteTime": {
     "end_time": "2021-06-23T09:05:47.154899Z",
     "start_time": "2021-06-23T09:05:47.151867Z"
    }
   },
   "outputs": [],
   "source": [
    "import re \n",
    "def regex(filename):\n",
    "    return re.findall('(?<=\\_)\\d+(?=\\W)', filename)\n"
   ]
  },
  {
   "cell_type": "code",
   "execution_count": 15,
   "id": "a6a4c130",
   "metadata": {
    "ExecuteTime": {
     "end_time": "2021-06-23T09:05:47.161172Z",
     "start_time": "2021-06-23T09:05:47.157078Z"
    }
   },
   "outputs": [],
   "source": [
    "def tryint(s):\n",
    "    try:\n",
    "        return int(s)\n",
    "    except:\n",
    "        return s\n",
    "\n",
    "def alphanum_key(s):\n",
    "    \"\"\" Turn a string into a list of string and number chunks.\n",
    "        \"z23a\" -> [\"z\", 23, \"a\"]\n",
    "    \"\"\"\n",
    "    return [ tryint(c) for c in re.split('([0-9]+)', s) ]\n",
    "\n",
    "def sort_nicely(l):\n",
    "    \"\"\" Sort the given list in the way that humans expect.\n",
    "    \"\"\"\n",
    "    l.sort(key=alphanum_key)\n",
    "    \n",
    "    return l"
   ]
  },
  {
   "cell_type": "code",
   "execution_count": 16,
   "id": "28da9790",
   "metadata": {
    "ExecuteTime": {
     "end_time": "2021-06-23T09:05:49.685869Z",
     "start_time": "2021-06-23T09:05:47.163098Z"
    }
   },
   "outputs": [],
   "source": [
    "with open('features', 'rb') as f:\n",
    "    features = pickle.load(f)\n",
    "with open('target', 'rb') as f:\n",
    "    target = pickle.load(f)"
   ]
  },
  {
   "cell_type": "code",
   "execution_count": 17,
   "id": "2732b2ce",
   "metadata": {
    "ExecuteTime": {
     "end_time": "2021-06-23T09:05:50.302836Z",
     "start_time": "2021-06-23T09:05:49.687183Z"
    }
   },
   "outputs": [],
   "source": [
    "# flatten the ndarray\n",
    "flatten_data = np.array(features).reshape(len(features),-1)\n",
    "del features\n",
    "target = np.array(target)"
   ]
  },
  {
   "cell_type": "markdown",
   "id": "4a39b828",
   "metadata": {
    "ExecuteTime": {
     "end_time": "2021-06-22T05:43:19.168575Z",
     "start_time": "2021-06-22T05:43:19.161230Z"
    }
   },
   "source": [
    "filelist = []\n",
    "for root, dirs, files in walk('Preictal_only_mixed/'):\n",
    "    for f in files:\n",
    "        if 'preictal' in f: \n",
    "            filelist.append(path.join(root, f))\n",
    "filelist = sort_nicely(filelist)"
   ]
  },
  {
   "cell_type": "markdown",
   "id": "2b82b7a2",
   "metadata": {
    "ExecuteTime": {
     "end_time": "2021-06-21T13:43:44.769689Z",
     "start_time": "2021-06-21T13:42:22.045237Z"
    },
    "collapsed": true
   },
   "source": [
    "\n",
    "class_number = 1\n",
    "if not path.exists(path.join(f'split_csv/{class_number}')):\n",
    "            makedirs(path.join(f'split_csv/{class_number}'))\n",
    "\n",
    "segment_size = 2000\n",
    "\n",
    "class_number = 1\n",
    "filenumber = 1\n",
    "\n",
    "flag = 0\n",
    "\n",
    "for i in filelist:\n",
    "    \n",
    "    temp = pd.read_csv(i)        \n",
    "    \n",
    "    for j in range(temp.shape[0]):   #iterate through all sensors\n",
    "        idx = 0\n",
    "        while idx + segment_size <= len(temp.iloc[0]):\n",
    "            segment = temp.iloc[j][idx:idx + segment_size]\n",
    "            segment.to_csv(f'split_csv/{class_number}/{filenumber}.csv')\n",
    "            \n",
    "            filenumber += 1\n",
    "            idx = idx + segment_size\n",
    "            \n",
    "    if flag == 1:\n",
    "        class_number += 1\n",
    "        #flag = 0\n",
    "        if not path.exists(path.join(f'split_csv/{class_number}')):\n",
    "            makedirs(path.join(f'split_csv/{class_number}'))\n",
    "    \n",
    "    if (int(regex(i)[0]) % 3 == 0 and flag == 0):\n",
    "        flag = 1\n",
    "    else:\n",
    "        flag = 0\n"
   ]
  },
  {
   "cell_type": "markdown",
   "id": "2df87f88",
   "metadata": {},
   "source": [
    "## Feature extraction for each segment"
   ]
  },
  {
   "cell_type": "markdown",
   "id": "1605b444",
   "metadata": {
    "ExecuteTime": {
     "end_time": "2021-06-22T05:43:51.639141Z",
     "start_time": "2021-06-22T05:43:51.615638Z"
    }
   },
   "source": [
    "filelist = []\n",
    "for root, dirs, files in walk('split_csv/'):\n",
    "    for f in files:\n",
    "            filelist.append(path.join(root, f))\n",
    "#filelist = sort_nicely(filelist)"
   ]
  },
  {
   "cell_type": "markdown",
   "id": "0e47302f",
   "metadata": {
    "ExecuteTime": {
     "end_time": "2021-06-22T06:30:57.279127Z",
     "start_time": "2021-06-22T05:45:48.471593Z"
    },
    "collapsed": true
   },
   "source": [
    "# Pipeline: ICA -> Wavelet -> Feature extraction as array -> build target vector\n",
    "ica_transformer = FastICA(n_components= 10,max_iter= 3000000, random_state=0, tol=0.1)\n",
    "wavelet = pywt.Wavelet('db4')\n",
    "features = []\n",
    "target = []\n",
    "\n",
    "#for root, dirs, files in walk('split_csv/'):\n",
    "for f in filelist:\n",
    "        print(f)\n",
    "        segment = pd.read_csv(f)\n",
    "        #segment_scaled = robust_scaler.fit_transform(segment)\n",
    "        segment_transformed = ica_transformer.fit_transform(segment)\n",
    "        coeffs = pywt.wavedec(segment_transformed, wavelet, level = 1)\n",
    "        segment_features = feature_extraction(coeffs)\n",
    "        np.asarray(features.append(segment_features))\n",
    "        print('class:', f.split('/')[1])\n",
    "        target.append(f.split('/')[1])\n",
    "\n",
    "print(len(features), (features[0].shape), target, len(target))"
   ]
  },
  {
   "cell_type": "markdown",
   "id": "9de7aca2",
   "metadata": {
    "ExecuteTime": {
     "end_time": "2021-06-22T06:31:50.272612Z",
     "start_time": "2021-06-22T06:31:26.061730Z"
    }
   },
   "source": [
    "with open('features', 'wb') as f:\n",
    "    pickle.dump(features, f)\n",
    "with open('target', 'wb') as f:\n",
    "    pickle.dump(target, f)"
   ]
  },
  {
   "cell_type": "markdown",
   "id": "7410f45c",
   "metadata": {},
   "source": [
    "## Logistic regression"
   ]
  },
  {
   "cell_type": "code",
   "execution_count": 18,
   "id": "7e029452",
   "metadata": {
    "ExecuteTime": {
     "end_time": "2021-06-23T09:05:50.709156Z",
     "start_time": "2021-06-23T09:05:50.303997Z"
    }
   },
   "outputs": [],
   "source": [
    "X_train, X_test, y_train, y_test = train_test_split(flatten_data, target, test_size=0.3, random_state=42)"
   ]
  },
  {
   "cell_type": "code",
   "execution_count": 19,
   "id": "0509dd8e",
   "metadata": {
    "ExecuteTime": {
     "end_time": "2021-06-23T09:05:50.715869Z",
     "start_time": "2021-06-23T09:05:50.711131Z"
    }
   },
   "outputs": [],
   "source": [
    "scoring = {'Accuracy': make_scorer(accuracy_score), \n",
    "           'Precision': make_scorer(precision_score, average='weighted'),\n",
    "          'Recall': make_scorer(recall_score, average='weighted'),\n",
    "          'f1': make_scorer(f1_score, average='weighted')}"
   ]
  },
  {
   "cell_type": "code",
   "execution_count": 17,
   "id": "3ac1e5a9",
   "metadata": {
    "ExecuteTime": {
     "end_time": "2021-06-23T06:31:26.516510Z",
     "start_time": "2021-06-23T06:15:11.436368Z"
    }
   },
   "outputs": [
    {
     "data": {
      "text/plain": [
       "{'fit_time': array([198.69894862, 182.068506  , 198.62121344, 193.14123225,\n",
       "        202.09958982]),\n",
       " 'score_time': array([0.05918431, 0.06152058, 0.05784583, 0.05921268, 0.05758309]),\n",
       " 'test_Accuracy': array([0.69848053, 0.69563153, 0.67806268, 0.69088319, 0.69705603]),\n",
       " 'test_Precision': array([0.70077899, 0.69923902, 0.68803292, 0.69714983, 0.70350443]),\n",
       " 'test_Recall': array([0.69848053, 0.69563153, 0.67806268, 0.69088319, 0.69705603]),\n",
       " 'test_f1': array([0.69916926, 0.69702222, 0.68103951, 0.693069  , 0.69940921])}"
      ]
     },
     "execution_count": 17,
     "metadata": {},
     "output_type": "execute_result"
    }
   ],
   "source": [
    "\n",
    "#from imblearn.over_sampling import SMOTE\n",
    "\n",
    "log_reg = LogisticRegression(max_iter=1000)\n",
    "#sm = SMOTE(random_state=42)\n",
    "#X_res, y_res = sm.fit_resample(X,y)\n",
    "\n",
    "\n",
    "#X_resampled, y_resampled = sm.fit_resample(flatten_data, target)\n",
    "\n",
    "cv_results = cross_validate(log_reg, flatten_data, target, cv=5, scoring=scoring)\n",
    "cv_results"
   ]
  },
  {
   "cell_type": "code",
   "execution_count": 18,
   "id": "ec2bc55c",
   "metadata": {
    "ExecuteTime": {
     "end_time": "2021-06-23T06:34:23.898864Z",
     "start_time": "2021-06-23T06:31:26.520021Z"
    }
   },
   "outputs": [
    {
     "data": {
      "text/plain": [
       "LogisticRegression(max_iter=1000)"
      ]
     },
     "execution_count": 18,
     "metadata": {},
     "output_type": "execute_result"
    }
   ],
   "source": [
    "log_reg.fit(X_train, y_train)"
   ]
  },
  {
   "cell_type": "code",
   "execution_count": 19,
   "id": "168c8996",
   "metadata": {
    "ExecuteTime": {
     "end_time": "2021-06-23T06:34:23.911411Z",
     "start_time": "2021-06-23T06:34:23.907951Z"
    }
   },
   "outputs": [],
   "source": [
    "acc = round(cv_results['test_Accuracy'].mean()*100,1)\n",
    "prec = round(cv_results['test_Precision'].mean()*100,1)\n",
    "rec = round(cv_results['test_Recall'].mean()*100,1)\n",
    "f1 = round(cv_results['test_f1'].mean()*100,1)"
   ]
  },
  {
   "cell_type": "code",
   "execution_count": 20,
   "id": "ab43959a",
   "metadata": {
    "ExecuteTime": {
     "end_time": "2021-06-23T06:34:23.922995Z",
     "start_time": "2021-06-23T06:34:23.919032Z"
    }
   },
   "outputs": [
    {
     "name": "stdout",
     "output_type": "stream",
     "text": [
      "Logistic Regression Accuracy: 69.2%\n",
      "Logistic Regression Precision: 69.8%\n",
      "Logistic Regression Recall: 69.2%\n",
      "Logistic Regression f1: 69.4%\n"
     ]
    }
   ],
   "source": [
    "print(f'Logistic Regression Accuracy: {acc}%')\n",
    "print(f'Logistic Regression Precision: {prec}%')\n",
    "print(f'Logistic Regression Recall: {rec}%')\n",
    "print(f'Logistic Regression f1: {f1}%')\n"
   ]
  },
  {
   "cell_type": "code",
   "execution_count": 22,
   "id": "3f45c055",
   "metadata": {
    "ExecuteTime": {
     "end_time": "2021-06-23T06:35:01.359725Z",
     "start_time": "2021-06-23T06:35:01.244131Z"
    }
   },
   "outputs": [],
   "source": [
    "y_pred = log_reg.predict(X_test)"
   ]
  },
  {
   "cell_type": "code",
   "execution_count": 134,
   "id": "39ea9bdd",
   "metadata": {
    "ExecuteTime": {
     "end_time": "2021-06-23T07:11:37.408360Z",
     "start_time": "2021-06-23T07:11:36.956728Z"
    }
   },
   "outputs": [
    {
     "data": {
      "image/png": "[encoded data removed]",
      "text/plain": [
       "<Figure size 1080x1080 with 1 Axes>"
      ]
     },
     "metadata": {},
     "output_type": "display_data"
    }
   ],
   "source": [
    "fig, ax = plt.subplots(figsize=(15, 15))\n",
    "plt.grid(False)\n",
    "sns.set(font_scale=4.0)\n",
    "label_font = {'size':'18'} \n",
    "ax.set_xlabel('Predicted labels', fontdict=label_font);\n",
    "ax.set_ylabel('Observed labels', fontdict=label_font);\n",
    "\n",
    "plot_confusion_matrix(log_reg, X_test, y_test, ax=ax, cmap='cividis', colorbar=False);\n",
    "\n",
    "plt.savefig('confusion_matrix_log_reg.png', bbox_inches='tight')\n",
    "plt.show()"
   ]
  },
  {
   "cell_type": "markdown",
   "id": "c331f18a",
   "metadata": {},
   "source": [
    "## Support Vector Machines"
   ]
  },
  {
   "cell_type": "markdown",
   "id": "20505062",
   "metadata": {},
   "source": [
    "### Linear kernel"
   ]
  },
  {
   "cell_type": "code",
   "execution_count": 135,
   "id": "78321965",
   "metadata": {
    "ExecuteTime": {
     "end_time": "2021-06-23T07:49:15.414503Z",
     "start_time": "2021-06-23T07:13:25.253919Z"
    },
    "scrolled": true
   },
   "outputs": [
    {
     "name": "stderr",
     "output_type": "stream",
     "text": [
      "[Parallel(n_jobs=-1)]: Using backend LokyBackend with 16 concurrent workers.\n",
      "[Parallel(n_jobs=-1)]: Done   5 out of   5 | elapsed: 35.8min finished\n"
     ]
    },
    {
     "data": {
      "text/plain": [
       "{'fit_time': array([1765.75820541, 1765.26069856, 1815.30323076, 1737.30028868,\n",
       "        1790.04949999]),\n",
       " 'score_time': array([357.80299568, 351.3814559 , 332.69337249, 390.49925447,\n",
       "        336.94106531]),\n",
       " 'test_Accuracy': array([0.71794872, 0.71794872, 0.69895537, 0.70797721, 0.70512821]),\n",
       " 'test_Precision': array([0.7184823 , 0.72038214, 0.70676356, 0.71240623, 0.71119173]),\n",
       " 'test_Recall': array([0.71794872, 0.71794872, 0.69895537, 0.70797721, 0.70512821]),\n",
       " 'test_f1': array([0.71765304, 0.71886476, 0.70141971, 0.70962655, 0.707497  ])}"
      ]
     },
     "execution_count": 135,
     "metadata": {},
     "output_type": "execute_result"
    }
   ],
   "source": [
    "svc_linear = SVC(kernel='linear')\n",
    "cv_results = cross_validate(svc_linear, flatten_data, target, cv=5, scoring=scoring, verbose=1, n_jobs=-1)\n",
    "cv_results"
   ]
  },
  {
   "cell_type": "code",
   "execution_count": 136,
   "id": "665167e1",
   "metadata": {
    "ExecuteTime": {
     "end_time": "2021-06-23T07:59:12.384126Z",
     "start_time": "2021-06-23T07:49:15.693296Z"
    }
   },
   "outputs": [
    {
     "data": {
      "text/plain": [
       "SVC(kernel='linear')"
      ]
     },
     "execution_count": 136,
     "metadata": {},
     "output_type": "execute_result"
    }
   ],
   "source": [
    "svc_linear.fit(X_train, y_train)"
   ]
  },
  {
   "cell_type": "code",
   "execution_count": 137,
   "id": "4a23c56c",
   "metadata": {
    "ExecuteTime": {
     "end_time": "2021-06-23T07:59:12.421983Z",
     "start_time": "2021-06-23T07:59:12.414255Z"
    },
    "scrolled": true
   },
   "outputs": [],
   "source": [
    "acc = round(cv_results['test_Accuracy'].mean()*100,1)\n",
    "prec = round(cv_results['test_Precision'].mean()*100,1)\n",
    "rec = round(cv_results['test_Recall'].mean()*100,1)\n",
    "f1 = round(cv_results['test_f1'].mean()*100,1)"
   ]
  },
  {
   "cell_type": "code",
   "execution_count": 138,
   "id": "8f652574",
   "metadata": {
    "ExecuteTime": {
     "end_time": "2021-06-23T07:59:12.449744Z",
     "start_time": "2021-06-23T07:59:12.446017Z"
    }
   },
   "outputs": [
    {
     "name": "stdout",
     "output_type": "stream",
     "text": [
      "SVM Linear Accuracy: 71.0%\n",
      "SVM Linear Precision: 71.4%\n",
      "SVM Linear Recall: 71.0%\n",
      "SVM Linear f1: 71.1%\n"
     ]
    }
   ],
   "source": [
    "print(f'SVM Linear Accuracy: {acc}%')\n",
    "print(f'SVM Linear Precision: {prec}%')\n",
    "print(f'SVM Linear Recall: {rec}%')\n",
    "print(f'SVM Linear f1: {f1}%')"
   ]
  },
  {
   "cell_type": "code",
   "execution_count": 140,
   "id": "df7d883b",
   "metadata": {
    "ExecuteTime": {
     "end_time": "2021-06-23T08:03:15.552466Z",
     "start_time": "2021-06-23T07:59:15.428229Z"
    }
   },
   "outputs": [
    {
     "data": {
      "image/png": "[encoded data removed]",
      "text/plain": [
       "<Figure size 1080x1080 with 1 Axes>"
      ]
     },
     "metadata": {},
     "output_type": "display_data"
    }
   ],
   "source": [
    "fig, ax = plt.subplots(figsize=(15, 15))\n",
    "plt.grid(False)\n",
    "sns.set(font_scale=4.0)\n",
    "label_font = {'size':'18'} \n",
    "ax.set_xlabel('Predicted labels', fontdict=label_font);\n",
    "ax.set_ylabel('Observed labels', fontdict=label_font);\n",
    "\n",
    "plot_confusion_matrix(svc_linear, X_test, y_test, ax=ax, cmap='cividis', colorbar=False);\n",
    "\n",
    "plt.savefig('confusion_matrix_svm_linear.png', bbox_inches='tight')\n",
    "plt.show()"
   ]
  },
  {
   "cell_type": "markdown",
   "id": "190e79ca",
   "metadata": {},
   "source": [
    "### Polynomial kernel"
   ]
  },
  {
   "cell_type": "code",
   "execution_count": 141,
   "id": "65352d9c",
   "metadata": {
    "ExecuteTime": {
     "end_time": "2021-06-23T08:42:09.159203Z",
     "start_time": "2021-06-23T08:07:20.347632Z"
    }
   },
   "outputs": [
    {
     "name": "stderr",
     "output_type": "stream",
     "text": [
      "[Parallel(n_jobs=-1)]: Using backend LokyBackend with 16 concurrent workers.\n",
      "[Parallel(n_jobs=-1)]: Done   5 out of   5 | elapsed: 34.8min finished\n"
     ]
    },
    {
     "data": {
      "text/plain": [
       "{'fit_time': array([1680.17320275, 1720.25977492, 1685.35165954, 1676.21433425,\n",
       "        1679.91375184]),\n",
       " 'score_time': array([355.0666151 , 359.76658392, 364.81234837, 395.59904647,\n",
       "        390.02513194]),\n",
       " 'test_Accuracy': array([0.83903134, 0.84140551, 0.82193732, 0.83808167, 0.83950617]),\n",
       " 'test_Precision': array([0.84032399, 0.84432464, 0.82756059, 0.8405253 , 0.84217011]),\n",
       " 'test_Recall': array([0.83903134, 0.84140551, 0.82193732, 0.83808167, 0.83950617]),\n",
       " 'test_f1': array([0.83957107, 0.84223619, 0.82406709, 0.83894256, 0.84061542])}"
      ]
     },
     "execution_count": 141,
     "metadata": {},
     "output_type": "execute_result"
    }
   ],
   "source": [
    "svc_poly = SVC(kernel='poly')\n",
    "cv_results = cross_validate(svc_poly, flatten_data, target, cv=5, scoring=scoring, verbose=1, n_jobs=-1)\n",
    "cv_results"
   ]
  },
  {
   "cell_type": "code",
   "execution_count": 142,
   "id": "c8446a35",
   "metadata": {
    "ExecuteTime": {
     "end_time": "2021-06-23T08:52:00.096415Z",
     "start_time": "2021-06-23T08:42:09.392350Z"
    }
   },
   "outputs": [
    {
     "data": {
      "text/plain": [
       "SVC(kernel='poly')"
      ]
     },
     "execution_count": 142,
     "metadata": {},
     "output_type": "execute_result"
    }
   ],
   "source": [
    "svc_poly.fit(X_train, y_train)"
   ]
  },
  {
   "cell_type": "code",
   "execution_count": 20,
   "id": "4544b99d",
   "metadata": {
    "ExecuteTime": {
     "end_time": "2021-06-23T09:06:37.004052Z",
     "start_time": "2021-06-23T09:06:36.997156Z"
    }
   },
   "outputs": [],
   "source": [
    "cv_results = {'fit_time': np.array([1680.17320275, 1720.25977492, 1685.35165954, 1676.21433425,\n",
    "        1679.91375184]),\n",
    " 'score_time': np.array([355.0666151 , 359.76658392, 364.81234837, 395.59904647,\n",
    "        390.02513194]),\n",
    " 'test_Accuracy': np.array([0.83903134, 0.84140551, 0.82193732, 0.83808167, 0.83950617]),\n",
    " 'test_Precision': np.array([0.84032399, 0.84432464, 0.82756059, 0.8405253 , 0.84217011]),\n",
    " 'test_Recall': np.array([0.83903134, 0.84140551, 0.82193732, 0.83808167, 0.83950617]),\n",
    " 'test_f1': np.array([0.83957107, 0.84223619, 0.82406709, 0.83894256, 0.84061542])}"
   ]
  },
  {
   "cell_type": "code",
   "execution_count": 21,
   "id": "2e3deef2",
   "metadata": {
    "ExecuteTime": {
     "end_time": "2021-06-23T09:06:38.245590Z",
     "start_time": "2021-06-23T09:06:38.239813Z"
    }
   },
   "outputs": [],
   "source": [
    "acc = round(cv_results['test_Accuracy'].mean()*100,1)\n",
    "prec = round(cv_results['test_Precision'].mean()*100,1)\n",
    "rec = round(cv_results['test_Recall'].mean()*100,1)\n",
    "f1 = round(cv_results['test_f1'].mean()*100,1)"
   ]
  },
  {
   "cell_type": "code",
   "execution_count": 22,
   "id": "6cf334e0",
   "metadata": {
    "ExecuteTime": {
     "end_time": "2021-06-23T09:06:39.742117Z",
     "start_time": "2021-06-23T09:06:39.736796Z"
    }
   },
   "outputs": [
    {
     "name": "stdout",
     "output_type": "stream",
     "text": [
      "SVM Poly Accuracy: 83.6%\n",
      "SVM Poly Precision: 83.9%\n",
      "SVM Poly Recall: 83.6%\n",
      "SVM Poly f1: 83.7%\n"
     ]
    }
   ],
   "source": [
    "print(f'SVM Poly Accuracy: {acc}%')\n",
    "print(f'SVM Poly Precision: {prec}%')\n",
    "print(f'SVM Poly Recall: {rec}%')\n",
    "print(f'SVM Poly f1: {f1}%')"
   ]
  },
  {
   "cell_type": "code",
   "execution_count": null,
   "id": "dff3d78c",
   "metadata": {
    "ExecuteTime": {
     "start_time": "2021-06-23T08:54:33.977Z"
    }
   },
   "outputs": [],
   "source": [
    "fig, ax = plt.subplots(figsize=(15, 15))\n",
    "plt.grid(False)\n",
    "sns.set(font_scale=4.0)\n",
    "label_font = {'size':'18'} \n",
    "ax.set_xlabel('Predicted labels', fontdict=label_font);\n",
    "ax.set_ylabel('Observed labels', fontdict=label_font);\n",
    "\n",
    "plot_confusion_matrix(svc_poly, X_test, y_test, ax=ax, cmap='cividis', colorbar=False);\n",
    "\n",
    "plt.savefig('confusion_matrix_svm_poly.png', bbox_inches='tight')\n",
    "plt.show()"
   ]
  },
  {
   "cell_type": "markdown",
   "id": "4769aaef",
   "metadata": {},
   "source": [
    "## KNeighbors Classifier"
   ]
  },
  {
   "cell_type": "code",
   "execution_count": 30,
   "id": "cfeb1733",
   "metadata": {
    "ExecuteTime": {
     "end_time": "2021-06-23T09:27:57.292726Z",
     "start_time": "2021-06-23T09:27:29.605410Z"
    }
   },
   "outputs": [
    {
     "name": "stderr",
     "output_type": "stream",
     "text": [
      "[Parallel(n_jobs=-1)]: Using backend LokyBackend with 16 concurrent workers.\n",
      "[Parallel(n_jobs=-1)]: Done   5 out of   5 | elapsed:   27.4s finished\n"
     ]
    },
    {
     "data": {
      "text/plain": [
       "{'fit_time': array([4.48536897, 2.76698136, 2.61886072, 2.63959432, 2.28684902]),\n",
       " 'score_time': array([17.24955893, 17.35597277, 17.73914671, 17.43007493, 17.80814505]),\n",
       " 'test_Accuracy': array([0.88888889, 0.89411206, 0.87179487, 0.87796771, 0.86989554]),\n",
       " 'test_Precision': array([0.88804643, 0.89343264, 0.87108548, 0.87793646, 0.86860019]),\n",
       " 'test_Recall': array([0.88888889, 0.89411206, 0.87179487, 0.87796771, 0.86989554]),\n",
       " 'test_f1': array([0.88823675, 0.89368352, 0.8710328 , 0.87790331, 0.86901998])}"
      ]
     },
     "execution_count": 30,
     "metadata": {},
     "output_type": "execute_result"
    }
   ],
   "source": [
    "knn = KNeighborsClassifier(n_neighbors=3)\n",
    "\n",
    "cv_results = cross_validate(knn, flatten_data, target, cv=5, scoring=scoring, verbose=1, n_jobs=-1)\n",
    "cv_results"
   ]
  },
  {
   "cell_type": "code",
   "execution_count": 31,
   "id": "bbb1d4d8",
   "metadata": {
    "ExecuteTime": {
     "end_time": "2021-06-23T09:28:14.681514Z",
     "start_time": "2021-06-23T09:28:10.061600Z"
    }
   },
   "outputs": [
    {
     "data": {
      "text/plain": [
       "KNeighborsClassifier(n_neighbors=3)"
      ]
     },
     "execution_count": 31,
     "metadata": {},
     "output_type": "execute_result"
    }
   ],
   "source": [
    "knn.fit(X_train, y_train)"
   ]
  },
  {
   "cell_type": "code",
   "execution_count": 32,
   "id": "45fb02fe",
   "metadata": {
    "ExecuteTime": {
     "end_time": "2021-06-23T09:28:14.726120Z",
     "start_time": "2021-06-23T09:28:14.721188Z"
    }
   },
   "outputs": [],
   "source": [
    "acc = round(cv_results['test_Accuracy'].mean()*100,1)\n",
    "prec = round(cv_results['test_Precision'].mean()*100,1)\n",
    "rec = round(cv_results['test_Recall'].mean()*100,1)\n",
    "f1 = round(cv_results['test_f1'].mean()*100,1)"
   ]
  },
  {
   "cell_type": "code",
   "execution_count": 33,
   "id": "c61552d9",
   "metadata": {
    "ExecuteTime": {
     "end_time": "2021-06-23T09:28:14.761923Z",
     "start_time": "2021-06-23T09:28:14.758369Z"
    }
   },
   "outputs": [
    {
     "name": "stdout",
     "output_type": "stream",
     "text": [
      "KNeighbors Accuracy: 88.1%\n",
      "KNeighbors Precision: 88.0%\n",
      "KNeighbors Recall: 88.1%\n",
      "KNeighbors f1: 88.0%\n"
     ]
    }
   ],
   "source": [
    "print(f'KNeighbors Accuracy: {acc}%')\n",
    "print(f'KNeighbors Precision: {prec}%')\n",
    "print(f'KNeighbors Recall: {rec}%')\n",
    "print(f'KNeighbors f1: {f1}%')"
   ]
  },
  {
   "cell_type": "code",
   "execution_count": 34,
   "id": "95df11c6",
   "metadata": {
    "ExecuteTime": {
     "end_time": "2021-06-23T09:29:03.574014Z",
     "start_time": "2021-06-23T09:28:48.551436Z"
    }
   },
   "outputs": [
    {
     "data": {
      "image/png": "[encoded data removed]",
      "text/plain": [
       "<Figure size 1080x1080 with 1 Axes>"
      ]
     },
     "metadata": {},
     "output_type": "display_data"
    }
   ],
   "source": [
    "fig, ax = plt.subplots(figsize=(15, 15))\n",
    "plt.grid(False)\n",
    "sns.set(font_scale=4.0)\n",
    "label_font = {'size':'18'} \n",
    "ax.set_xlabel('Predicted labels', fontdict=label_font);\n",
    "ax.set_ylabel('Observed labels', fontdict=label_font);\n",
    "\n",
    "plot_confusion_matrix(knn, X_test, y_test, ax=ax, cmap='cividis', colorbar=False);\n",
    "\n",
    "plt.savefig('confusion_matrix_kneighbors.png', bbox_inches='tight')\n",
    "plt.show()"
   ]
  },
  {
   "cell_type": "markdown",
   "id": "83a3b8cc",
   "metadata": {},
   "source": [
    "## Ensemble classifiers"
   ]
  },
  {
   "cell_type": "code",
   "execution_count": 23,
   "id": "eb037107",
   "metadata": {
    "ExecuteTime": {
     "end_time": "2021-06-23T09:12:26.741003Z",
     "start_time": "2021-06-23T09:09:21.698587Z"
    }
   },
   "outputs": [
    {
     "data": {
      "text/plain": [
       "{'fit_time': array([182.71607733, 170.83333373, 166.85831857, 107.25240588,\n",
       "         98.69903922]),\n",
       " 'score_time': array([0.23743057, 0.26119351, 0.39375257, 0.26260972, 0.29492021]),\n",
       " 'test_Accuracy': array([0.75403609, 0.76638177, 0.75261159, 0.75166192, 0.77207977]),\n",
       " 'test_Precision': array([0.78191098, 0.79162498, 0.78227736, 0.77594008, 0.79358275]),\n",
       " 'test_Recall': array([0.75403609, 0.76638177, 0.75261159, 0.75166192, 0.77207977]),\n",
       " 'test_f1': array([0.76014162, 0.77124223, 0.7579852 , 0.7572655 , 0.77710626])}"
      ]
     },
     "execution_count": 23,
     "metadata": {},
     "output_type": "execute_result"
    }
   ],
   "source": [
    "\n",
    "random_forest = RandomForestClassifier(n_estimators=100)\n",
    "\n",
    "cv_results = cross_validate(random_forest, flatten_data, target, cv=5, scoring=scoring, n_jobs=-1)\n",
    "cv_results"
   ]
  },
  {
   "cell_type": "code",
   "execution_count": 25,
   "id": "f1c2a07e",
   "metadata": {
    "ExecuteTime": {
     "end_time": "2021-06-23T09:13:55.255867Z",
     "start_time": "2021-06-23T09:12:38.205167Z"
    }
   },
   "outputs": [
    {
     "data": {
      "text/plain": [
       "RandomForestClassifier()"
      ]
     },
     "execution_count": 25,
     "metadata": {},
     "output_type": "execute_result"
    }
   ],
   "source": [
    "random_forest.fit(X_train, y_train)"
   ]
  },
  {
   "cell_type": "code",
   "execution_count": 26,
   "id": "19dbcdd7",
   "metadata": {
    "ExecuteTime": {
     "end_time": "2021-06-23T09:13:55.299172Z",
     "start_time": "2021-06-23T09:13:55.293261Z"
    }
   },
   "outputs": [],
   "source": [
    "acc = round(cv_results['test_Accuracy'].mean()*100,1)\n",
    "prec = round(cv_results['test_Precision'].mean()*100,1)\n",
    "rec = round(cv_results['test_Recall'].mean()*100,1)\n",
    "f1 = round(cv_results['test_f1'].mean()*100,1)"
   ]
  },
  {
   "cell_type": "code",
   "execution_count": 27,
   "id": "2fd4ad89",
   "metadata": {
    "ExecuteTime": {
     "end_time": "2021-06-23T09:13:55.348772Z",
     "start_time": "2021-06-23T09:13:55.343920Z"
    }
   },
   "outputs": [
    {
     "name": "stdout",
     "output_type": "stream",
     "text": [
      "Random Forest Accuracy: 75.9%\n",
      "Random Forest Precision: 78.5%\n",
      "Random Forest Recall: 75.9%\n",
      "Random Forest f1: 76.5%\n"
     ]
    }
   ],
   "source": [
    "print(f'Random Forest Accuracy: {acc}%')\n",
    "print(f'Random Forest Precision: {prec}%')\n",
    "print(f'Random Forest Recall: {rec}%')\n",
    "print(f'Random Forest f1: {f1}%')"
   ]
  },
  {
   "cell_type": "code",
   "execution_count": 28,
   "id": "27daecdf",
   "metadata": {
    "ExecuteTime": {
     "end_time": "2021-06-23T09:14:19.679682Z",
     "start_time": "2021-06-23T09:14:16.513393Z"
    }
   },
   "outputs": [
    {
     "data": {
      "image/png": "[encoded data removed]",
      "text/plain": [
       "<Figure size 1080x1080 with 1 Axes>"
      ]
     },
     "metadata": {},
     "output_type": "display_data"
    }
   ],
   "source": [
    "fig, ax = plt.subplots(figsize=(15, 15))\n",
    "plt.grid(False)\n",
    "sns.set(font_scale=4.0)\n",
    "label_font = {'size':'18'} \n",
    "ax.set_xlabel('Predicted labels', fontdict=label_font);\n",
    "ax.set_ylabel('Observed labels', fontdict=label_font);\n",
    "\n",
    "plot_confusion_matrix(random_forest, X_test, y_test, ax=ax, cmap='cividis', colorbar=False);\n",
    "\n",
    "plt.savefig('confusion_matrix_random_forest.png', bbox_inches='tight')\n",
    "plt.show()"
   ]
  },
  {
   "cell_type": "code",
   "execution_count": null,
   "id": "60dd7015",
   "metadata": {
    "ExecuteTime": {
     "start_time": "2021-06-23T09:39:13.081Z"
    }
   },
   "outputs": [],
   "source": [
    "gradient_boosting = GradientBoostingClassifier(loss='deviance')\n",
    "cv_results = cross_validate(gradient_boosting, flatten_data, target, cv=5, scoring=scoring, n_jobs=-1)\n",
    "cv_results"
   ]
  },
  {
   "cell_type": "code",
   "execution_count": null,
   "id": "71386344",
   "metadata": {},
   "outputs": [],
   "source": []
  }
 ],
 "metadata": {
  "kernelspec": {
   "display_name": "Python 3",
   "language": "python",
   "name": "python3"
  },
  "language_info": {
   "codemirror_mode": {
    "name": "ipython",
    "version": 3
   },
   "file_extension": ".py",
   "mimetype": "text/x-python",
   "name": "python",
   "nbconvert_exporter": "python",
   "pygments_lexer": "ipython3",
   "version": "3.8.9"
  },
  "toc": {
   "base_numbering": 1,
   "nav_menu": {},
   "number_sections": true,
   "sideBar": true,
   "skip_h1_title": false,
   "title_cell": "Table of Contents",
   "title_sidebar": "Contents",
   "toc_cell": false,
   "toc_position": {},
   "toc_section_display": true,
   "toc_window_display": false
  },
  "varInspector": {
   "cols": {
    "lenName": 16,
    "lenType": 16,
    "lenVar": 40
   },
   "kernels_config": {
    "python": {
     "delete_cmd_postfix": "",
     "delete_cmd_prefix": "del ",
     "library": "var_list.py",
     "varRefreshCmd": "print(var_dic_list())"
    },
    "r": {
     "delete_cmd_postfix": ") ",
     "delete_cmd_prefix": "rm(",
     "library": "var_list.r",
     "varRefreshCmd": "cat(var_dic_list()) "
    }
   },
   "types_to_exclude": [
    "module",
    "function",
    "builtin_function_or_method",
    "instance",
    "_Feature"
   ],
   "window_display": false
  }
 },
 "nbformat": 4,
 "nbformat_minor": 5
}
