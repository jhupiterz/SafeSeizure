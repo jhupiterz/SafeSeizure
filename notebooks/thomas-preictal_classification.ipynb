{
 "cells": [
  {
   "cell_type": "markdown",
   "id": "d2a75042",
   "metadata": {},
   "source": [
    "# Noise reduction + wavelet transform"
   ]
  },
  {
   "cell_type": "markdown",
   "id": "38c9975d",
   "metadata": {},
   "source": [
    "## Overall process\n",
    "\n",
    "From each segments:\n",
    "\n",
    "* Noise reduction using ICA algorithm (fastICA from sklearn)\n",
    "* Wavelet transform\n",
    "* Features extraction (mean absolute value, average power, standard deviation, variance, mean, skewness, and Shannon entropy)\n",
    "* Classification (KNN, SVM, ...)"
   ]
  },
  {
   "cell_type": "markdown",
   "id": "0d4a0240",
   "metadata": {},
   "source": [
    "## Imports"
   ]
  },
  {
   "cell_type": "code",
   "execution_count": 1,
   "id": "32723afa",
   "metadata": {
    "ExecuteTime": {
     "end_time": "2021-06-23T17:20:21.951752Z",
     "start_time": "2021-06-23T17:20:21.781829Z"
    }
   },
   "outputs": [],
   "source": [
    "import pywt\n",
    "from os import listdir, path, walk, makedirs\n",
    "import random\n",
    "import numpy as np\n",
    "from pyentrp import entropy\n",
    "from scipy.stats import median_absolute_deviation\n",
    "from sklearn.preprocessing import RobustScaler\n",
    "import pandas as pd\n",
    "import scipy.io\n",
    "from scipy.signal import spectrogram\n",
    "from scipy.signal import resample\n",
    "import matplotlib.pyplot as plt\n",
    "import seaborn as sns\n",
    "import warnings\n",
    "warnings.filterwarnings('ignore')"
   ]
  },
  {
   "cell_type": "code",
   "execution_count": 2,
   "id": "800cc227",
   "metadata": {
    "ExecuteTime": {
     "end_time": "2021-06-23T17:20:22.004859Z",
     "start_time": "2021-06-23T17:20:21.952949Z"
    }
   },
   "outputs": [],
   "source": [
    "from sklearn.linear_model import LogisticRegression\n",
    "from sklearn.ensemble import RandomForestClassifier, GradientBoostingClassifier\n",
    "from sklearn.neighbors import KNeighborsClassifier\n",
    "from sklearn.svm import SVC\n",
    "from sklearn.model_selection import train_test_split\n",
    "from sklearn.model_selection import cross_validate\n",
    "from sklearn.metrics import plot_confusion_matrix, confusion_matrix, f1_score, accuracy_score, recall_score, precision_score, make_scorer\n",
    "import xgboost as xgb"
   ]
  },
  {
   "cell_type": "code",
   "execution_count": 3,
   "id": "7d47dbf6",
   "metadata": {
    "ExecuteTime": {
     "end_time": "2021-06-23T17:20:22.010910Z",
     "start_time": "2021-06-23T17:20:22.007659Z"
    }
   },
   "outputs": [],
   "source": [
    "import pickle"
   ]
  },
  {
   "cell_type": "markdown",
   "id": "a36d74ca",
   "metadata": {},
   "source": [
    "## Load test data"
   ]
  },
  {
   "cell_type": "markdown",
   "id": "c90f28d1",
   "metadata": {},
   "source": [
    "## ICA noise reduction"
   ]
  },
  {
   "cell_type": "code",
   "execution_count": 4,
   "id": "bec0d8a4",
   "metadata": {
    "ExecuteTime": {
     "end_time": "2021-06-23T17:20:22.017840Z",
     "start_time": "2021-06-23T17:20:22.013926Z"
    }
   },
   "outputs": [],
   "source": [
    "from sklearn.decomposition import FastICA"
   ]
  },
  {
   "cell_type": "markdown",
   "id": "5f6838c1",
   "metadata": {},
   "source": [
    "## Feature extraction"
   ]
  },
  {
   "cell_type": "code",
   "execution_count": 5,
   "id": "f4e503f0",
   "metadata": {
    "ExecuteTime": {
     "end_time": "2021-06-23T17:20:22.025181Z",
     "start_time": "2021-06-23T17:20:22.020936Z"
    }
   },
   "outputs": [],
   "source": [
    "# mean absolute value, average power, standard deviation, variance, mean, skewness, and Shannon entropy"
   ]
  },
  {
   "cell_type": "code",
   "execution_count": 6,
   "id": "56a21010",
   "metadata": {
    "ExecuteTime": {
     "end_time": "2021-06-23T17:20:22.033449Z",
     "start_time": "2021-06-23T17:20:22.030214Z"
    }
   },
   "outputs": [],
   "source": [
    "def flatten_list(l):\n",
    "    flat_list = []\n",
    "    for sublist in l:\n",
    "        for item in sublist:\n",
    "            flat_list.append(item)\n",
    "    return flat_list"
   ]
  },
  {
   "cell_type": "code",
   "execution_count": 7,
   "id": "75409500",
   "metadata": {
    "ExecuteTime": {
     "end_time": "2021-06-23T17:20:22.040026Z",
     "start_time": "2021-06-23T17:20:22.035555Z"
    }
   },
   "outputs": [],
   "source": [
    "def mean_absolute_value(array):\n",
    "    absolute_values = []\n",
    "    for i in range(len(array)):\n",
    "        absolute_values.append(abs(array[i]))\n",
    "    mean_absolute_value = np.asarray(absolute_values).sum()*(1/len(array))\n",
    "    #print(mean_absolute_value)\n",
    "    return mean_absolute_value"
   ]
  },
  {
   "cell_type": "code",
   "execution_count": 8,
   "id": "ce2ab081",
   "metadata": {
    "ExecuteTime": {
     "end_time": "2021-06-23T17:20:22.044730Z",
     "start_time": "2021-06-23T17:20:22.042516Z"
    }
   },
   "outputs": [],
   "source": [
    "def average_power(array):\n",
    "    average_power_values = []\n",
    "    for i in range(len(array)):\n",
    "        average_power_values.append(abs(array[i])**2)\n",
    "    average_power_value = np.asarray(average_power_values).sum()*(1/len(array))\n",
    "    #print(average_power_value)\n",
    "    return average_power_value"
   ]
  },
  {
   "cell_type": "code",
   "execution_count": 9,
   "id": "e236ebcf",
   "metadata": {
    "ExecuteTime": {
     "end_time": "2021-06-23T17:20:22.049332Z",
     "start_time": "2021-06-23T17:20:22.046400Z"
    }
   },
   "outputs": [],
   "source": [
    "def shan(d1):\n",
    "    sh1=[]\n",
    "    d1=np.rint(d1)\n",
    "    for i in range(d1.shape[0]):\n",
    "        X=d1[i]\n",
    "        sh1.append(entropy.shannon_entropy(X))\n",
    "    return(sh1)"
   ]
  },
  {
   "cell_type": "code",
   "execution_count": 10,
   "id": "caf3d1f5",
   "metadata": {
    "ExecuteTime": {
     "end_time": "2021-06-23T17:20:22.055919Z",
     "start_time": "2021-06-23T17:20:22.050479Z"
    }
   },
   "outputs": [],
   "source": [
    "def feature_extraction(decomposed_signals):\n",
    "    mav = []\n",
    "    avp = []\n",
    "    std = []\n",
    "    var = []\n",
    "    mean = []\n",
    "    for coeff in decomposed_signals:\n",
    "        mav_electrode = []\n",
    "        avp_electrode = []\n",
    "        std_electrode = []\n",
    "        var_electrode = []\n",
    "        mean_electrode = []\n",
    "        for electrode in coeff:\n",
    "            mav_electrode.append(mean_absolute_value(electrode))\n",
    "            avp_electrode.append(average_power(electrode))\n",
    "            std_electrode.append(np.std(electrode))\n",
    "            var_electrode.append(np.var(electrode))\n",
    "            mean_electrode.append(np.mean(electrode))\n",
    "        mav.append(mav_electrode)\n",
    "        avp.append(avp_electrode)\n",
    "        std.append(std_electrode)\n",
    "        var.append(var_electrode)\n",
    "        mean.append(mean_electrode)\n",
    "    mav = flatten_list(mav)\n",
    "    avp = flatten_list(avp)\n",
    "    std = flatten_list(std)\n",
    "    var = flatten_list(var)\n",
    "    mean = flatten_list(mean)\n",
    "    shan_ent = []\n",
    "    for i in range(len(decomposed_signals)):\n",
    "        shan_ent.append(shan(coeffs[i]))\n",
    "    shan_ent = flatten_list(shan_ent)\n",
    "    data = np.vstack((np.array(mav), np.array(avp), \n",
    "                     np.array(std), np.array(var), np.array(mean), np.array(shan_ent)))\n",
    "    #data = pd.DataFrame(data)\n",
    "    features = data.T\n",
    "    #features.columns = ['mean_abs_value', 'average_power', 'std', 'var', 'mean', 'shannon_entropy']\n",
    "\n",
    "    return features"
   ]
  },
  {
   "cell_type": "code",
   "execution_count": 11,
   "id": "7a0b7821",
   "metadata": {
    "ExecuteTime": {
     "end_time": "2021-06-23T17:20:22.060368Z",
     "start_time": "2021-06-23T17:20:22.057485Z"
    }
   },
   "outputs": [],
   "source": [
    "import re \n",
    "def regex(filename):\n",
    "    return re.findall('(?<=\\_)\\d+(?=\\W)', filename)\n"
   ]
  },
  {
   "cell_type": "code",
   "execution_count": 12,
   "id": "a6a4c130",
   "metadata": {
    "ExecuteTime": {
     "end_time": "2021-06-23T17:20:22.066387Z",
     "start_time": "2021-06-23T17:20:22.062043Z"
    }
   },
   "outputs": [],
   "source": [
    "def tryint(s):\n",
    "    try:\n",
    "        return int(s)\n",
    "    except:\n",
    "        return s\n",
    "\n",
    "def alphanum_key(s):\n",
    "    \"\"\" Turn a string into a list of string and number chunks.\n",
    "        \"z23a\" -> [\"z\", 23, \"a\"]\n",
    "    \"\"\"\n",
    "    return [ tryint(c) for c in re.split('([0-9]+)', s) ]\n",
    "\n",
    "def sort_nicely(l):\n",
    "    \"\"\" Sort the given list in the way that humans expect.\n",
    "    \"\"\"\n",
    "    l.sort(key=alphanum_key)\n",
    "    \n",
    "    return l"
   ]
  },
  {
   "cell_type": "code",
   "execution_count": 13,
   "id": "28da9790",
   "metadata": {
    "ExecuteTime": {
     "end_time": "2021-06-23T17:20:24.523012Z",
     "start_time": "2021-06-23T17:20:22.067592Z"
    }
   },
   "outputs": [],
   "source": [
    "with open('features', 'rb') as f:\n",
    "    features = pickle.load(f)\n",
    "with open('target', 'rb') as f:\n",
    "    target = pickle.load(f)"
   ]
  },
  {
   "cell_type": "code",
   "execution_count": 14,
   "id": "2732b2ce",
   "metadata": {
    "ExecuteTime": {
     "end_time": "2021-06-23T17:20:25.133716Z",
     "start_time": "2021-06-23T17:20:24.524170Z"
    }
   },
   "outputs": [],
   "source": [
    "# flatten the ndarray\n",
    "flatten_data = np.array(features).reshape(len(features),-1)\n",
    "del features\n",
    "target = np.array(target)"
   ]
  },
  {
   "cell_type": "markdown",
   "id": "4a39b828",
   "metadata": {
    "ExecuteTime": {
     "end_time": "2021-06-22T05:43:19.168575Z",
     "start_time": "2021-06-22T05:43:19.161230Z"
    }
   },
   "source": [
    "filelist = []\n",
    "for root, dirs, files in walk('Preictal_only_mixed/'):\n",
    "    for f in files:\n",
    "        if 'preictal' in f: \n",
    "            filelist.append(path.join(root, f))\n",
    "filelist = sort_nicely(filelist)"
   ]
  },
  {
   "cell_type": "markdown",
   "id": "e86ea5b8",
   "metadata": {
    "ExecuteTime": {
     "end_time": "2021-06-21T13:43:44.769689Z",
     "start_time": "2021-06-21T13:42:22.045237Z"
    },
    "collapsed": true
   },
   "source": [
    "\n",
    "class_number = 1\n",
    "if not path.exists(path.join(f'split_csv/{class_number}')):\n",
    "            makedirs(path.join(f'split_csv/{class_number}'))\n",
    "\n",
    "segment_size = 2000\n",
    "\n",
    "class_number = 1\n",
    "filenumber = 1\n",
    "\n",
    "flag = 0\n",
    "\n",
    "for i in filelist:\n",
    "    \n",
    "    temp = pd.read_csv(i)        \n",
    "    \n",
    "    for j in range(temp.shape[0]):   #iterate through all sensors\n",
    "        idx = 0\n",
    "        while idx + segment_size <= len(temp.iloc[0]):\n",
    "            segment = temp.iloc[j][idx:idx + segment_size]\n",
    "            segment.to_csv(f'split_csv/{class_number}/{filenumber}.csv')\n",
    "            \n",
    "            filenumber += 1\n",
    "            idx = idx + segment_size\n",
    "            \n",
    "    if flag == 1:\n",
    "        class_number += 1\n",
    "        #flag = 0\n",
    "        if not path.exists(path.join(f'split_csv/{class_number}')):\n",
    "            makedirs(path.join(f'split_csv/{class_number}'))\n",
    "    \n",
    "    if (int(regex(i)[0]) % 3 == 0 and flag == 0):\n",
    "        flag = 1\n",
    "    else:\n",
    "        flag = 0\n"
   ]
  },
  {
   "cell_type": "markdown",
   "id": "2df87f88",
   "metadata": {},
   "source": [
    "## Feature extraction for each segment"
   ]
  },
  {
   "cell_type": "markdown",
   "id": "1605b444",
   "metadata": {
    "ExecuteTime": {
     "end_time": "2021-06-22T05:43:51.639141Z",
     "start_time": "2021-06-22T05:43:51.615638Z"
    }
   },
   "source": [
    "filelist = []\n",
    "for root, dirs, files in walk('split_csv/'):\n",
    "    for f in files:\n",
    "            filelist.append(path.join(root, f))\n",
    "#filelist = sort_nicely(filelist)"
   ]
  },
  {
   "cell_type": "markdown",
   "id": "0e47302f",
   "metadata": {
    "ExecuteTime": {
     "end_time": "2021-06-22T06:30:57.279127Z",
     "start_time": "2021-06-22T05:45:48.471593Z"
    },
    "collapsed": true
   },
   "source": [
    "# Pipeline: ICA -> Wavelet -> Feature extraction as array -> build target vector\n",
    "ica_transformer = FastICA(n_components= 10,max_iter= 3000000, random_state=0, tol=0.1)\n",
    "wavelet = pywt.Wavelet('db4')\n",
    "features = []\n",
    "target = []\n",
    "\n",
    "#for root, dirs, files in walk('split_csv/'):\n",
    "for f in filelist:\n",
    "        print(f)\n",
    "        segment = pd.read_csv(f)\n",
    "        #segment_scaled = robust_scaler.fit_transform(segment)\n",
    "        segment_transformed = ica_transformer.fit_transform(segment)\n",
    "        coeffs = pywt.wavedec(segment_transformed, wavelet, level = 1)\n",
    "        segment_features = feature_extraction(coeffs)\n",
    "        np.asarray(features.append(segment_features))\n",
    "        print('class:', f.split('/')[1])\n",
    "        target.append(f.split('/')[1])\n",
    "\n",
    "print(len(features), (features[0].shape), target, len(target))"
   ]
  },
  {
   "cell_type": "markdown",
   "id": "9de7aca2",
   "metadata": {
    "ExecuteTime": {
     "end_time": "2021-06-22T06:31:50.272612Z",
     "start_time": "2021-06-22T06:31:26.061730Z"
    }
   },
   "source": [
    "with open('features', 'wb') as f:\n",
    "    pickle.dump(features, f)\n",
    "with open('target', 'wb') as f:\n",
    "    pickle.dump(target, f)"
   ]
  },
  {
   "cell_type": "markdown",
   "id": "7410f45c",
   "metadata": {},
   "source": [
    "## Logistic regression"
   ]
  },
  {
   "cell_type": "code",
   "execution_count": 15,
   "id": "7e029452",
   "metadata": {
    "ExecuteTime": {
     "end_time": "2021-06-23T17:20:25.625411Z",
     "start_time": "2021-06-23T17:20:25.135429Z"
    }
   },
   "outputs": [],
   "source": [
    "X_train, X_test, y_train, y_test = train_test_split(flatten_data, target, test_size=0.3, random_state=42)"
   ]
  },
  {
   "cell_type": "code",
   "execution_count": 16,
   "id": "0509dd8e",
   "metadata": {
    "ExecuteTime": {
     "end_time": "2021-06-23T17:20:25.629492Z",
     "start_time": "2021-06-23T17:20:25.626899Z"
    }
   },
   "outputs": [],
   "source": [
    "scoring = {'Accuracy': make_scorer(accuracy_score), \n",
    "           'Precision': make_scorer(precision_score, average='weighted'),\n",
    "          'Recall': make_scorer(recall_score, average='weighted'),\n",
    "          'f1': make_scorer(f1_score, average='weighted')}"
   ]
  },
  {
   "cell_type": "code",
   "execution_count": 17,
   "id": "3ac1e5a9",
   "metadata": {
    "ExecuteTime": {
     "end_time": "2021-06-23T17:36:52.148393Z",
     "start_time": "2021-06-23T17:20:25.631159Z"
    }
   },
   "outputs": [
    {
     "data": {
      "text/plain": [
       "{'fit_time': array([208.48766541, 187.26031113, 196.85474753, 191.84046793,\n",
       "        201.70064521]),\n",
       " 'score_time': array([0.08307719, 0.06352925, 0.06365514, 0.06551313, 0.06398654]),\n",
       " 'test_Accuracy': array([0.69848053, 0.69563153, 0.67806268, 0.69088319, 0.69705603]),\n",
       " 'test_Precision': array([0.70077899, 0.69923902, 0.68803292, 0.69714983, 0.70350443]),\n",
       " 'test_Recall': array([0.69848053, 0.69563153, 0.67806268, 0.69088319, 0.69705603]),\n",
       " 'test_f1': array([0.69916926, 0.69702222, 0.68103951, 0.693069  , 0.69940921])}"
      ]
     },
     "execution_count": 17,
     "metadata": {},
     "output_type": "execute_result"
    }
   ],
   "source": [
    "\n",
    "#from imblearn.over_sampling import SMOTE\n",
    "\n",
    "log_reg = LogisticRegression(max_iter=1000)\n",
    "#sm = SMOTE(random_state=42)\n",
    "#X_res, y_res = sm.fit_resample(X,y)\n",
    "\n",
    "\n",
    "#X_resampled, y_resampled = sm.fit_resample(flatten_data, target)\n",
    "\n",
    "cv_results = cross_validate(log_reg, flatten_data, target, cv=5, scoring=scoring)\n",
    "cv_results"
   ]
  },
  {
   "cell_type": "code",
   "execution_count": 18,
   "id": "ec2bc55c",
   "metadata": {
    "ExecuteTime": {
     "end_time": "2021-06-23T17:39:47.759169Z",
     "start_time": "2021-06-23T17:36:52.150830Z"
    }
   },
   "outputs": [
    {
     "data": {
      "text/plain": [
       "LogisticRegression(max_iter=1000)"
      ]
     },
     "execution_count": 18,
     "metadata": {},
     "output_type": "execute_result"
    }
   ],
   "source": [
    "log_reg.fit(X_train, y_train)"
   ]
  },
  {
   "cell_type": "code",
   "execution_count": 19,
   "id": "168c8996",
   "metadata": {
    "ExecuteTime": {
     "end_time": "2021-06-23T17:39:47.766743Z",
     "start_time": "2021-06-23T17:39:47.762785Z"
    }
   },
   "outputs": [],
   "source": [
    "acc = round(cv_results['test_Accuracy'].mean()*100,1)\n",
    "prec = round(cv_results['test_Precision'].mean()*100,1)\n",
    "rec = round(cv_results['test_Recall'].mean()*100,1)\n",
    "f1 = round(cv_results['test_f1'].mean()*100,1)"
   ]
  },
  {
   "cell_type": "code",
   "execution_count": 20,
   "id": "ab43959a",
   "metadata": {
    "ExecuteTime": {
     "end_time": "2021-06-23T17:39:47.772043Z",
     "start_time": "2021-06-23T17:39:47.768561Z"
    }
   },
   "outputs": [
    {
     "name": "stdout",
     "output_type": "stream",
     "text": [
      "Logistic Regression Accuracy: 69.2%\n",
      "Logistic Regression Precision: 69.8%\n",
      "Logistic Regression Recall: 69.2%\n",
      "Logistic Regression f1: 69.4%\n"
     ]
    }
   ],
   "source": [
    "print(f'Logistic Regression Accuracy: {acc}%')\n",
    "print(f'Logistic Regression Precision: {prec}%')\n",
    "print(f'Logistic Regression Recall: {rec}%')\n",
    "print(f'Logistic Regression f1: {f1}%')\n"
   ]
  },
  {
   "cell_type": "code",
   "execution_count": 21,
   "id": "017df43f",
   "metadata": {
    "ExecuteTime": {
     "end_time": "2021-06-23T17:39:47.921532Z",
     "start_time": "2021-06-23T17:39:47.773285Z"
    }
   },
   "outputs": [],
   "source": [
    "y_pred = log_reg.predict(X_test)"
   ]
  },
  {
   "cell_type": "code",
   "execution_count": 22,
   "id": "af601362",
   "metadata": {
    "ExecuteTime": {
     "end_time": "2021-06-23T17:39:48.416076Z",
     "start_time": "2021-06-23T17:39:47.922964Z"
    },
    "scrolled": true
   },
   "outputs": [
    {
     "data": {
      "image/png": "[encoded data removed]",
      "text/plain": [
       "<Figure size 1080x1080 with 1 Axes>"
      ]
     },
     "metadata": {},
     "output_type": "display_data"
    }
   ],
   "source": [
    "fig, ax = plt.subplots(figsize=(15, 15))\n",
    "plt.grid(False)\n",
    "sns.set(font_scale=4.0)\n",
    "label_font = {'size':'18'} \n",
    "ax.set_xlabel('Predicted labels', fontdict=label_font);\n",
    "ax.set_ylabel('Observed labels', fontdict=label_font);\n",
    "\n",
    "plot_confusion_matrix(log_reg, X_test, y_test, ax=ax, cmap='cividis', colorbar=False);\n",
    "\n",
    "plt.savefig('confusion_matrix_log_reg.png', bbox_inches='tight')\n",
    "plt.show()"
   ]
  },
  {
   "cell_type": "code",
   "execution_count": 23,
   "id": "e51214b0",
   "metadata": {
    "ExecuteTime": {
     "end_time": "2021-06-23T17:39:48.423175Z",
     "start_time": "2021-06-23T17:39:48.419572Z"
    }
   },
   "outputs": [],
   "source": [
    "with open('logistic_regression_model', 'wb') as f:\n",
    "    pickle.dump(log_reg, f)"
   ]
  },
  {
   "cell_type": "markdown",
   "id": "c331f18a",
   "metadata": {},
   "source": [
    "## Support Vector Machines"
   ]
  },
  {
   "cell_type": "markdown",
   "id": "20505062",
   "metadata": {},
   "source": [
    "### Linear kernel"
   ]
  },
  {
   "cell_type": "code",
   "execution_count": 25,
   "id": "78321965",
   "metadata": {
    "ExecuteTime": {
     "end_time": "2021-06-23T18:15:55.788300Z",
     "start_time": "2021-06-23T17:39:48.434505Z"
    },
    "scrolled": true
   },
   "outputs": [
    {
     "name": "stderr",
     "output_type": "stream",
     "text": [
      "[Parallel(n_jobs=-1)]: Using backend LokyBackend with 16 concurrent workers.\n",
      "[Parallel(n_jobs=-1)]: Done   5 out of   5 | elapsed: 36.1min finished\n"
     ]
    },
    {
     "data": {
      "text/plain": [
       "{'fit_time': array([1768.71709967, 1861.52088141, 1778.19291759, 1783.37690139,\n",
       "        1644.80902481]),\n",
       " 'score_time': array([362.55226445, 303.7440393 , 358.91612959, 353.54238057,\n",
       "        385.92164993]),\n",
       " 'test_Accuracy': array([0.71794872, 0.71794872, 0.69895537, 0.70797721, 0.70512821]),\n",
       " 'test_Precision': array([0.7184823 , 0.72038214, 0.70676356, 0.71240623, 0.71119173]),\n",
       " 'test_Recall': array([0.71794872, 0.71794872, 0.69895537, 0.70797721, 0.70512821]),\n",
       " 'test_f1': array([0.71765304, 0.71886476, 0.70141971, 0.70962655, 0.707497  ])}"
      ]
     },
     "execution_count": 25,
     "metadata": {},
     "output_type": "execute_result"
    }
   ],
   "source": [
    "svc_linear = SVC(kernel='linear')\n",
    "cv_results = cross_validate(svc_linear, flatten_data, target, cv=5, scoring=scoring, verbose=1, n_jobs=-1)\n",
    "cv_results"
   ]
  },
  {
   "cell_type": "code",
   "execution_count": 26,
   "id": "665167e1",
   "metadata": {
    "ExecuteTime": {
     "end_time": "2021-06-23T18:25:54.036955Z",
     "start_time": "2021-06-23T18:15:55.821712Z"
    }
   },
   "outputs": [
    {
     "data": {
      "text/plain": [
       "SVC(kernel='linear')"
      ]
     },
     "execution_count": 26,
     "metadata": {},
     "output_type": "execute_result"
    }
   ],
   "source": [
    "svc_linear.fit(X_train, y_train)"
   ]
  },
  {
   "cell_type": "code",
   "execution_count": 27,
   "id": "4a23c56c",
   "metadata": {
    "ExecuteTime": {
     "end_time": "2021-06-23T18:25:54.052840Z",
     "start_time": "2021-06-23T18:25:54.040150Z"
    },
    "scrolled": true
   },
   "outputs": [],
   "source": [
    "acc = round(cv_results['test_Accuracy'].mean()*100,1)\n",
    "prec = round(cv_results['test_Precision'].mean()*100,1)\n",
    "rec = round(cv_results['test_Recall'].mean()*100,1)\n",
    "f1 = round(cv_results['test_f1'].mean()*100,1)"
   ]
  },
  {
   "cell_type": "code",
   "execution_count": 28,
   "id": "8f652574",
   "metadata": {
    "ExecuteTime": {
     "end_time": "2021-06-23T18:25:54.064589Z",
     "start_time": "2021-06-23T18:25:54.057318Z"
    }
   },
   "outputs": [
    {
     "name": "stdout",
     "output_type": "stream",
     "text": [
      "SVM Linear Accuracy: 71.0%\n",
      "SVM Linear Precision: 71.4%\n",
      "SVM Linear Recall: 71.0%\n",
      "SVM Linear f1: 71.1%\n"
     ]
    }
   ],
   "source": [
    "print(f'SVM Linear Accuracy: {acc}%')\n",
    "print(f'SVM Linear Precision: {prec}%')\n",
    "print(f'SVM Linear Recall: {rec}%')\n",
    "print(f'SVM Linear f1: {f1}%')"
   ]
  },
  {
   "cell_type": "code",
   "execution_count": 29,
   "id": "f9497f8c",
   "metadata": {
    "ExecuteTime": {
     "end_time": "2021-06-23T18:29:32.086930Z",
     "start_time": "2021-06-23T18:25:54.068458Z"
    },
    "scrolled": true
   },
   "outputs": [
    {
     "data": {
      "image/png": "[encoded data removed]",
      "text/plain": [
       "<Figure size 1080x1080 with 1 Axes>"
      ]
     },
     "metadata": {},
     "output_type": "display_data"
    }
   ],
   "source": [
    "fig, ax = plt.subplots(figsize=(15, 15))\n",
    "plt.grid(False)\n",
    "sns.set(font_scale=4.0)\n",
    "label_font = {'size':'18'} \n",
    "ax.set_xlabel('Predicted labels', fontdict=label_font);\n",
    "ax.set_ylabel('Observed labels', fontdict=label_font);\n",
    "\n",
    "plot_confusion_matrix(svc_linear, X_test, y_test, ax=ax, cmap='cividis', colorbar=False);\n",
    "\n",
    "plt.savefig('confusion_matrix_svm_linear.png', bbox_inches='tight')\n",
    "plt.show()"
   ]
  },
  {
   "cell_type": "code",
   "execution_count": 30,
   "id": "3f9b609d",
   "metadata": {
    "ExecuteTime": {
     "end_time": "2021-06-23T18:29:33.764144Z",
     "start_time": "2021-06-23T18:29:32.089670Z"
    }
   },
   "outputs": [],
   "source": [
    "with open('svc_linear_model', 'wb') as f:\n",
    "    pickle.dump(svc_linear, f)"
   ]
  },
  {
   "cell_type": "markdown",
   "id": "190e79ca",
   "metadata": {},
   "source": [
    "### Polynomial kernel"
   ]
  },
  {
   "cell_type": "code",
   "execution_count": 31,
   "id": "65352d9c",
   "metadata": {
    "ExecuteTime": {
     "end_time": "2021-06-23T19:03:16.771584Z",
     "start_time": "2021-06-23T18:29:33.768632Z"
    }
   },
   "outputs": [
    {
     "name": "stderr",
     "output_type": "stream",
     "text": [
      "[Parallel(n_jobs=-1)]: Using backend LokyBackend with 16 concurrent workers.\n",
      "[Parallel(n_jobs=-1)]: Done   5 out of   5 | elapsed: 33.7min finished\n"
     ]
    },
    {
     "data": {
      "text/plain": [
       "{'fit_time': array([1633.31370616, 1682.48533893, 1654.40717363, 1660.31376004,\n",
       "        1599.08683681]),\n",
       " 'score_time': array([374.88018203, 327.46004915, 331.14355731, 336.66542292,\n",
       "        404.82267642]),\n",
       " 'test_Accuracy': array([0.83903134, 0.84140551, 0.82193732, 0.83808167, 0.83950617]),\n",
       " 'test_Precision': array([0.84032399, 0.84432464, 0.82756059, 0.8405253 , 0.84217011]),\n",
       " 'test_Recall': array([0.83903134, 0.84140551, 0.82193732, 0.83808167, 0.83950617]),\n",
       " 'test_f1': array([0.83957107, 0.84223619, 0.82406709, 0.83894256, 0.84061542])}"
      ]
     },
     "execution_count": 31,
     "metadata": {},
     "output_type": "execute_result"
    }
   ],
   "source": [
    "svc_poly = SVC(kernel='poly')\n",
    "cv_results = cross_validate(svc_poly, flatten_data, target, cv=5, scoring=scoring, verbose=1, n_jobs=-1)\n",
    "cv_results"
   ]
  },
  {
   "cell_type": "code",
   "execution_count": 32,
   "id": "c8446a35",
   "metadata": {
    "ExecuteTime": {
     "end_time": "2021-06-23T19:13:00.457418Z",
     "start_time": "2021-06-23T19:03:16.810004Z"
    }
   },
   "outputs": [
    {
     "data": {
      "text/plain": [
       "SVC(kernel='poly')"
      ]
     },
     "execution_count": 32,
     "metadata": {},
     "output_type": "execute_result"
    }
   ],
   "source": [
    "svc_poly.fit(X_train, y_train)"
   ]
  },
  {
   "cell_type": "code",
   "execution_count": 34,
   "id": "2e3deef2",
   "metadata": {
    "ExecuteTime": {
     "end_time": "2021-06-23T19:13:00.489891Z",
     "start_time": "2021-06-23T19:13:00.482036Z"
    }
   },
   "outputs": [],
   "source": [
    "acc = round(cv_results['test_Accuracy'].mean()*100,1)\n",
    "prec = round(cv_results['test_Precision'].mean()*100,1)\n",
    "rec = round(cv_results['test_Recall'].mean()*100,1)\n",
    "f1 = round(cv_results['test_f1'].mean()*100,1)"
   ]
  },
  {
   "cell_type": "code",
   "execution_count": 35,
   "id": "6cf334e0",
   "metadata": {
    "ExecuteTime": {
     "end_time": "2021-06-23T19:13:00.499295Z",
     "start_time": "2021-06-23T19:13:00.492890Z"
    }
   },
   "outputs": [
    {
     "name": "stdout",
     "output_type": "stream",
     "text": [
      "SVM Poly Accuracy: 83.6%\n",
      "SVM Poly Precision: 83.9%\n",
      "SVM Poly Recall: 83.6%\n",
      "SVM Poly f1: 83.7%\n"
     ]
    }
   ],
   "source": [
    "print(f'SVM Poly Accuracy: {acc}%')\n",
    "print(f'SVM Poly Precision: {prec}%')\n",
    "print(f'SVM Poly Recall: {rec}%')\n",
    "print(f'SVM Poly f1: {f1}%')"
   ]
  },
  {
   "cell_type": "code",
   "execution_count": 36,
   "id": "577aebcf",
   "metadata": {
    "ExecuteTime": {
     "end_time": "2021-06-23T19:16:31.693436Z",
     "start_time": "2021-06-23T19:13:00.501654Z"
    }
   },
   "outputs": [
    {
     "data": {
      "image/png": "[encoded data removed]",
      "text/plain": [
       "<Figure size 1080x1080 with 1 Axes>"
      ]
     },
     "metadata": {},
     "output_type": "display_data"
    }
   ],
   "source": [
    "fig, ax = plt.subplots(figsize=(15, 15))\n",
    "plt.grid(False)\n",
    "sns.set(font_scale=4.0)\n",
    "label_font = {'size':'18'} \n",
    "ax.set_xlabel('Predicted labels', fontdict=label_font);\n",
    "ax.set_ylabel('Observed labels', fontdict=label_font);\n",
    "\n",
    "plot_confusion_matrix(svc_poly, X_test, y_test, ax=ax, cmap='cividis', colorbar=False);\n",
    "\n",
    "plt.savefig('confusion_matrix_svm_poly.png', bbox_inches='tight')\n",
    "plt.show()"
   ]
  },
  {
   "cell_type": "code",
   "execution_count": 37,
   "id": "a59c38d1",
   "metadata": {
    "ExecuteTime": {
     "end_time": "2021-06-23T19:16:32.429037Z",
     "start_time": "2021-06-23T19:16:31.696405Z"
    }
   },
   "outputs": [],
   "source": [
    "with open('svc_polynomial_model', 'wb') as f:\n",
    "    pickle.dump(svc_poly, f)"
   ]
  },
  {
   "cell_type": "markdown",
   "id": "4769aaef",
   "metadata": {},
   "source": [
    "## KNeighbors Classifier"
   ]
  },
  {
   "cell_type": "code",
   "execution_count": 38,
   "id": "cfeb1733",
   "metadata": {
    "ExecuteTime": {
     "end_time": "2021-06-23T19:17:10.477265Z",
     "start_time": "2021-06-23T19:16:32.430811Z"
    }
   },
   "outputs": [
    {
     "name": "stderr",
     "output_type": "stream",
     "text": [
      "[Parallel(n_jobs=-1)]: Using backend LokyBackend with 16 concurrent workers.\n",
      "[Parallel(n_jobs=-1)]: Done   5 out of   5 | elapsed:   37.9s finished\n"
     ]
    },
    {
     "data": {
      "text/plain": [
       "{'fit_time': array([5.28891397, 5.36686635, 5.46610022, 4.90653896, 3.56037807]),\n",
       " 'score_time': array([17.19126081, 18.04143715, 17.4381144 , 18.14567113, 17.48079228]),\n",
       " 'test_Accuracy': array([0.88888889, 0.89411206, 0.87179487, 0.87796771, 0.86989554]),\n",
       " 'test_Precision': array([0.88804643, 0.89343264, 0.87108548, 0.87793646, 0.86860019]),\n",
       " 'test_Recall': array([0.88888889, 0.89411206, 0.87179487, 0.87796771, 0.86989554]),\n",
       " 'test_f1': array([0.88823675, 0.89368352, 0.8710328 , 0.87790331, 0.86901998])}"
      ]
     },
     "execution_count": 38,
     "metadata": {},
     "output_type": "execute_result"
    }
   ],
   "source": [
    "knn = KNeighborsClassifier(n_neighbors=3)\n",
    "\n",
    "cv_results = cross_validate(knn, flatten_data, target, cv=5, scoring=scoring, verbose=1, n_jobs=-1)\n",
    "cv_results"
   ]
  },
  {
   "cell_type": "code",
   "execution_count": 39,
   "id": "bbb1d4d8",
   "metadata": {
    "ExecuteTime": {
     "end_time": "2021-06-23T19:17:17.140799Z",
     "start_time": "2021-06-23T19:17:10.491592Z"
    }
   },
   "outputs": [
    {
     "data": {
      "text/plain": [
       "KNeighborsClassifier(n_neighbors=3)"
      ]
     },
     "execution_count": 39,
     "metadata": {},
     "output_type": "execute_result"
    }
   ],
   "source": [
    "knn.fit(X_train, y_train)"
   ]
  },
  {
   "cell_type": "code",
   "execution_count": 40,
   "id": "45fb02fe",
   "metadata": {
    "ExecuteTime": {
     "end_time": "2021-06-23T19:17:17.168937Z",
     "start_time": "2021-06-23T19:17:17.144021Z"
    }
   },
   "outputs": [],
   "source": [
    "acc = round(cv_results['test_Accuracy'].mean()*100,1)\n",
    "prec = round(cv_results['test_Precision'].mean()*100,1)\n",
    "rec = round(cv_results['test_Recall'].mean()*100,1)\n",
    "f1 = round(cv_results['test_f1'].mean()*100,1)"
   ]
  },
  {
   "cell_type": "code",
   "execution_count": 41,
   "id": "c61552d9",
   "metadata": {
    "ExecuteTime": {
     "end_time": "2021-06-23T19:17:17.196011Z",
     "start_time": "2021-06-23T19:17:17.186553Z"
    }
   },
   "outputs": [
    {
     "name": "stdout",
     "output_type": "stream",
     "text": [
      "KNeighbors Accuracy: 88.1%\n",
      "KNeighbors Precision: 88.0%\n",
      "KNeighbors Recall: 88.1%\n",
      "KNeighbors f1: 88.0%\n"
     ]
    }
   ],
   "source": [
    "print(f'KNeighbors Accuracy: {acc}%')\n",
    "print(f'KNeighbors Precision: {prec}%')\n",
    "print(f'KNeighbors Recall: {rec}%')\n",
    "print(f'KNeighbors f1: {f1}%')"
   ]
  },
  {
   "cell_type": "code",
   "execution_count": 42,
   "id": "29b1e45e",
   "metadata": {
    "ExecuteTime": {
     "end_time": "2021-06-23T19:17:36.899721Z",
     "start_time": "2021-06-23T19:17:17.212277Z"
    },
    "scrolled": true
   },
   "outputs": [
    {
     "data": {
      "image/png": "[encoded data removed]",
      "text/plain": [
       "<Figure size 1080x1080 with 1 Axes>"
      ]
     },
     "metadata": {},
     "output_type": "display_data"
    }
   ],
   "source": [
    "fig, ax = plt.subplots(figsize=(15, 15))\n",
    "plt.grid(False)\n",
    "sns.set(font_scale=4.0)\n",
    "label_font = {'size':'18'} \n",
    "ax.set_xlabel('Predicted labels', fontdict=label_font);\n",
    "ax.set_ylabel('Observed labels', fontdict=label_font);\n",
    "\n",
    "plot_confusion_matrix(knn, X_test, y_test, ax=ax, cmap='cividis', colorbar=False);\n",
    "\n",
    "plt.savefig('confusion_matrix_kneighbors.png', bbox_inches='tight')\n",
    "plt.show()"
   ]
  },
  {
   "cell_type": "code",
   "execution_count": 43,
   "id": "8a8e107f",
   "metadata": {
    "ExecuteTime": {
     "end_time": "2021-06-23T19:17:37.912482Z",
     "start_time": "2021-06-23T19:17:36.902234Z"
    }
   },
   "outputs": [],
   "source": [
    "with open('kneighbors_model', 'wb') as f:\n",
    "    pickle.dump(knn, f)"
   ]
  },
  {
   "cell_type": "markdown",
   "id": "83a3b8cc",
   "metadata": {},
   "source": [
    "## Ensemble classifiers"
   ]
  },
  {
   "cell_type": "code",
   "execution_count": 44,
   "id": "eb037107",
   "metadata": {
    "ExecuteTime": {
     "end_time": "2021-06-23T19:21:21.372157Z",
     "start_time": "2021-06-23T19:17:38.115160Z"
    }
   },
   "outputs": [
    {
     "data": {
      "text/plain": [
       "{'fit_time': array([198.37487292, 149.56994748, 155.39573717, 154.00879383,\n",
       "        160.36596918]),\n",
       " 'score_time': array([0.24455786, 0.36934686, 0.23959947, 0.26171017, 0.22561216]),\n",
       " 'test_Accuracy': array([0.76875594, 0.7640076 , 0.74643875, 0.75973409, 0.75308642]),\n",
       " 'test_Precision': array([0.79466726, 0.78970086, 0.77573757, 0.78433511, 0.77554099]),\n",
       " 'test_Recall': array([0.76875594, 0.7640076 , 0.74643875, 0.75973409, 0.75308642]),\n",
       " 'test_f1': array([0.77361565, 0.76876379, 0.75233663, 0.76477471, 0.75864657])}"
      ]
     },
     "execution_count": 44,
     "metadata": {},
     "output_type": "execute_result"
    }
   ],
   "source": [
    "\n",
    "random_forest = RandomForestClassifier(n_estimators=100)\n",
    "\n",
    "cv_results = cross_validate(random_forest, flatten_data, target, cv=5, scoring=scoring, n_jobs=-1)\n",
    "cv_results"
   ]
  },
  {
   "cell_type": "code",
   "execution_count": 45,
   "id": "f1c2a07e",
   "metadata": {
    "ExecuteTime": {
     "end_time": "2021-06-23T19:22:40.759328Z",
     "start_time": "2021-06-23T19:21:21.399804Z"
    }
   },
   "outputs": [
    {
     "data": {
      "text/plain": [
       "RandomForestClassifier()"
      ]
     },
     "execution_count": 45,
     "metadata": {},
     "output_type": "execute_result"
    }
   ],
   "source": [
    "random_forest.fit(X_train, y_train)"
   ]
  },
  {
   "cell_type": "code",
   "execution_count": 46,
   "id": "19dbcdd7",
   "metadata": {
    "ExecuteTime": {
     "end_time": "2021-06-23T19:22:40.775656Z",
     "start_time": "2021-06-23T19:22:40.763299Z"
    }
   },
   "outputs": [],
   "source": [
    "acc = round(cv_results['test_Accuracy'].mean()*100,1)\n",
    "prec = round(cv_results['test_Precision'].mean()*100,1)\n",
    "rec = round(cv_results['test_Recall'].mean()*100,1)\n",
    "f1 = round(cv_results['test_f1'].mean()*100,1)"
   ]
  },
  {
   "cell_type": "code",
   "execution_count": 47,
   "id": "2fd4ad89",
   "metadata": {
    "ExecuteTime": {
     "end_time": "2021-06-23T19:22:40.791923Z",
     "start_time": "2021-06-23T19:22:40.779933Z"
    }
   },
   "outputs": [
    {
     "name": "stdout",
     "output_type": "stream",
     "text": [
      "Random Forest Accuracy: 75.8%\n",
      "Random Forest Precision: 78.4%\n",
      "Random Forest Recall: 75.8%\n",
      "Random Forest f1: 76.4%\n"
     ]
    }
   ],
   "source": [
    "print(f'Random Forest Accuracy: {acc}%')\n",
    "print(f'Random Forest Precision: {prec}%')\n",
    "print(f'Random Forest Recall: {rec}%')\n",
    "print(f'Random Forest f1: {f1}%')"
   ]
  },
  {
   "cell_type": "code",
   "execution_count": 48,
   "id": "a0b91a8c",
   "metadata": {
    "ExecuteTime": {
     "end_time": "2021-06-23T19:22:48.786575Z",
     "start_time": "2021-06-23T19:22:40.794694Z"
    },
    "scrolled": true
   },
   "outputs": [
    {
     "data": {
      "image/png": "[encoded data removed]",
      "text/plain": [
       "<Figure size 1080x1080 with 1 Axes>"
      ]
     },
     "metadata": {},
     "output_type": "display_data"
    }
   ],
   "source": [
    "fig, ax = plt.subplots(figsize=(15, 15))\n",
    "plt.grid(False)\n",
    "sns.set(font_scale=4.0)\n",
    "label_font = {'size':'18'} \n",
    "ax.set_xlabel('Predicted labels', fontdict=label_font);\n",
    "ax.set_ylabel('Observed labels', fontdict=label_font);\n",
    "\n",
    "plot_confusion_matrix(random_forest, X_test, y_test, ax=ax, cmap='cividis', colorbar=False);\n",
    "\n",
    "plt.savefig('confusion_matrix_random_forest.png', bbox_inches='tight')\n",
    "plt.show()"
   ]
  },
  {
   "cell_type": "code",
   "execution_count": 49,
   "id": "5d1b8082",
   "metadata": {
    "ExecuteTime": {
     "end_time": "2021-06-23T19:22:48.817518Z",
     "start_time": "2021-06-23T19:22:48.791470Z"
    }
   },
   "outputs": [],
   "source": [
    "with open('random_forest_model', 'wb') as f:\n",
    "    pickle.dump(random_forest, f)"
   ]
  },
  {
   "cell_type": "markdown",
   "id": "d485b7cb",
   "metadata": {},
   "source": [
    "## XGBoost Classifier"
   ]
  },
  {
   "cell_type": "code",
   "execution_count": 50,
   "id": "704d6d97",
   "metadata": {
    "ExecuteTime": {
     "end_time": "2021-06-23T19:22:48.833058Z",
     "start_time": "2021-06-23T19:22:48.819413Z"
    }
   },
   "outputs": [],
   "source": [
    "gradient_boosting = xgb.XGBClassifier(objective=\"multi:softprob\", booster='gbtree', base_score=0.33, n_estimators=2000, eta=0.05, silent='False', verbosity=3, tree_method='gpu_hist', gpu_id=0, n_jobs=-1)"
   ]
  },
  {
   "cell_type": "code",
   "execution_count": 52,
   "id": "6fde7b1a",
   "metadata": {
    "ExecuteTime": {
     "end_time": "2021-06-23T20:40:07.232109Z",
     "start_time": "2021-06-23T19:22:48.852204Z"
    },
    "scrolled": false
   },
   "outputs": [
    {
     "name": "stdout",
     "output_type": "stream",
     "text": [
      "[21:22:53] DEBUG: ../src/tree/updater_gpu_hist.cu:899: [GPU Hist]: Configure\n",
      "[21:22:53] WARNING: ../src/learner.cc:573: \n",
      "Parameters: { \"silent\" } might not be used.\n",
      "\n",
      "  This may not be accurate due to some parameters are only used in language bindings but\n",
      "  passed down to XGBoost core.  Or some parameters are not used but slip through this\n",
      "  verification. Please open an issue if you find above cases.\n",
      "\n",
      "\n",
      "[21:22:53] DEBUG: ../src/common/device_helpers.cu:38: Running nccl init on: 10.0\n",
      "[21:22:54] ======== Monitor: SketchContainer ========\n",
      "[21:22:54] MakeCuts: 0.014826s, 1 calls @ 14826us\n",
      "\n",
      "[21:22:54] Prune: 0.012182s, 1 calls @ 12182us\n",
      "\n",
      "[21:22:54] ScanInput: 0.136876s, 1 calls @ 136876us\n",
      "\n",
      "[21:22:54] Unique: 0.011421s, 1 calls @ 11421us\n",
      "\n",
      "[21:22:58] WARNING: ../src/learner.cc:1095: Starting in XGBoost 1.3.0, the default evaluation metric used with the objective 'multi:softprob' was changed from 'merror' to 'mlogloss'. Explicitly set eval_metric if you'd like to restore the old behavior.\n",
      "[22:40:07] ======== Monitor: Learner ========\n",
      "[22:40:07] Configure: 1e-06s, 1 calls @ 1us\n",
      "\n",
      "[22:40:07] EvalOneIter: 0.020971s, 2000 calls @ 20971us\n",
      "\n",
      "[22:40:07] GetGradient: 0.046627s, 2000 calls @ 46627us\n",
      "\n",
      "[22:40:07] PredictRaw: 1.28422s, 2000 calls @ 1284218us\n",
      "\n",
      "[22:40:07] UpdateOneIter: 4627.64s, 2000 calls @ 4627639575us\n",
      "\n",
      "[22:40:07] ======== Monitor: GBTree ========\n",
      "[22:40:07] BoostNewTrees: 4631.68s, 2000 calls @ 4631676406us\n",
      "\n",
      "[22:40:07] CommitModel: 0.001144s, 2000 calls @ 1144us\n",
      "\n",
      "[22:40:07] ======== Device 0 Memory Allocations:  ========\n",
      "[22:40:07] Peak memory usage: 2862MiB\n",
      "[22:40:07] Number of allocations: 535381\n",
      "[22:40:07] ======== Monitor: updater_gpu_hist ========\n",
      "[22:40:07] InitData: 1.45868s, 6000 calls @ 1458680us\n",
      "\n",
      "[22:40:07] InitDataOnce: 1.45715s, 1 calls @ 1457155us\n",
      "\n",
      "[22:40:07] Update: 4628.59s, 6000 calls @ 4628592592us\n",
      "\n",
      "[22:40:07] ======== NCCL Statistics========\n",
      "[22:40:07] AllReduce calls: 138120\n",
      "[22:40:07] AllReduce total MiB communicated: 10620006\n",
      "[22:40:07] ======== Monitor: gradient_based_sampler ========\n",
      "[22:40:07] Sample: 0.004084s, 6000 calls @ 4084us\n",
      "\n",
      "[22:40:07] ======== Monitor: GPUHistMakerDevice0 ========\n",
      "[22:40:07] AllReduce: 0.353119s, 138120 calls @ 353119us\n",
      "\n",
      "[22:40:07] BuildHist: 2.85905s, 87869 calls @ 2859046us\n",
      "\n",
      "[22:40:07] EvaluateSplits: 2.35832s, 87869 calls @ 2358317us\n",
      "\n",
      "[22:40:07] FinalisePosition: 0.204868s, 6000 calls @ 204868us\n",
      "\n",
      "[22:40:07] InitRoot: 726.497s, 6000 calls @ 726496728us\n",
      "\n",
      "[22:40:07] Reset: 1.26184s, 6000 calls @ 1261837us\n",
      "\n",
      "[22:40:07] UpdatePosition: 2558.06s, 87869 calls @ 2558062368us\n",
      "\n",
      "[22:40:07] ======== Monitor: ellpack_page ========\n",
      "[22:40:07] BinningCompression: 0.322407s, 1 calls @ 322407us\n",
      "\n",
      "[22:40:07] InitCompressedData: 0.000555s, 1 calls @ 555us\n",
      "\n",
      "[22:40:07] Quantiles: 0.837016s, 1 calls @ 837016us\n",
      "\n",
      "[22:40:07] DEBUG: ../src/tree/updater_gpu_hist.cu:899: [GPU Hist]: Configure\n",
      "[22:40:07] ======== Device 0 Memory Allocations:  ========\n",
      "[22:40:07] Peak memory usage: 2862MiB\n",
      "[22:40:07] Number of allocations: 535381\n",
      "[22:40:07] ======== Monitor:  ========\n",
      "[22:40:07] ======== NCCL Statistics========\n",
      "[22:40:07] AllReduce calls: 0\n",
      "[22:40:07] AllReduce total MiB communicated: 0\n"
     ]
    },
    {
     "data": {
      "text/plain": [
       "XGBClassifier(base_score=0.33, booster='gbtree', colsample_bylevel=1,\n",
       "              colsample_bynode=1, colsample_bytree=1, eta=0.05, gamma=0,\n",
       "              gpu_id=0, importance_type='gain', interaction_constraints='',\n",
       "              learning_rate=0.0500000007, max_delta_step=0, max_depth=6,\n",
       "              min_child_weight=1, missing=nan, monotone_constraints='()',\n",
       "              n_estimators=2000, n_jobs=-1, num_parallel_tree=1,\n",
       "              objective='multi:softprob', random_state=0, reg_alpha=0,\n",
       "              reg_lambda=1, scale_pos_weight=None, silent='False', subsample=1,\n",
       "              tree_method='gpu_hist', validate_parameters=1, verbosity=3)"
      ]
     },
     "execution_count": 52,
     "metadata": {},
     "output_type": "execute_result"
    }
   ],
   "source": [
    "gradient_boosting.fit(X_train,y_train)"
   ]
  },
  {
   "cell_type": "code",
   "execution_count": 53,
   "id": "c4999af8",
   "metadata": {
    "ExecuteTime": {
     "end_time": "2021-06-23T20:40:07.981003Z",
     "start_time": "2021-06-23T20:40:07.235736Z"
    }
   },
   "outputs": [],
   "source": [
    "y_pred = gradient_boosting.predict(X_test)"
   ]
  },
  {
   "cell_type": "code",
   "execution_count": 60,
   "id": "ddb4350f",
   "metadata": {
    "ExecuteTime": {
     "end_time": "2021-06-24T03:42:55.261619Z",
     "start_time": "2021-06-24T03:42:54.933166Z"
    }
   },
   "outputs": [
    {
     "ename": "AttributeError",
     "evalue": "'XGBClassifier' object has no attribute 'evals_result_'",
     "output_type": "error",
     "traceback": [
      "\u001b[0;31m---------------------------------------------------------------------------\u001b[0m",
      "\u001b[0;31mAttributeError\u001b[0m                            Traceback (most recent call last)",
      "\u001b[0;32m<ipython-input-60-98cc3766fe41>\u001b[0m in \u001b[0;36m<module>\u001b[0;34m\u001b[0m\n\u001b[0;32m----> 1\u001b[0;31m \u001b[0mgradient_boosting\u001b[0m\u001b[0;34m.\u001b[0m\u001b[0mevals_result\u001b[0m\u001b[0;34m(\u001b[0m\u001b[0;34m)\u001b[0m\u001b[0;34m\u001b[0m\u001b[0;34m\u001b[0m\u001b[0m\n\u001b[0m",
      "\u001b[0;32m~/.pyenv/versions/3.8.9/envs/datascience/lib/python3.8/site-packages/xgboost/sklearn.py\u001b[0m in \u001b[0;36mevals_result\u001b[0;34m(self)\u001b[0m\n\u001b[1;32m   1319\u001b[0m             'validation_1': {'logloss': ['0.41965', '0.17686']}}\n\u001b[1;32m   1320\u001b[0m         \"\"\"\n\u001b[0;32m-> 1321\u001b[0;31m         \u001b[0;32mif\u001b[0m \u001b[0mself\u001b[0m\u001b[0;34m.\u001b[0m\u001b[0mevals_result_\u001b[0m\u001b[0;34m:\u001b[0m\u001b[0;34m\u001b[0m\u001b[0;34m\u001b[0m\u001b[0m\n\u001b[0m\u001b[1;32m   1322\u001b[0m             \u001b[0mevals_result\u001b[0m \u001b[0;34m=\u001b[0m \u001b[0mself\u001b[0m\u001b[0;34m.\u001b[0m\u001b[0mevals_result_\u001b[0m\u001b[0;34m\u001b[0m\u001b[0;34m\u001b[0m\u001b[0m\n\u001b[1;32m   1323\u001b[0m         \u001b[0;32melse\u001b[0m\u001b[0;34m:\u001b[0m\u001b[0;34m\u001b[0m\u001b[0;34m\u001b[0m\u001b[0m\n",
      "\u001b[0;31mAttributeError\u001b[0m: 'XGBClassifier' object has no attribute 'evals_result_'"
     ]
    }
   ],
   "source": [
    "gradient_boosting.evals_result"
   ]
  },
  {
   "cell_type": "code",
   "execution_count": 55,
   "id": "0c9f5630",
   "metadata": {
    "ExecuteTime": {
     "end_time": "2021-06-23T20:40:08.006684Z",
     "start_time": "2021-06-23T20:40:07.993899Z"
    }
   },
   "outputs": [
    {
     "data": {
      "text/plain": [
       "array([[930,  74,  39],\n",
       "       [ 20, 851, 190],\n",
       "       [  9, 232, 814]])"
      ]
     },
     "execution_count": 55,
     "metadata": {},
     "output_type": "execute_result"
    }
   ],
   "source": [
    "confusion_matrix(y_test, y_pred)"
   ]
  },
  {
   "cell_type": "code",
   "execution_count": 56,
   "id": "3e178296",
   "metadata": {
    "ExecuteTime": {
     "end_time": "2021-06-23T20:40:08.044076Z",
     "start_time": "2021-06-23T20:40:08.008155Z"
    },
    "scrolled": true
   },
   "outputs": [
    {
     "name": "stdout",
     "output_type": "stream",
     "text": [
      "Gradient Boosting Accuracy: 82.1\n",
      "Gradient Boosting Precision: 82.8\n",
      "Gradient Boosting Recall: 82.1\n",
      "Gradient Boosting f1: 82.4\n"
     ]
    }
   ],
   "source": [
    "print(f'Gradient Boosting Accuracy: {round(accuracy_score(y_test,y_pred)*100,1)}')\n",
    "print(f'Gradient Boosting Precision: {round(precision_score(y_test,y_pred, average=\"weighted\")*100,1)}')\n",
    "print(f'Gradient Boosting Recall: {round(recall_score(y_test,y_pred, average=\"weighted\")*100,1)}')\n",
    "print(f'Gradient Boosting f1: {round(f1_score(y_test,y_pred, average=\"weighted\")*100,1)}')\n"
   ]
  },
  {
   "cell_type": "code",
   "execution_count": 57,
   "id": "27dbb27d",
   "metadata": {
    "ExecuteTime": {
     "end_time": "2021-06-23T20:40:08.048883Z",
     "start_time": "2021-06-23T20:40:08.046437Z"
    }
   },
   "outputs": [],
   "source": [
    "#no cross validation needed with XGBoost\n",
    "\n",
    "#cv_results = cross_validate(gradient_boosting, flatten_data, target, cv=5, scoring=scoring, n_jobs=-1)\n",
    "#cv_results"
   ]
  },
  {
   "cell_type": "code",
   "execution_count": 58,
   "id": "28ac1c08",
   "metadata": {
    "ExecuteTime": {
     "end_time": "2021-06-23T20:40:09.150824Z",
     "start_time": "2021-06-23T20:40:08.051157Z"
    }
   },
   "outputs": [
    {
     "data": {
      "image/png": "[encoded data removed]",
      "text/plain": [
       "<Figure size 1080x1080 with 1 Axes>"
      ]
     },
     "metadata": {},
     "output_type": "display_data"
    }
   ],
   "source": [
    "fig, ax = plt.subplots(figsize=(15, 15))\n",
    "plt.grid(False)\n",
    "sns.set(font_scale=4.0)\n",
    "label_font = {'size':'18'} \n",
    "ax.set_xlabel('Predicted labels', fontdict=label_font);\n",
    "ax.set_ylabel('Observed labels', fontdict=label_font);\n",
    "\n",
    "plot_confusion_matrix(gradient_boosting, X_test, y_test, ax=ax, cmap='cividis', colorbar=False);\n",
    "\n",
    "plt.savefig('confusion_matrix_gradient_boosting.png', bbox_inches='tight')\n",
    "plt.show()"
   ]
  },
  {
   "cell_type": "code",
   "execution_count": 59,
   "id": "5660d1ec",
   "metadata": {
    "ExecuteTime": {
     "end_time": "2021-06-23T20:40:09.502565Z",
     "start_time": "2021-06-23T20:40:09.152332Z"
    }
   },
   "outputs": [],
   "source": [
    "with open('gradient_boosting_model', 'wb') as f:\n",
    "    pickle.dump(gradient_boosting, f)"
   ]
  }
 ],
 "metadata": {
  "kernelspec": {
   "display_name": "Python 3",
   "language": "python",
   "name": "python3"
  },
  "language_info": {
   "codemirror_mode": {
    "name": "ipython",
    "version": 3
   },
   "file_extension": ".py",
   "mimetype": "text/x-python",
   "name": "python",
   "nbconvert_exporter": "python",
   "pygments_lexer": "ipython3",
   "version": "3.8.9"
  },
  "toc": {
   "base_numbering": 1,
   "nav_menu": {},
   "number_sections": true,
   "sideBar": true,
   "skip_h1_title": false,
   "title_cell": "Table of Contents",
   "title_sidebar": "Contents",
   "toc_cell": false,
   "toc_position": {},
   "toc_section_display": true,
   "toc_window_display": false
  },
  "varInspector": {
   "cols": {
    "lenName": 16,
    "lenType": 16,
    "lenVar": 40
   },
   "kernels_config": {
    "python": {
     "delete_cmd_postfix": "",
     "delete_cmd_prefix": "del ",
     "library": "var_list.py",
     "varRefreshCmd": "print(var_dic_list())"
    },
    "r": {
     "delete_cmd_postfix": ") ",
     "delete_cmd_prefix": "rm(",
     "library": "var_list.r",
     "varRefreshCmd": "cat(var_dic_list()) "
    }
   },
   "types_to_exclude": [
    "module",
    "function",
    "builtin_function_or_method",
    "instance",
    "_Feature"
   ],
   "window_display": false
  }
 },
 "nbformat": 4,
 "nbformat_minor": 5
}
