{
 "cells": [
  {
   "cell_type": "markdown",
   "id": "cf3759e4",
   "metadata": {},
   "source": [
    "# Data exploration"
   ]
  },
  {
   "cell_type": "markdown",
   "id": "21262ab9",
   "metadata": {},
   "source": [
    "## Load one dataset"
   ]
  },
  {
   "cell_type": "code",
   "execution_count": 48,
   "id": "ba0768b8",
   "metadata": {},
   "outputs": [],
   "source": [
    "import pandas as pd\n",
    "import numpy as np\n",
    "import matplotlib.pyplot as plt\n",
    "import scipy.io"
   ]
  },
  {
   "cell_type": "code",
   "execution_count": 3,
   "id": "e0964a13",
   "metadata": {},
   "outputs": [],
   "source": [
    "Patient_1_II = scipy.io.loadmat('Patient_1/Patient_1/Patient_1_interictal_segment_0001.mat')"
   ]
  },
  {
   "cell_type": "code",
   "execution_count": 55,
   "id": "bab2a001",
   "metadata": {},
   "outputs": [
    {
     "data": {
      "text/plain": [
       "{'__header__': b'MATLAB 5.0 MAT-file, Platform: MACI64, Created on: Thu Aug 21 01:00:00 2014',\n",
       " '__version__': '1.0',\n",
       " '__globals__': [],\n",
       " 'interictal_segment_1': array([[(array([[ 122,  122,  122, ...,   34,   33,   31],\n",
       "        [ 641,  642,  642, ..., -385, -387, -389],\n",
       "        [ 358,  358,  356, ...,  -36,  -37,  -40],\n",
       "        ...,\n",
       "        [ 379,  380,  379, ...,  142,  141,  140],\n",
       "        [1425, 1423, 1422, ..., -809, -809, -810],\n",
       "        [ 589,  590,  591, ..., -489, -490, -493]], dtype=int16), array([[600]], dtype=uint16), array([[5000]], dtype=uint16), array([[array(['LD_1'], dtype='<U4'), array(['LD_3'], dtype='<U4'),\n",
       "         array(['LD_4'], dtype='<U4'), array(['LD_5'], dtype='<U4'),\n",
       "         array(['LD_6'], dtype='<U4'), array(['LD_7'], dtype='<U4'),\n",
       "         array(['LD_8'], dtype='<U4'), array(['RD_1'], dtype='<U4'),\n",
       "         array(['RD_2'], dtype='<U4'), array(['RD_3'], dtype='<U4'),\n",
       "         array(['RD_4'], dtype='<U4'), array(['RD_5'], dtype='<U4'),\n",
       "         array(['RD_6'], dtype='<U4'), array(['RD_7'], dtype='<U4'),\n",
       "         array(['RD_8'], dtype='<U4')]], dtype=object), array([[1]], dtype=uint8))]],\n",
       "       dtype=[('data', 'O'), ('data_length_sec', 'O'), ('sampling_frequency', 'O'), ('channels', 'O'), ('sequence', 'O')])}"
      ]
     },
     "execution_count": 55,
     "metadata": {},
     "output_type": "execute_result"
    }
   ],
   "source": [
    "Patient_1_II"
   ]
  },
  {
   "cell_type": "code",
   "execution_count": 13,
   "id": "e3f85258",
   "metadata": {},
   "outputs": [
    {
     "data": {
      "text/plain": [
       "(15, 3000000)"
      ]
     },
     "execution_count": 13,
     "metadata": {},
     "output_type": "execute_result"
    }
   ],
   "source": [
    "Patient_1_II['interictal_segment_1'][0][0][0].shape"
   ]
  },
  {
   "cell_type": "code",
   "execution_count": 10,
   "id": "0557d9f7",
   "metadata": {},
   "outputs": [
    {
     "data": {
      "text/html": [
       "<div>\n",
       "<style scoped>\n",
       "    .dataframe tbody tr th:only-of-type {\n",
       "        vertical-align: middle;\n",
       "    }\n",
       "\n",
       "    .dataframe tbody tr th {\n",
       "        vertical-align: top;\n",
       "    }\n",
       "\n",
       "    .dataframe thead th {\n",
       "        text-align: right;\n",
       "    }\n",
       "</style>\n",
       "<table border=\"1\" class=\"dataframe\">\n",
       "  <thead>\n",
       "    <tr style=\"text-align: right;\">\n",
       "      <th></th>\n",
       "      <th>0</th>\n",
       "      <th>1</th>\n",
       "      <th>2</th>\n",
       "      <th>3</th>\n",
       "      <th>4</th>\n",
       "      <th>5</th>\n",
       "      <th>6</th>\n",
       "      <th>7</th>\n",
       "      <th>8</th>\n",
       "      <th>9</th>\n",
       "      <th>...</th>\n",
       "      <th>2999990</th>\n",
       "      <th>2999991</th>\n",
       "      <th>2999992</th>\n",
       "      <th>2999993</th>\n",
       "      <th>2999994</th>\n",
       "      <th>2999995</th>\n",
       "      <th>2999996</th>\n",
       "      <th>2999997</th>\n",
       "      <th>2999998</th>\n",
       "      <th>2999999</th>\n",
       "    </tr>\n",
       "  </thead>\n",
       "  <tbody>\n",
       "    <tr>\n",
       "      <th>0</th>\n",
       "      <td>122</td>\n",
       "      <td>122</td>\n",
       "      <td>122</td>\n",
       "      <td>122</td>\n",
       "      <td>124</td>\n",
       "      <td>126</td>\n",
       "      <td>127</td>\n",
       "      <td>127</td>\n",
       "      <td>127</td>\n",
       "      <td>127</td>\n",
       "      <td>...</td>\n",
       "      <td>36</td>\n",
       "      <td>36</td>\n",
       "      <td>36</td>\n",
       "      <td>36</td>\n",
       "      <td>35</td>\n",
       "      <td>35</td>\n",
       "      <td>35</td>\n",
       "      <td>34</td>\n",
       "      <td>33</td>\n",
       "      <td>31</td>\n",
       "    </tr>\n",
       "    <tr>\n",
       "      <th>1</th>\n",
       "      <td>641</td>\n",
       "      <td>642</td>\n",
       "      <td>642</td>\n",
       "      <td>643</td>\n",
       "      <td>644</td>\n",
       "      <td>644</td>\n",
       "      <td>644</td>\n",
       "      <td>644</td>\n",
       "      <td>645</td>\n",
       "      <td>645</td>\n",
       "      <td>...</td>\n",
       "      <td>-381</td>\n",
       "      <td>-381</td>\n",
       "      <td>-381</td>\n",
       "      <td>-382</td>\n",
       "      <td>-383</td>\n",
       "      <td>-384</td>\n",
       "      <td>-384</td>\n",
       "      <td>-385</td>\n",
       "      <td>-387</td>\n",
       "      <td>-389</td>\n",
       "    </tr>\n",
       "    <tr>\n",
       "      <th>2</th>\n",
       "      <td>358</td>\n",
       "      <td>358</td>\n",
       "      <td>356</td>\n",
       "      <td>356</td>\n",
       "      <td>357</td>\n",
       "      <td>359</td>\n",
       "      <td>360</td>\n",
       "      <td>359</td>\n",
       "      <td>359</td>\n",
       "      <td>359</td>\n",
       "      <td>...</td>\n",
       "      <td>-39</td>\n",
       "      <td>-38</td>\n",
       "      <td>-37</td>\n",
       "      <td>-37</td>\n",
       "      <td>-37</td>\n",
       "      <td>-36</td>\n",
       "      <td>-36</td>\n",
       "      <td>-36</td>\n",
       "      <td>-37</td>\n",
       "      <td>-40</td>\n",
       "    </tr>\n",
       "    <tr>\n",
       "      <th>3</th>\n",
       "      <td>351</td>\n",
       "      <td>351</td>\n",
       "      <td>350</td>\n",
       "      <td>349</td>\n",
       "      <td>350</td>\n",
       "      <td>351</td>\n",
       "      <td>352</td>\n",
       "      <td>352</td>\n",
       "      <td>351</td>\n",
       "      <td>350</td>\n",
       "      <td>...</td>\n",
       "      <td>-326</td>\n",
       "      <td>-326</td>\n",
       "      <td>-326</td>\n",
       "      <td>-326</td>\n",
       "      <td>-325</td>\n",
       "      <td>-324</td>\n",
       "      <td>-324</td>\n",
       "      <td>-326</td>\n",
       "      <td>-327</td>\n",
       "      <td>-329</td>\n",
       "    </tr>\n",
       "    <tr>\n",
       "      <th>4</th>\n",
       "      <td>299</td>\n",
       "      <td>300</td>\n",
       "      <td>300</td>\n",
       "      <td>300</td>\n",
       "      <td>300</td>\n",
       "      <td>301</td>\n",
       "      <td>302</td>\n",
       "      <td>301</td>\n",
       "      <td>300</td>\n",
       "      <td>300</td>\n",
       "      <td>...</td>\n",
       "      <td>-368</td>\n",
       "      <td>-367</td>\n",
       "      <td>-365</td>\n",
       "      <td>-364</td>\n",
       "      <td>-364</td>\n",
       "      <td>-364</td>\n",
       "      <td>-363</td>\n",
       "      <td>-362</td>\n",
       "      <td>-362</td>\n",
       "      <td>-363</td>\n",
       "    </tr>\n",
       "  </tbody>\n",
       "</table>\n",
       "<p>5 rows × 3000000 columns</p>\n",
       "</div>"
      ],
      "text/plain": [
       "   0        1        2        3        4        5        6        7        \\\n",
       "0      122      122      122      122      124      126      127      127   \n",
       "1      641      642      642      643      644      644      644      644   \n",
       "2      358      358      356      356      357      359      360      359   \n",
       "3      351      351      350      349      350      351      352      352   \n",
       "4      299      300      300      300      300      301      302      301   \n",
       "\n",
       "   8        9        ...  2999990  2999991  2999992  2999993  2999994  \\\n",
       "0      127      127  ...       36       36       36       36       35   \n",
       "1      645      645  ...     -381     -381     -381     -382     -383   \n",
       "2      359      359  ...      -39      -38      -37      -37      -37   \n",
       "3      351      350  ...     -326     -326     -326     -326     -325   \n",
       "4      300      300  ...     -368     -367     -365     -364     -364   \n",
       "\n",
       "   2999995  2999996  2999997  2999998  2999999  \n",
       "0       35       35       34       33       31  \n",
       "1     -384     -384     -385     -387     -389  \n",
       "2      -36      -36      -36      -37      -40  \n",
       "3     -324     -324     -326     -327     -329  \n",
       "4     -364     -363     -362     -362     -363  \n",
       "\n",
       "[5 rows x 3000000 columns]"
      ]
     },
     "execution_count": 10,
     "metadata": {},
     "output_type": "execute_result"
    }
   ],
   "source": [
    "Patient_1_II_df = pd.DataFrame(Patient_1_II['interictal_segment_1'][0][0][0])\n",
    "Patient_1_II_df.head()"
   ]
  },
  {
   "cell_type": "code",
   "execution_count": 11,
   "id": "c90e635e",
   "metadata": {},
   "outputs": [
    {
     "data": {
      "text/plain": [
       "[<matplotlib.lines.Line2D at 0x12dd734c0>]"
      ]
     },
     "execution_count": 11,
     "metadata": {},
     "output_type": "execute_result"
    },
    {
     "data": {
      "image/png": "[encoded data removed]",
      "text/plain": [
       "<Figure size 432x288 with 1 Axes>"
      ]
     },
     "metadata": {
      "needs_background": "light"
     },
     "output_type": "display_data"
    }
   ],
   "source": [
    "plt.plot(Patient_1_II_df.loc[0])"
   ]
  },
  {
   "cell_type": "markdown",
   "id": "1ffaa817",
   "metadata": {},
   "source": [
    "## Downsample one signal"
   ]
  },
  {
   "cell_type": "code",
   "execution_count": 12,
   "id": "3140a99c",
   "metadata": {},
   "outputs": [],
   "source": [
    "from scipy.signal import decimate"
   ]
  },
  {
   "cell_type": "code",
   "execution_count": 14,
   "id": "908eb2c6",
   "metadata": {},
   "outputs": [],
   "source": [
    "Patient_1_II_dec = decimate(Patient_1_II['interictal_segment_1'][0][0][0], 10)"
   ]
  },
  {
   "cell_type": "code",
   "execution_count": 15,
   "id": "a073258b",
   "metadata": {},
   "outputs": [
    {
     "data": {
      "text/plain": [
       "(15, 300000)"
      ]
     },
     "execution_count": 15,
     "metadata": {},
     "output_type": "execute_result"
    }
   ],
   "source": [
    "Patient_1_II_dec.shape"
   ]
  },
  {
   "cell_type": "code",
   "execution_count": 16,
   "id": "2915d1cb",
   "metadata": {},
   "outputs": [],
   "source": [
    "Patient_1_II_dec_dec = decimate(Patient_1_II_dec, 10)"
   ]
  },
  {
   "cell_type": "code",
   "execution_count": 17,
   "id": "b6e3ad7d",
   "metadata": {},
   "outputs": [
    {
     "data": {
      "text/plain": [
       "(15, 30000)"
      ]
     },
     "execution_count": 17,
     "metadata": {},
     "output_type": "execute_result"
    }
   ],
   "source": [
    "Patient_1_II_dec_dec.shape"
   ]
  },
  {
   "cell_type": "code",
   "execution_count": 18,
   "id": "3e5d61a1",
   "metadata": {
    "scrolled": true
   },
   "outputs": [
    {
     "data": {
      "text/plain": [
       "[<matplotlib.lines.Line2D at 0x1442c3070>]"
      ]
     },
     "execution_count": 18,
     "metadata": {},
     "output_type": "execute_result"
    },
    {
     "data": {
      "image/png": "[encoded data removed]",
      "text/plain": [
       "<Figure size 432x288 with 1 Axes>"
      ]
     },
     "metadata": {
      "needs_background": "light"
     },
     "output_type": "display_data"
    }
   ],
   "source": [
    "plt.plot(Patient_1_II_dec_dec[0])"
   ]
  },
  {
   "cell_type": "markdown",
   "id": "4680b72d",
   "metadata": {},
   "source": [
    "## Automate downsampling"
   ]
  },
  {
   "cell_type": "markdown",
   "id": "96e5d71b",
   "metadata": {},
   "source": [
    "For both human datasets, extract and downsample EEG signals for each .mat file. Export downsampled signals as CSV files in new folder."
   ]
  },
  {
   "cell_type": "code",
   "execution_count": 49,
   "id": "c334f6ea",
   "metadata": {},
   "outputs": [
    {
     "name": "stdout",
     "output_type": "stream",
     "text": [
      "/Users/commander/code/jhupiterz/timeseries_data/human_seizure_prediction\r\n"
     ]
    }
   ],
   "source": [
    "import os\n",
    "folder_path = '/Users/commander/code/jhupiterz/timeseries_data/human_seizure_prediction'\n",
    "!pwd"
   ]
  },
  {
   "cell_type": "code",
   "execution_count": 50,
   "id": "1bf85693",
   "metadata": {},
   "outputs": [],
   "source": [
    "dirs = ['Patient_1', 'Patient_2']\n",
    "files_1 = []\n",
    "files_2 = []\n",
    "\n",
    "for f in os.listdir(os.path.join(folder_path,dirs[0],dirs[0])):\n",
    "    files_1.append(f)\n",
    "    \n",
    "for f in os.listdir(os.path.join(folder_path,dirs[1],dirs[1])):\n",
    "    files_2.append(f)"
   ]
  },
  {
   "cell_type": "code",
   "execution_count": 52,
   "id": "5b1dfddf",
   "metadata": {},
   "outputs": [],
   "source": [
    "for f in files_1:\n",
    "    data = scipy.io.loadmat(f'Patient_1/Patient_1/{f}')\n",
    "    segment_name = list(data.keys())[-1]\n",
    "    array = decimate(decimate(data[segment_name][0][0][0],10),10) \n",
    "    dataframe = pd.DataFrame(array)\n",
    "    dataframe.to_csv(f'Patient_1_csv/{segment_name}.csv', index = False)"
   ]
  },
  {
   "cell_type": "code",
   "execution_count": 54,
   "id": "b801f95f",
   "metadata": {},
   "outputs": [],
   "source": [
    "for f in files_2:\n",
    "    data = scipy.io.loadmat(f'Patient_2/Patient_2/{f}')\n",
    "    segment_name = list(data.keys())[-1]\n",
    "    array = decimate(decimate(data[segment_name][0][0][0],10),10) \n",
    "    dataframe = pd.DataFrame(array)\n",
    "    #dataframe.drop('Unnamed: 0', axis = 1, inplace = True)\n",
    "    dataframe.to_csv(f'Patient_2_csv/{segment_name}.csv', index = False)"
   ]
  }
 ],
 "metadata": {
  "kernelspec": {
   "display_name": "Python 3",
   "language": "python",
   "name": "python3"
  },
  "language_info": {
   "codemirror_mode": {
    "name": "ipython",
    "version": 3
   },
   "file_extension": ".py",
   "mimetype": "text/x-python",
   "name": "python",
   "nbconvert_exporter": "python",
   "pygments_lexer": "ipython3",
   "version": "3.8.6"
  },
  "toc": {
   "base_numbering": 1,
   "nav_menu": {},
   "number_sections": true,
   "sideBar": true,
   "skip_h1_title": false,
   "title_cell": "Table of Contents",
   "title_sidebar": "Contents",
   "toc_cell": false,
   "toc_position": {},
   "toc_section_display": true,
   "toc_window_display": false
  }
 },
 "nbformat": 4,
 "nbformat_minor": 5
}
