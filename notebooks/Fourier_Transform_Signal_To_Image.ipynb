{
 "cells": [
  {
   "cell_type": "markdown",
   "id": "105030cb",
   "metadata": {},
   "source": [
    "# Short Fourier Transform\n"
   ]
  },
  {
   "cell_type": "markdown",
   "id": "761a2089",
   "metadata": {},
   "source": [
    "The first step is to convert our signals into an image.\n",
    "\n",
    "To do this, we use the short-time Fourier transform on each data item, which decomposes a function from the time domain into the frequency domain.\n",
    "\n",
    "Once our data is decomposed into frequencies, it is very easy to get an image out of it via a Spectrogram. \n",
    "\n",
    "Our basic data is now transformed into an image, which will be used in our next step "
   ]
  },
  {
   "cell_type": "code",
   "execution_count": 35,
   "id": "3fb8254a",
   "metadata": {},
   "outputs": [],
   "source": [
    "import pandas as pd\n",
    "import matplotlib.pyplot as plt\n",
    "import numpy as np\n",
    "from scipy import signal\n",
    "from statsmodels.tsa.stattools import acf, pacf\n",
    "from statsmodels.graphics.tsaplots import plot_acf, plot_pacf\n",
    "import librosa\n",
    "import matplotlib.pyplot as plt\n",
    "import matplotlib.image as mpimg\n",
    "from scipy.fft import fftshift\n",
    "import os\n",
    "from PIL import Image"
   ]
  },
  {
   "cell_type": "code",
   "execution_count": 54,
   "id": "6e870867",
   "metadata": {},
   "outputs": [
    {
     "name": "stdout",
     "output_type": "stream",
     "text": [
      "/Users/nicolasoederlin/code/jhupiterz/SafeSeizure/notebooks\r\n"
     ]
    }
   ],
   "source": [
    "!pwd"
   ]
  },
  {
   "cell_type": "code",
   "execution_count": null,
   "id": "e79cd1b6",
   "metadata": {},
   "outputs": [],
   "source": []
  },
  {
   "cell_type": "code",
   "execution_count": 55,
   "id": "08ac55ed",
   "metadata": {},
   "outputs": [
    {
     "ename": "FileNotFoundError",
     "evalue": "[Errno 2] No such file or directory: '/Users/nicolasoederlin/code/jhupiterz/SafeSeizure/SafeSeizure/data/Patient_1_csv'",
     "output_type": "error",
     "traceback": [
      "\u001b[0;31m---------------------------------------------------------------------------\u001b[0m",
      "\u001b[0;31mFileNotFoundError\u001b[0m                         Traceback (most recent call last)",
      "\u001b[0;32m<ipython-input-55-dda28be3bf5b>\u001b[0m in \u001b[0;36m<module>\u001b[0;34m\u001b[0m\n\u001b[0;32m----> 1\u001b[0;31m \u001b[0mfolder_patient1\u001b[0m \u001b[0;34m=\u001b[0m \u001b[0mos\u001b[0m\u001b[0;34m.\u001b[0m\u001b[0mlistdir\u001b[0m\u001b[0;34m(\u001b[0m\u001b[0;34m'/Users/nicolasoederlin/code/jhupiterz/SafeSeizure/SafeSeizure/data/Patient_1_csv'\u001b[0m\u001b[0;34m)\u001b[0m\u001b[0;34m\u001b[0m\u001b[0;34m\u001b[0m\u001b[0m\n\u001b[0m\u001b[1;32m      2\u001b[0m \u001b[0mfolder_patient2\u001b[0m \u001b[0;34m=\u001b[0m \u001b[0mos\u001b[0m\u001b[0;34m.\u001b[0m\u001b[0mlistdir\u001b[0m\u001b[0;34m(\u001b[0m\u001b[0;34m'/Users/nicolasoederlin/code/jhupiterz/SafeSeizure/SafeSeizure/data/Patient_2_csv'\u001b[0m\u001b[0;34m)\u001b[0m\u001b[0;34m\u001b[0m\u001b[0;34m\u001b[0m\u001b[0m\n",
      "\u001b[0;31mFileNotFoundError\u001b[0m: [Errno 2] No such file or directory: '/Users/nicolasoederlin/code/jhupiterz/SafeSeizure/SafeSeizure/data/Patient_1_csv'"
     ]
    }
   ],
   "source": [
    "folder_patient1 = os.listdir('/Users/nicolasoederlin/code/jhupiterz/SafeSeizure/SafeSeizure/data/Patient_1_csv')\n",
    "folder_patient2 = os.listdir('/Users/nicolasoederlin/code/jhupiterz/SafeSeizure/SafeSeizure/data/Patient_2_csv')"
   ]
  },
  {
   "cell_type": "code",
   "execution_count": 39,
   "id": "63651380",
   "metadata": {},
   "outputs": [
    {
     "data": {
      "image/png": "[encoded data removed]",
      "text/plain": [
       "<Figure size 432x288 with 1 Axes>"
      ]
     },
     "metadata": {
      "needs_background": "light"
     },
     "output_type": "display_data"
    }
   ],
   "source": [
    "a = 0\n",
    "for filename in folder_patient1:\n",
    "    if \"interictal\" in filename:\n",
    "        a += 1\n",
    "        data = pd.read_csv(f'../SafeSeizure/data/Patient_1_csv/{filename}')\n",
    "        for i in range (0,15):\n",
    "            arr = data.iloc[i]\n",
    "            f, t, Sxx = spectrogram(arr, fs=50, nperseg=256)\n",
    "            plt.imshow(Sxx[f<5,],aspect='auto',origin='lower',cmap='Greys_r')\n",
    "            plt.axis('off')\n",
    "            plt.savefig(f'/Users/nicolasoederlin/code/jhupiterz/SafeSeizure/SafeSeizure/data/interictal_images/sensor{i}/img{a}{i}.png', bbox_inches='tight',pad_inches = 0)\n",
    "    if \"preictal\" in filename:\n",
    "        a += 1\n",
    "        data = pd.read_csv(f'../SafeSeizure/data/Patient_1_csv/{filename}')\n",
    "        for i in range (0,15):\n",
    "            arr = data.iloc[i]\n",
    "            f, t, Sxx = spectrogram(arr, fs=50, nperseg=256)\n",
    "            plt.imshow(Sxx[f<5,],aspect='auto',origin='lower',cmap='Greys_r')\n",
    "            plt.axis('off')\n",
    "            plt.savefig(f'/Users/nicolasoederlin/code/jhupiterz/SafeSeizure/SafeSeizure/data/preictal_images/sensor{i}/img{a}{i}.png', bbox_inches='tight',pad_inches = 0)\n",
    "            "
   ]
  },
  {
   "cell_type": "code",
   "execution_count": 27,
   "id": "a9c06e13",
   "metadata": {},
   "outputs": [],
   "source": [
    "import numpy as np\n",
    "import pandas as pd\n",
    "import scipy.io\n",
    "from scipy.signal import spectrogram\n",
    "import matplotlib.pyplot as plt"
   ]
  },
  {
   "cell_type": "code",
   "execution_count": 38,
   "id": "8da5c828",
   "metadata": {},
   "outputs": [
    {
     "data": {
      "image/png": "[encoded data removed]",
      "text/plain": [
       "<Figure size 432x288 with 1 Axes>"
      ]
     },
     "metadata": {
      "needs_background": "light"
     },
     "output_type": "display_data"
    }
   ],
   "source": [
    "a = 0\n",
    "b = \"p2\"\n",
    "for filename in folder_patient2:\n",
    "    if \"interictal\" in filename:\n",
    "        a += 1\n",
    "        data = pd.read_csv(f'../SafeSeizure/data/Patient_2_csv/{filename}')\n",
    "        for i in range (0,15):\n",
    "            arr = data.iloc[i]\n",
    "            f, t, Sxx = spectrogram(arr, fs=50, nperseg=256)\n",
    "            plt.imshow(Sxx[f<5,],aspect='auto',origin='lower',cmap='Greys_r')\n",
    "            plt.axis('off')\n",
    "            plt.savefig(f'/Users/nicolasoederlin/code/jhupiterz/SafeSeizure/SafeSeizure/data/interictal_images/sensor{i}/img{b}{a}{i}.png', bbox_inches='tight',pad_inches = 0)\n",
    "    if \"preictal\" in filename:\n",
    "        a += 1\n",
    "        data = pd.read_csv(f'../SafeSeizure/data/Patient_1_csv/{filename}')\n",
    "        for i in range (0,15):\n",
    "            arr = data.iloc[i]\n",
    "            f, t, Sxx = spectrogram(arr, fs=50, nperseg=256)\n",
    "            plt.imshow(Sxx[f<5,],aspect='auto',origin='lower',cmap='Greys_r')\n",
    "            plt.axis('off')\n",
    "            plt.savefig(f'/Users/nicolasoederlin/code/jhupiterz/SafeSeizure/SafeSeizure/data/preictal_images/sensor{i}/img{b}{a}{i}.png', bbox_inches='tight',pad_inches = 0)\n",
    "            "
   ]
  },
  {
   "cell_type": "markdown",
   "id": "8efbad21",
   "metadata": {},
   "source": [
    "## This cell reorganizes the files to match the tf.keras.preprocessing.image_dataset_from_directory library\n"
   ]
  },
  {
   "cell_type": "markdown",
   "id": "708f0161",
   "metadata": {},
   "source": [
    "Adapt with your own path "
   ]
  },
  {
   "cell_type": "code",
   "execution_count": 49,
   "id": "5f1bda44",
   "metadata": {},
   "outputs": [],
   "source": [
    "dirName = '../SafeSeizure/data/';\n",
    "listOfFiles = list()\n",
    "for (dirpath, dirnames, filenames) in os.walk(dirName):\n",
    "    listOfFiles += [os.path.join(dirpath, file) for file in filenames]"
   ]
  },
  {
   "cell_type": "code",
   "execution_count": 53,
   "id": "9d605452",
   "metadata": {},
   "outputs": [
    {
     "name": "stdout",
     "output_type": "stream",
     "text": [
      "mkdir: dataset: File exists\r\n"
     ]
    }
   ],
   "source": [
    "import pandas as pd\n",
    "df = pd.DataFrame({'path': listOfFiles})\n",
    "df = df[df.path.str.contains('png')]\n",
    "files = df.path.values\n",
    "!mkdir {dirname}dataset\n",
    "for src in files:\n",
    "    class_, sensor, image_id = src.split('/')[-3:]\n",
    "    dest_file = f'{dirname}dataset/{sensor}/{class_}'\n",
    "    dest = f'{dest_file}/{image_id}'\n",
    "    !mkdir -p {dest_file}\n",
    "    !cp {src} {dest}"
   ]
  }
 ],
 "metadata": {
  "kernelspec": {
   "display_name": "Python 3",
   "language": "python",
   "name": "python3"
  },
  "language_info": {
   "codemirror_mode": {
    "name": "ipython",
    "version": 3
   },
   "file_extension": ".py",
   "mimetype": "text/x-python",
   "name": "python",
   "nbconvert_exporter": "python",
   "pygments_lexer": "ipython3",
   "version": "3.8.6"
  },
  "toc": {
   "base_numbering": 1,
   "nav_menu": {},
   "number_sections": true,
   "sideBar": true,
   "skip_h1_title": false,
   "title_cell": "Table of Contents",
   "title_sidebar": "Contents",
   "toc_cell": false,
   "toc_position": {},
   "toc_section_display": true,
   "toc_window_display": false
  }
 },
 "nbformat": 4,
 "nbformat_minor": 5
}
