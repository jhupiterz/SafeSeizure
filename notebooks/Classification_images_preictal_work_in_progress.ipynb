{
 "cells": [
  {
   "cell_type": "code",
   "execution_count": 1,
   "id": "719d5ca5",
   "metadata": {
    "ExecuteTime": {
     "end_time": "2021-06-17T14:58:29.553835Z",
     "start_time": "2021-06-17T14:58:29.391621Z"
    }
   },
   "outputs": [],
   "source": [
    "%load_ext autoreload\n",
    "%autoreload 2\n",
    "import pandas as pd\n",
    "import numpy as np\n",
    "import matplotlib.pyplot as plt\n",
    "import seaborn as sns\n",
    "from scipy.signal import stft, spectrogram #, welch : useless  \n",
    "from sklearn.preprocessing import RobustScaler\n",
    "from numpy.fft import rfft, irfft, rfftfreq\n",
    "from scipy import fftpack\n",
    "from scipy.io import loadmat"
   ]
  },
  {
   "cell_type": "code",
   "execution_count": 2,
   "id": "a4966674",
   "metadata": {
    "ExecuteTime": {
     "end_time": "2021-06-17T14:58:32.200414Z",
     "start_time": "2021-06-17T14:58:32.183028Z"
    }
   },
   "outputs": [],
   "source": [
    "from os import listdir, path, walk, makedirs"
   ]
  },
  {
   "cell_type": "code",
   "execution_count": 3,
   "id": "9292d0dc",
   "metadata": {
    "ExecuteTime": {
     "end_time": "2021-06-17T14:58:35.367213Z",
     "start_time": "2021-06-17T14:58:35.347845Z"
    }
   },
   "outputs": [],
   "source": [
    "def scaler(df):\n",
    "    return RobustScaler().fit_transform(df)"
   ]
  },
  {
   "cell_type": "code",
   "execution_count": 6,
   "id": "f0e1bc8f",
   "metadata": {
    "ExecuteTime": {
     "end_time": "2021-06-17T15:21:54.347221Z",
     "start_time": "2021-06-17T15:21:54.324102Z"
    }
   },
   "outputs": [],
   "source": [
    "import re\n",
    "\n",
    "def tryint(s):\n",
    "    try:\n",
    "        return int(s)\n",
    "    except:\n",
    "        return s\n",
    "\n",
    "def alphanum_key(s):\n",
    "    \"\"\" Turn a string into a list of string and number chunks.\n",
    "        \"z23a\" -> [\"z\", 23, \"a\"]\n",
    "    \"\"\"\n",
    "    return [ tryint(c) for c in re.split('([0-9]+)', s) ]\n",
    "\n",
    "def sort_nicely(l):\n",
    "    \"\"\" Sort the given list in the way that humans expect.\n",
    "    \"\"\"\n",
    "    l.sort(key=alphanum_key)"
   ]
  },
  {
   "cell_type": "code",
   "execution_count": 32,
   "id": "a7080a8f",
   "metadata": {
    "ExecuteTime": {
     "end_time": "2021-06-17T15:49:24.772357Z",
     "start_time": "2021-06-17T15:49:24.759079Z"
    }
   },
   "outputs": [],
   "source": [
    "def eeg_to_images(subject=str):\n",
    "    \n",
    "    filelist = [i for i in listdir(subject) if 'preictal' in i]\n",
    "    \n",
    "    sort_nicely(filelist)\n",
    "    \n",
    "    for root, dirs, files in walk(f'./{subject}'):\n",
    "        \n",
    "        for i in filelist:\n",
    "            c = 0 #counter to increment the filenames\n",
    "            print(i)\n",
    "            x = i.split('.')[0]\n",
    "            temp = pd.read_csv(path.join(root, i))\n",
    "            #temp = pd.DataFrame(scaler(temp))\n",
    "            #print(temp)\n",
    "            for j in range(temp.shape[0]):   #iterate through all sensors\n",
    "                f, t, Sxx = spectrogram(temp.iloc[j], fs=50, nperseg=256)\n",
    "                plt.imshow(Sxx[f<5,],aspect='auto',origin='lower',cmap='Greys_r')\n",
    "                plt.axis('off')\n",
    "                if not path.exists(path.join('preictal_images',f'sensor{j}')):\n",
    "                        makedirs(path.join('preictal_images',f'sensor{j}'))\n",
    "                \n",
    "                plt.savefig(f'preictal_images/sensor{j}/{x}_{c}.png', bbox_inches='tight',pad_inches = 0)\n",
    "                #print(variances.iloc[j])\n",
    "            c += 1\n",
    "    \n",
    "    print(\"Done\")"
   ]
  },
  {
   "cell_type": "code",
   "execution_count": 31,
   "id": "ea0d4f1e",
   "metadata": {
    "ExecuteTime": {
     "end_time": "2021-06-17T15:49:24.709801Z",
     "start_time": "2021-06-17T15:40:21.634247Z"
    }
   },
   "outputs": [
    {
     "name": "stdout",
     "output_type": "stream",
     "text": [
      "./Patient_1_csv\n",
      "./Patient_1_csv/Patient_1_csv\n",
      "preictal_segment_1.csv\n",
      "preictal_segment_2.csv\n",
      "preictal_segment_3.csv\n",
      "preictal_segment_4.csv\n",
      "preictal_segment_5.csv\n",
      "preictal_segment_6.csv\n",
      "preictal_segment_7.csv\n",
      "preictal_segment_8.csv\n",
      "preictal_segment_9.csv\n",
      "preictal_segment_10.csv\n",
      "preictal_segment_11.csv\n",
      "preictal_segment_12.csv\n",
      "preictal_segment_13.csv\n",
      "preictal_segment_14.csv\n",
      "preictal_segment_15.csv\n",
      "preictal_segment_16.csv\n",
      "preictal_segment_17.csv\n",
      "preictal_segment_18.csv\n",
      "Done\n"
     ]
    },
    {
     "data": {
      "image/png": "[encoded data removed]",
      "text/plain": [
       "<Figure size 432x288 with 1 Axes>"
      ]
     },
     "metadata": {},
     "output_type": "display_data"
    }
   ],
   "source": [
    "eeg_to_images('Patient_1_csv')"
   ]
  },
  {
   "cell_type": "code",
   "execution_count": null,
   "id": "d49c2011",
   "metadata": {},
   "outputs": [],
   "source": []
  }
 ],
 "metadata": {
  "kernelspec": {
   "display_name": "Python 3",
   "language": "python",
   "name": "python3"
  },
  "language_info": {
   "codemirror_mode": {
    "name": "ipython",
    "version": 3
   },
   "file_extension": ".py",
   "mimetype": "text/x-python",
   "name": "python",
   "nbconvert_exporter": "python",
   "pygments_lexer": "ipython3",
   "version": "3.8.9"
  },
  "toc": {
   "base_numbering": 1,
   "nav_menu": {},
   "number_sections": true,
   "sideBar": true,
   "skip_h1_title": false,
   "title_cell": "Table of Contents",
   "title_sidebar": "Contents",
   "toc_cell": false,
   "toc_position": {},
   "toc_section_display": true,
   "toc_window_display": false
  },
  "varInspector": {
   "cols": {
    "lenName": 16,
    "lenType": 16,
    "lenVar": 40
   },
   "kernels_config": {
    "python": {
     "delete_cmd_postfix": "",
     "delete_cmd_prefix": "del ",
     "library": "var_list.py",
     "varRefreshCmd": "print(var_dic_list())"
    },
    "r": {
     "delete_cmd_postfix": ") ",
     "delete_cmd_prefix": "rm(",
     "library": "var_list.r",
     "varRefreshCmd": "cat(var_dic_list()) "
    }
   },
   "types_to_exclude": [
    "module",
    "function",
    "builtin_function_or_method",
    "instance",
    "_Feature"
   ],
   "window_display": false
  }
 },
 "nbformat": 4,
 "nbformat_minor": 5
}
